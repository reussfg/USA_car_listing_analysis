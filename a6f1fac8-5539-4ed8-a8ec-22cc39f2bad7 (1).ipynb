{
 "cells": [
  {
   "cell_type": "markdown",
   "metadata": {},
   "source": [
    "# O que vende um carro?\n",
    "\n",
    "Recebemos centenas de propagandas gratuitas de veículos em nosso site todos os dias. Precisamos estudar os dados coletados nos últimos anos e determinar quais fatores influenciaram o preço de um veículo."
   ]
  },
  {
   "cell_type": "markdown",
   "metadata": {},
   "source": [
    "## Introdução ao projeto\n",
    "\n",
    "Este projeto tem como objetivo explorar um conjunto de dados contendo informações sobre veículos à venda nos EUA e realizar uma análise exploratória desses dados. Iniciando com o pré-processamento dos dados, iremos identificar valores ausentes e, quando apropriado, preenchê-los, além de converter os dados para os tipos necessários. Em seguida, iremos adicionar algumas colunas importantes para a análise, como dia da semana, mês e ano da propaganda, idade do veículo e média de quilometragem por ano. Também iremos substituir os valores de string na coluna \"condition\" por uma escala numérica.\n",
    "\n",
    "Na etapa de análise exploratória, iremos estudar vários parâmetros importantes, como preço, idade do veículo, quilometragem, número de cilindros e condição, construindo histogramas para cada um deles e estudando como os valores atípicos afetam a forma e a legibilidade dos histogramas. Também iremos determinar os limites superiores de valores atípicos e removê-los, construindo novos histogramas com os dados filtrados e comparando-os com os histogramas anteriores. Em seguida, iremos analisar o tempo de vida útil de uma propaganda e determinar quando as propagandas foram removidas rapidamente e quando foram listadas por um tempo anormalmente longo.\n",
    "\n",
    "Iremos também analisar o número de propagandas e o preço médio para cada tipo de veículo, construindo um gráfico para mostrar a dependência do número de propagandas em relação ao tipo de veículo e selecionando os dois tipos com o maior número de propagandas. Finalmente, iremos estudar quais fatores mais influenciam o preço, analisando se ele depende da idade, quilometragem, condição, tipo de transmissão e cor. Ao analisar variáveis categóricas, é importante observar que as categorias precisam ter pelo menos 50 propagandas para que seus parâmetros sejam válidos para análise.\n",
    "\n",
    "Todos esses passos serão realizados neste notebook Jupyter, utilizando células de código e células Markdown para explicação e formatação. Ao final, iremos concluir nossas descobertas e insights obtidos a partir desta análise exploratória de dados."
   ]
  },
  {
   "cell_type": "markdown",
   "metadata": {},
   "source": [
    "## Objetivo do projeto\n",
    "\n",
    "\n",
    "* \t\tEstude os seguintes parâmetros: preço, idade do veículo quando a propaganda foi colocada, quilometragem, número de cilindros, e condição. Construa histogramas para cada um desses parâmetros. Estude como valores atípicos afetam a forma e a legibilidade dos histogramas.\n",
    "\n",
    "* \t\tDetermine os limites superiores de valores atípicos, remova os valores atípicos, armazene-os em um DataFrame separado e continue seu trabalho com os dados filtrados.\n",
    "\n",
    "* \t\tUse os dados filtrados para construir novos histogramas. Compare-os com os histogramas anteriores (aqueles que incluem valores atípicos). Tire conclusões para cada histograma.\n",
    "\n",
    "* \t\tEstude quantos dias as propagandas foram exibidas (days_listed). Construa um histograma. Calcule a média e a mediana. Descreva o tempo de vida útil comum de uma propaganda. Determine quando as propagandas foram removidas rapidamente, e quando elas foram listadas por um tempo anormalmente longo.\n",
    "\n",
    "* \t\tAnalise o número de propagandas e o preço médio para cada tipo de veículo. Construa um gráfico mostrando a dependência do número de propagandas em relação ao tipo de veículo. Selecione os dois tipos com o maior número de propagandas.\n",
    "\n",
    "* \t\tQue fatores mais influenciam o preço? Pegue cada um dos tipos populares que você detectou no estágio anterior e estude se o preço depende da idade, quilometragem, condição, tipo de transmissão e cor. Para variáveis categóricas (tipo de transmissão e cor), construa gráficos de extremos e quartis, e crie gráficos de dispersão para o restante. Ao analisar variáveis categóricas, note que as categorias precisam ter pelo menos 50 propagandas; de outro modo, seus parâmetros não serão válidos para análise."
   ]
  },
  {
   "cell_type": "markdown",
   "metadata": {},
   "source": [
    "## Iniciação"
   ]
  },
  {
   "cell_type": "markdown",
   "metadata": {},
   "source": [
    "\n",
    "Iremos carregar nossas bibliotecas para trabalhar. \n",
    "\n",
    "Vamos utilizar Pandas como de padrão para trabalhar com a tabela de dados.\n",
    "\n",
    "Vamos utilizar algumas funcionalidade de numpy para geração de dados e verificação de cases.\n",
    "\n",
    "Iremos usar plt para plotar gráficos diferentes do que a ferramenta pandas fornece."
   ]
  },
  {
   "cell_type": "code",
   "execution_count": 197,
   "metadata": {},
   "outputs": [],
   "source": [
    "# Carregando todas as bibliotecas\n",
    "import pandas as pd\n",
    "import numpy as np\n",
    "import matplotlib.pyplot as plt"
   ]
  },
  {
   "cell_type": "markdown",
   "metadata": {},
   "source": [
    "### Carregue dados"
   ]
  },
  {
   "cell_type": "markdown",
   "metadata": {},
   "source": [
    "Vamos carregar nossos dados"
   ]
  },
  {
   "cell_type": "code",
   "execution_count": 198,
   "metadata": {},
   "outputs": [],
   "source": [
    "# Carregue o arquivo com os dados em um DataFrame\n",
    "try:\n",
    "    df = pd.read_csv(r'/Users/gabrielreus/Downloads/vehicles_us.csv')\n",
    "    \n",
    "# Carregando dados no JupyterHub\n",
    "except:\n",
    "    df = pd.read_csv(r'/datasets/vehicles_us.csv')"
   ]
  },
  {
   "cell_type": "code",
   "execution_count": 199,
   "metadata": {},
   "outputs": [
    {
     "data": {
      "text/html": [
       "<div>\n",
       "<style scoped>\n",
       "    .dataframe tbody tr th:only-of-type {\n",
       "        vertical-align: middle;\n",
       "    }\n",
       "\n",
       "    .dataframe tbody tr th {\n",
       "        vertical-align: top;\n",
       "    }\n",
       "\n",
       "    .dataframe thead th {\n",
       "        text-align: right;\n",
       "    }\n",
       "</style>\n",
       "<table border=\"1\" class=\"dataframe\">\n",
       "  <thead>\n",
       "    <tr style=\"text-align: right;\">\n",
       "      <th></th>\n",
       "      <th>price</th>\n",
       "      <th>model_year</th>\n",
       "      <th>model</th>\n",
       "      <th>condition</th>\n",
       "      <th>cylinders</th>\n",
       "      <th>fuel</th>\n",
       "      <th>odometer</th>\n",
       "      <th>transmission</th>\n",
       "      <th>type</th>\n",
       "      <th>paint_color</th>\n",
       "      <th>is_4wd</th>\n",
       "      <th>date_posted</th>\n",
       "      <th>days_listed</th>\n",
       "    </tr>\n",
       "  </thead>\n",
       "  <tbody>\n",
       "    <tr>\n",
       "      <th>0</th>\n",
       "      <td>9400</td>\n",
       "      <td>2011.0</td>\n",
       "      <td>bmw x5</td>\n",
       "      <td>good</td>\n",
       "      <td>6.0</td>\n",
       "      <td>gas</td>\n",
       "      <td>145000.0</td>\n",
       "      <td>automatic</td>\n",
       "      <td>SUV</td>\n",
       "      <td>NaN</td>\n",
       "      <td>1.0</td>\n",
       "      <td>2018-06-23</td>\n",
       "      <td>19</td>\n",
       "    </tr>\n",
       "    <tr>\n",
       "      <th>1</th>\n",
       "      <td>25500</td>\n",
       "      <td>NaN</td>\n",
       "      <td>ford f-150</td>\n",
       "      <td>good</td>\n",
       "      <td>6.0</td>\n",
       "      <td>gas</td>\n",
       "      <td>88705.0</td>\n",
       "      <td>automatic</td>\n",
       "      <td>pickup</td>\n",
       "      <td>white</td>\n",
       "      <td>1.0</td>\n",
       "      <td>2018-10-19</td>\n",
       "      <td>50</td>\n",
       "    </tr>\n",
       "    <tr>\n",
       "      <th>2</th>\n",
       "      <td>5500</td>\n",
       "      <td>2013.0</td>\n",
       "      <td>hyundai sonata</td>\n",
       "      <td>like new</td>\n",
       "      <td>4.0</td>\n",
       "      <td>gas</td>\n",
       "      <td>110000.0</td>\n",
       "      <td>automatic</td>\n",
       "      <td>sedan</td>\n",
       "      <td>red</td>\n",
       "      <td>NaN</td>\n",
       "      <td>2019-02-07</td>\n",
       "      <td>79</td>\n",
       "    </tr>\n",
       "    <tr>\n",
       "      <th>3</th>\n",
       "      <td>1500</td>\n",
       "      <td>2003.0</td>\n",
       "      <td>ford f-150</td>\n",
       "      <td>fair</td>\n",
       "      <td>8.0</td>\n",
       "      <td>gas</td>\n",
       "      <td>NaN</td>\n",
       "      <td>automatic</td>\n",
       "      <td>pickup</td>\n",
       "      <td>NaN</td>\n",
       "      <td>NaN</td>\n",
       "      <td>2019-03-22</td>\n",
       "      <td>9</td>\n",
       "    </tr>\n",
       "    <tr>\n",
       "      <th>4</th>\n",
       "      <td>14900</td>\n",
       "      <td>2017.0</td>\n",
       "      <td>chrysler 200</td>\n",
       "      <td>excellent</td>\n",
       "      <td>4.0</td>\n",
       "      <td>gas</td>\n",
       "      <td>80903.0</td>\n",
       "      <td>automatic</td>\n",
       "      <td>sedan</td>\n",
       "      <td>black</td>\n",
       "      <td>NaN</td>\n",
       "      <td>2019-04-02</td>\n",
       "      <td>28</td>\n",
       "    </tr>\n",
       "    <tr>\n",
       "      <th>...</th>\n",
       "      <td>...</td>\n",
       "      <td>...</td>\n",
       "      <td>...</td>\n",
       "      <td>...</td>\n",
       "      <td>...</td>\n",
       "      <td>...</td>\n",
       "      <td>...</td>\n",
       "      <td>...</td>\n",
       "      <td>...</td>\n",
       "      <td>...</td>\n",
       "      <td>...</td>\n",
       "      <td>...</td>\n",
       "      <td>...</td>\n",
       "    </tr>\n",
       "    <tr>\n",
       "      <th>51520</th>\n",
       "      <td>9249</td>\n",
       "      <td>2013.0</td>\n",
       "      <td>nissan maxima</td>\n",
       "      <td>like new</td>\n",
       "      <td>6.0</td>\n",
       "      <td>gas</td>\n",
       "      <td>88136.0</td>\n",
       "      <td>automatic</td>\n",
       "      <td>sedan</td>\n",
       "      <td>black</td>\n",
       "      <td>NaN</td>\n",
       "      <td>2018-10-03</td>\n",
       "      <td>37</td>\n",
       "    </tr>\n",
       "    <tr>\n",
       "      <th>51521</th>\n",
       "      <td>2700</td>\n",
       "      <td>2002.0</td>\n",
       "      <td>honda civic</td>\n",
       "      <td>salvage</td>\n",
       "      <td>4.0</td>\n",
       "      <td>gas</td>\n",
       "      <td>181500.0</td>\n",
       "      <td>automatic</td>\n",
       "      <td>sedan</td>\n",
       "      <td>white</td>\n",
       "      <td>NaN</td>\n",
       "      <td>2018-11-14</td>\n",
       "      <td>22</td>\n",
       "    </tr>\n",
       "    <tr>\n",
       "      <th>51522</th>\n",
       "      <td>3950</td>\n",
       "      <td>2009.0</td>\n",
       "      <td>hyundai sonata</td>\n",
       "      <td>excellent</td>\n",
       "      <td>4.0</td>\n",
       "      <td>gas</td>\n",
       "      <td>128000.0</td>\n",
       "      <td>automatic</td>\n",
       "      <td>sedan</td>\n",
       "      <td>blue</td>\n",
       "      <td>NaN</td>\n",
       "      <td>2018-11-15</td>\n",
       "      <td>32</td>\n",
       "    </tr>\n",
       "    <tr>\n",
       "      <th>51523</th>\n",
       "      <td>7455</td>\n",
       "      <td>2013.0</td>\n",
       "      <td>toyota corolla</td>\n",
       "      <td>good</td>\n",
       "      <td>4.0</td>\n",
       "      <td>gas</td>\n",
       "      <td>139573.0</td>\n",
       "      <td>automatic</td>\n",
       "      <td>sedan</td>\n",
       "      <td>black</td>\n",
       "      <td>NaN</td>\n",
       "      <td>2018-07-02</td>\n",
       "      <td>71</td>\n",
       "    </tr>\n",
       "    <tr>\n",
       "      <th>51524</th>\n",
       "      <td>6300</td>\n",
       "      <td>2014.0</td>\n",
       "      <td>nissan altima</td>\n",
       "      <td>good</td>\n",
       "      <td>4.0</td>\n",
       "      <td>gas</td>\n",
       "      <td>NaN</td>\n",
       "      <td>automatic</td>\n",
       "      <td>sedan</td>\n",
       "      <td>NaN</td>\n",
       "      <td>NaN</td>\n",
       "      <td>2018-06-05</td>\n",
       "      <td>10</td>\n",
       "    </tr>\n",
       "  </tbody>\n",
       "</table>\n",
       "<p>51525 rows × 13 columns</p>\n",
       "</div>"
      ],
      "text/plain": [
       "       price  model_year           model  condition  cylinders fuel  odometer  \\\n",
       "0       9400      2011.0          bmw x5       good        6.0  gas  145000.0   \n",
       "1      25500         NaN      ford f-150       good        6.0  gas   88705.0   \n",
       "2       5500      2013.0  hyundai sonata   like new        4.0  gas  110000.0   \n",
       "3       1500      2003.0      ford f-150       fair        8.0  gas       NaN   \n",
       "4      14900      2017.0    chrysler 200  excellent        4.0  gas   80903.0   \n",
       "...      ...         ...             ...        ...        ...  ...       ...   \n",
       "51520   9249      2013.0   nissan maxima   like new        6.0  gas   88136.0   \n",
       "51521   2700      2002.0     honda civic    salvage        4.0  gas  181500.0   \n",
       "51522   3950      2009.0  hyundai sonata  excellent        4.0  gas  128000.0   \n",
       "51523   7455      2013.0  toyota corolla       good        4.0  gas  139573.0   \n",
       "51524   6300      2014.0   nissan altima       good        4.0  gas       NaN   \n",
       "\n",
       "      transmission    type paint_color  is_4wd date_posted  days_listed  \n",
       "0        automatic     SUV         NaN     1.0  2018-06-23           19  \n",
       "1        automatic  pickup       white     1.0  2018-10-19           50  \n",
       "2        automatic   sedan         red     NaN  2019-02-07           79  \n",
       "3        automatic  pickup         NaN     NaN  2019-03-22            9  \n",
       "4        automatic   sedan       black     NaN  2019-04-02           28  \n",
       "...            ...     ...         ...     ...         ...          ...  \n",
       "51520    automatic   sedan       black     NaN  2018-10-03           37  \n",
       "51521    automatic   sedan       white     NaN  2018-11-14           22  \n",
       "51522    automatic   sedan        blue     NaN  2018-11-15           32  \n",
       "51523    automatic   sedan       black     NaN  2018-07-02           71  \n",
       "51524    automatic   sedan         NaN     NaN  2018-06-05           10  \n",
       "\n",
       "[51525 rows x 13 columns]"
      ]
     },
     "execution_count": 199,
     "metadata": {},
     "output_type": "execute_result"
    }
   ],
   "source": [
    "# Carregando as informações iniciais da DataFrame\n",
    "df"
   ]
  },
  {
   "cell_type": "markdown",
   "metadata": {},
   "source": [
    "### Explore os dados iniciais"
   ]
  },
  {
   "cell_type": "markdown",
   "metadata": {},
   "source": [
    "O conjunto de dados contém os seguintes campos:\n",
    "- `price`\n",
    "- `model_year`\n",
    "- `model`\n",
    "- `condition`\n",
    "- `cylinders`\n",
    "- `fuel` — gasolina, diesel etc.\n",
    "- `odometer` — a quilometragem do veículo quando a propaganda foi publicada \n",
    "- `transmission`\n",
    "- `paint_color`\n",
    "- `is_4wd` — Se o veículo é 4 por 4 (tipo Booleano)\n",
    "- `date_posted` — a data que a propaganda foi publicada\n",
    "- `days_listed` — dias desde a publicação até a retirada\n"
   ]
  },
  {
   "cell_type": "code",
   "execution_count": 200,
   "metadata": {},
   "outputs": [
    {
     "name": "stdout",
     "output_type": "stream",
     "text": [
      "<class 'pandas.core.frame.DataFrame'>\n",
      "RangeIndex: 51525 entries, 0 to 51524\n",
      "Data columns (total 13 columns):\n",
      " #   Column        Non-Null Count  Dtype  \n",
      "---  ------        --------------  -----  \n",
      " 0   price         51525 non-null  int64  \n",
      " 1   model_year    47906 non-null  float64\n",
      " 2   model         51525 non-null  object \n",
      " 3   condition     51525 non-null  object \n",
      " 4   cylinders     46265 non-null  float64\n",
      " 5   fuel          51525 non-null  object \n",
      " 6   odometer      43633 non-null  float64\n",
      " 7   transmission  51525 non-null  object \n",
      " 8   type          51525 non-null  object \n",
      " 9   paint_color   42258 non-null  object \n",
      " 10  is_4wd        25572 non-null  float64\n",
      " 11  date_posted   51525 non-null  object \n",
      " 12  days_listed   51525 non-null  int64  \n",
      "dtypes: float64(4), int64(2), object(7)\n",
      "memory usage: 5.1+ MB\n"
     ]
    }
   ],
   "source": [
    "# imprima as informações gerais/resumidas sobre o DataFrame\n",
    "df.info()"
   ]
  },
  {
   "cell_type": "code",
   "execution_count": 201,
   "metadata": {},
   "outputs": [
    {
     "data": {
      "text/html": [
       "<div>\n",
       "<style scoped>\n",
       "    .dataframe tbody tr th:only-of-type {\n",
       "        vertical-align: middle;\n",
       "    }\n",
       "\n",
       "    .dataframe tbody tr th {\n",
       "        vertical-align: top;\n",
       "    }\n",
       "\n",
       "    .dataframe thead th {\n",
       "        text-align: right;\n",
       "    }\n",
       "</style>\n",
       "<table border=\"1\" class=\"dataframe\">\n",
       "  <thead>\n",
       "    <tr style=\"text-align: right;\">\n",
       "      <th></th>\n",
       "      <th>price</th>\n",
       "      <th>model_year</th>\n",
       "      <th>model</th>\n",
       "      <th>condition</th>\n",
       "      <th>cylinders</th>\n",
       "      <th>fuel</th>\n",
       "      <th>odometer</th>\n",
       "      <th>transmission</th>\n",
       "      <th>type</th>\n",
       "      <th>paint_color</th>\n",
       "      <th>is_4wd</th>\n",
       "      <th>date_posted</th>\n",
       "      <th>days_listed</th>\n",
       "    </tr>\n",
       "  </thead>\n",
       "  <tbody>\n",
       "    <tr>\n",
       "      <th>0</th>\n",
       "      <td>9400</td>\n",
       "      <td>2011.0</td>\n",
       "      <td>bmw x5</td>\n",
       "      <td>good</td>\n",
       "      <td>6.0</td>\n",
       "      <td>gas</td>\n",
       "      <td>145000.0</td>\n",
       "      <td>automatic</td>\n",
       "      <td>SUV</td>\n",
       "      <td>NaN</td>\n",
       "      <td>1.0</td>\n",
       "      <td>2018-06-23</td>\n",
       "      <td>19</td>\n",
       "    </tr>\n",
       "    <tr>\n",
       "      <th>1</th>\n",
       "      <td>25500</td>\n",
       "      <td>NaN</td>\n",
       "      <td>ford f-150</td>\n",
       "      <td>good</td>\n",
       "      <td>6.0</td>\n",
       "      <td>gas</td>\n",
       "      <td>88705.0</td>\n",
       "      <td>automatic</td>\n",
       "      <td>pickup</td>\n",
       "      <td>white</td>\n",
       "      <td>1.0</td>\n",
       "      <td>2018-10-19</td>\n",
       "      <td>50</td>\n",
       "    </tr>\n",
       "    <tr>\n",
       "      <th>2</th>\n",
       "      <td>5500</td>\n",
       "      <td>2013.0</td>\n",
       "      <td>hyundai sonata</td>\n",
       "      <td>like new</td>\n",
       "      <td>4.0</td>\n",
       "      <td>gas</td>\n",
       "      <td>110000.0</td>\n",
       "      <td>automatic</td>\n",
       "      <td>sedan</td>\n",
       "      <td>red</td>\n",
       "      <td>NaN</td>\n",
       "      <td>2019-02-07</td>\n",
       "      <td>79</td>\n",
       "    </tr>\n",
       "    <tr>\n",
       "      <th>3</th>\n",
       "      <td>1500</td>\n",
       "      <td>2003.0</td>\n",
       "      <td>ford f-150</td>\n",
       "      <td>fair</td>\n",
       "      <td>8.0</td>\n",
       "      <td>gas</td>\n",
       "      <td>NaN</td>\n",
       "      <td>automatic</td>\n",
       "      <td>pickup</td>\n",
       "      <td>NaN</td>\n",
       "      <td>NaN</td>\n",
       "      <td>2019-03-22</td>\n",
       "      <td>9</td>\n",
       "    </tr>\n",
       "    <tr>\n",
       "      <th>4</th>\n",
       "      <td>14900</td>\n",
       "      <td>2017.0</td>\n",
       "      <td>chrysler 200</td>\n",
       "      <td>excellent</td>\n",
       "      <td>4.0</td>\n",
       "      <td>gas</td>\n",
       "      <td>80903.0</td>\n",
       "      <td>automatic</td>\n",
       "      <td>sedan</td>\n",
       "      <td>black</td>\n",
       "      <td>NaN</td>\n",
       "      <td>2019-04-02</td>\n",
       "      <td>28</td>\n",
       "    </tr>\n",
       "    <tr>\n",
       "      <th>5</th>\n",
       "      <td>14990</td>\n",
       "      <td>2014.0</td>\n",
       "      <td>chrysler 300</td>\n",
       "      <td>excellent</td>\n",
       "      <td>6.0</td>\n",
       "      <td>gas</td>\n",
       "      <td>57954.0</td>\n",
       "      <td>automatic</td>\n",
       "      <td>sedan</td>\n",
       "      <td>black</td>\n",
       "      <td>1.0</td>\n",
       "      <td>2018-06-20</td>\n",
       "      <td>15</td>\n",
       "    </tr>\n",
       "    <tr>\n",
       "      <th>6</th>\n",
       "      <td>12990</td>\n",
       "      <td>2015.0</td>\n",
       "      <td>toyota camry</td>\n",
       "      <td>excellent</td>\n",
       "      <td>4.0</td>\n",
       "      <td>gas</td>\n",
       "      <td>79212.0</td>\n",
       "      <td>automatic</td>\n",
       "      <td>sedan</td>\n",
       "      <td>white</td>\n",
       "      <td>NaN</td>\n",
       "      <td>2018-12-27</td>\n",
       "      <td>73</td>\n",
       "    </tr>\n",
       "    <tr>\n",
       "      <th>7</th>\n",
       "      <td>15990</td>\n",
       "      <td>2013.0</td>\n",
       "      <td>honda pilot</td>\n",
       "      <td>excellent</td>\n",
       "      <td>6.0</td>\n",
       "      <td>gas</td>\n",
       "      <td>109473.0</td>\n",
       "      <td>automatic</td>\n",
       "      <td>SUV</td>\n",
       "      <td>black</td>\n",
       "      <td>1.0</td>\n",
       "      <td>2019-01-07</td>\n",
       "      <td>68</td>\n",
       "    </tr>\n",
       "    <tr>\n",
       "      <th>8</th>\n",
       "      <td>11500</td>\n",
       "      <td>2012.0</td>\n",
       "      <td>kia sorento</td>\n",
       "      <td>excellent</td>\n",
       "      <td>4.0</td>\n",
       "      <td>gas</td>\n",
       "      <td>104174.0</td>\n",
       "      <td>automatic</td>\n",
       "      <td>SUV</td>\n",
       "      <td>NaN</td>\n",
       "      <td>1.0</td>\n",
       "      <td>2018-07-16</td>\n",
       "      <td>19</td>\n",
       "    </tr>\n",
       "    <tr>\n",
       "      <th>9</th>\n",
       "      <td>9200</td>\n",
       "      <td>2008.0</td>\n",
       "      <td>honda pilot</td>\n",
       "      <td>excellent</td>\n",
       "      <td>NaN</td>\n",
       "      <td>gas</td>\n",
       "      <td>147191.0</td>\n",
       "      <td>automatic</td>\n",
       "      <td>SUV</td>\n",
       "      <td>blue</td>\n",
       "      <td>1.0</td>\n",
       "      <td>2019-02-15</td>\n",
       "      <td>17</td>\n",
       "    </tr>\n",
       "  </tbody>\n",
       "</table>\n",
       "</div>"
      ],
      "text/plain": [
       "   price  model_year           model  condition  cylinders fuel  odometer  \\\n",
       "0   9400      2011.0          bmw x5       good        6.0  gas  145000.0   \n",
       "1  25500         NaN      ford f-150       good        6.0  gas   88705.0   \n",
       "2   5500      2013.0  hyundai sonata   like new        4.0  gas  110000.0   \n",
       "3   1500      2003.0      ford f-150       fair        8.0  gas       NaN   \n",
       "4  14900      2017.0    chrysler 200  excellent        4.0  gas   80903.0   \n",
       "5  14990      2014.0    chrysler 300  excellent        6.0  gas   57954.0   \n",
       "6  12990      2015.0    toyota camry  excellent        4.0  gas   79212.0   \n",
       "7  15990      2013.0     honda pilot  excellent        6.0  gas  109473.0   \n",
       "8  11500      2012.0     kia sorento  excellent        4.0  gas  104174.0   \n",
       "9   9200      2008.0     honda pilot  excellent        NaN  gas  147191.0   \n",
       "\n",
       "  transmission    type paint_color  is_4wd date_posted  days_listed  \n",
       "0    automatic     SUV         NaN     1.0  2018-06-23           19  \n",
       "1    automatic  pickup       white     1.0  2018-10-19           50  \n",
       "2    automatic   sedan         red     NaN  2019-02-07           79  \n",
       "3    automatic  pickup         NaN     NaN  2019-03-22            9  \n",
       "4    automatic   sedan       black     NaN  2019-04-02           28  \n",
       "5    automatic   sedan       black     1.0  2018-06-20           15  \n",
       "6    automatic   sedan       white     NaN  2018-12-27           73  \n",
       "7    automatic     SUV       black     1.0  2019-01-07           68  \n",
       "8    automatic     SUV         NaN     1.0  2018-07-16           19  \n",
       "9    automatic     SUV        blue     1.0  2019-02-15           17  "
      ]
     },
     "execution_count": 201,
     "metadata": {},
     "output_type": "execute_result"
    }
   ],
   "source": [
    "# Olhando os 10 primeiros valores da df\n",
    "df.head(10)"
   ]
  },
  {
   "cell_type": "code",
   "execution_count": 202,
   "metadata": {},
   "outputs": [
    {
     "data": {
      "text/html": [
       "<div>\n",
       "<style scoped>\n",
       "    .dataframe tbody tr th:only-of-type {\n",
       "        vertical-align: middle;\n",
       "    }\n",
       "\n",
       "    .dataframe tbody tr th {\n",
       "        vertical-align: top;\n",
       "    }\n",
       "\n",
       "    .dataframe thead th {\n",
       "        text-align: right;\n",
       "    }\n",
       "</style>\n",
       "<table border=\"1\" class=\"dataframe\">\n",
       "  <thead>\n",
       "    <tr style=\"text-align: right;\">\n",
       "      <th></th>\n",
       "      <th>price</th>\n",
       "      <th>model_year</th>\n",
       "      <th>model</th>\n",
       "      <th>condition</th>\n",
       "      <th>cylinders</th>\n",
       "      <th>fuel</th>\n",
       "      <th>odometer</th>\n",
       "      <th>transmission</th>\n",
       "      <th>type</th>\n",
       "      <th>paint_color</th>\n",
       "      <th>is_4wd</th>\n",
       "      <th>date_posted</th>\n",
       "      <th>days_listed</th>\n",
       "    </tr>\n",
       "  </thead>\n",
       "  <tbody>\n",
       "    <tr>\n",
       "      <th>51515</th>\n",
       "      <td>12000</td>\n",
       "      <td>2005.0</td>\n",
       "      <td>chevrolet silverado 2500hd</td>\n",
       "      <td>good</td>\n",
       "      <td>8.0</td>\n",
       "      <td>diesel</td>\n",
       "      <td>228000.0</td>\n",
       "      <td>automatic</td>\n",
       "      <td>pickup</td>\n",
       "      <td>silver</td>\n",
       "      <td>1.0</td>\n",
       "      <td>2018-08-18</td>\n",
       "      <td>52</td>\n",
       "    </tr>\n",
       "    <tr>\n",
       "      <th>51516</th>\n",
       "      <td>8999</td>\n",
       "      <td>2011.0</td>\n",
       "      <td>jeep grand cherokee</td>\n",
       "      <td>good</td>\n",
       "      <td>6.0</td>\n",
       "      <td>gas</td>\n",
       "      <td>NaN</td>\n",
       "      <td>automatic</td>\n",
       "      <td>SUV</td>\n",
       "      <td>white</td>\n",
       "      <td>1.0</td>\n",
       "      <td>2018-11-01</td>\n",
       "      <td>51</td>\n",
       "    </tr>\n",
       "    <tr>\n",
       "      <th>51517</th>\n",
       "      <td>11000</td>\n",
       "      <td>2012.0</td>\n",
       "      <td>dodge charger</td>\n",
       "      <td>excellent</td>\n",
       "      <td>8.0</td>\n",
       "      <td>gas</td>\n",
       "      <td>81000.0</td>\n",
       "      <td>automatic</td>\n",
       "      <td>sedan</td>\n",
       "      <td>black</td>\n",
       "      <td>NaN</td>\n",
       "      <td>2019-04-19</td>\n",
       "      <td>44</td>\n",
       "    </tr>\n",
       "    <tr>\n",
       "      <th>51518</th>\n",
       "      <td>3750</td>\n",
       "      <td>2005.0</td>\n",
       "      <td>ford taurus</td>\n",
       "      <td>excellent</td>\n",
       "      <td>6.0</td>\n",
       "      <td>gas</td>\n",
       "      <td>110200.0</td>\n",
       "      <td>automatic</td>\n",
       "      <td>sedan</td>\n",
       "      <td>silver</td>\n",
       "      <td>NaN</td>\n",
       "      <td>2018-08-10</td>\n",
       "      <td>63</td>\n",
       "    </tr>\n",
       "    <tr>\n",
       "      <th>51519</th>\n",
       "      <td>11750</td>\n",
       "      <td>2015.0</td>\n",
       "      <td>honda accord</td>\n",
       "      <td>excellent</td>\n",
       "      <td>4.0</td>\n",
       "      <td>gas</td>\n",
       "      <td>NaN</td>\n",
       "      <td>automatic</td>\n",
       "      <td>coupe</td>\n",
       "      <td>NaN</td>\n",
       "      <td>NaN</td>\n",
       "      <td>2018-11-24</td>\n",
       "      <td>89</td>\n",
       "    </tr>\n",
       "    <tr>\n",
       "      <th>51520</th>\n",
       "      <td>9249</td>\n",
       "      <td>2013.0</td>\n",
       "      <td>nissan maxima</td>\n",
       "      <td>like new</td>\n",
       "      <td>6.0</td>\n",
       "      <td>gas</td>\n",
       "      <td>88136.0</td>\n",
       "      <td>automatic</td>\n",
       "      <td>sedan</td>\n",
       "      <td>black</td>\n",
       "      <td>NaN</td>\n",
       "      <td>2018-10-03</td>\n",
       "      <td>37</td>\n",
       "    </tr>\n",
       "    <tr>\n",
       "      <th>51521</th>\n",
       "      <td>2700</td>\n",
       "      <td>2002.0</td>\n",
       "      <td>honda civic</td>\n",
       "      <td>salvage</td>\n",
       "      <td>4.0</td>\n",
       "      <td>gas</td>\n",
       "      <td>181500.0</td>\n",
       "      <td>automatic</td>\n",
       "      <td>sedan</td>\n",
       "      <td>white</td>\n",
       "      <td>NaN</td>\n",
       "      <td>2018-11-14</td>\n",
       "      <td>22</td>\n",
       "    </tr>\n",
       "    <tr>\n",
       "      <th>51522</th>\n",
       "      <td>3950</td>\n",
       "      <td>2009.0</td>\n",
       "      <td>hyundai sonata</td>\n",
       "      <td>excellent</td>\n",
       "      <td>4.0</td>\n",
       "      <td>gas</td>\n",
       "      <td>128000.0</td>\n",
       "      <td>automatic</td>\n",
       "      <td>sedan</td>\n",
       "      <td>blue</td>\n",
       "      <td>NaN</td>\n",
       "      <td>2018-11-15</td>\n",
       "      <td>32</td>\n",
       "    </tr>\n",
       "    <tr>\n",
       "      <th>51523</th>\n",
       "      <td>7455</td>\n",
       "      <td>2013.0</td>\n",
       "      <td>toyota corolla</td>\n",
       "      <td>good</td>\n",
       "      <td>4.0</td>\n",
       "      <td>gas</td>\n",
       "      <td>139573.0</td>\n",
       "      <td>automatic</td>\n",
       "      <td>sedan</td>\n",
       "      <td>black</td>\n",
       "      <td>NaN</td>\n",
       "      <td>2018-07-02</td>\n",
       "      <td>71</td>\n",
       "    </tr>\n",
       "    <tr>\n",
       "      <th>51524</th>\n",
       "      <td>6300</td>\n",
       "      <td>2014.0</td>\n",
       "      <td>nissan altima</td>\n",
       "      <td>good</td>\n",
       "      <td>4.0</td>\n",
       "      <td>gas</td>\n",
       "      <td>NaN</td>\n",
       "      <td>automatic</td>\n",
       "      <td>sedan</td>\n",
       "      <td>NaN</td>\n",
       "      <td>NaN</td>\n",
       "      <td>2018-06-05</td>\n",
       "      <td>10</td>\n",
       "    </tr>\n",
       "  </tbody>\n",
       "</table>\n",
       "</div>"
      ],
      "text/plain": [
       "       price  model_year                       model  condition  cylinders  \\\n",
       "51515  12000      2005.0  chevrolet silverado 2500hd       good        8.0   \n",
       "51516   8999      2011.0         jeep grand cherokee       good        6.0   \n",
       "51517  11000      2012.0               dodge charger  excellent        8.0   \n",
       "51518   3750      2005.0                 ford taurus  excellent        6.0   \n",
       "51519  11750      2015.0                honda accord  excellent        4.0   \n",
       "51520   9249      2013.0               nissan maxima   like new        6.0   \n",
       "51521   2700      2002.0                 honda civic    salvage        4.0   \n",
       "51522   3950      2009.0              hyundai sonata  excellent        4.0   \n",
       "51523   7455      2013.0              toyota corolla       good        4.0   \n",
       "51524   6300      2014.0               nissan altima       good        4.0   \n",
       "\n",
       "         fuel  odometer transmission    type paint_color  is_4wd date_posted  \\\n",
       "51515  diesel  228000.0    automatic  pickup      silver     1.0  2018-08-18   \n",
       "51516     gas       NaN    automatic     SUV       white     1.0  2018-11-01   \n",
       "51517     gas   81000.0    automatic   sedan       black     NaN  2019-04-19   \n",
       "51518     gas  110200.0    automatic   sedan      silver     NaN  2018-08-10   \n",
       "51519     gas       NaN    automatic   coupe         NaN     NaN  2018-11-24   \n",
       "51520     gas   88136.0    automatic   sedan       black     NaN  2018-10-03   \n",
       "51521     gas  181500.0    automatic   sedan       white     NaN  2018-11-14   \n",
       "51522     gas  128000.0    automatic   sedan        blue     NaN  2018-11-15   \n",
       "51523     gas  139573.0    automatic   sedan       black     NaN  2018-07-02   \n",
       "51524     gas       NaN    automatic   sedan         NaN     NaN  2018-06-05   \n",
       "\n",
       "       days_listed  \n",
       "51515           52  \n",
       "51516           51  \n",
       "51517           44  \n",
       "51518           63  \n",
       "51519           89  \n",
       "51520           37  \n",
       "51521           22  \n",
       "51522           32  \n",
       "51523           71  \n",
       "51524           10  "
      ]
     },
     "execution_count": 202,
     "metadata": {},
     "output_type": "execute_result"
    }
   ],
   "source": [
    "# Olhando os 10 últimos valores da df\n",
    "df.tail(10)"
   ]
  },
  {
   "cell_type": "markdown",
   "metadata": {},
   "source": [
    "Acerca de valores nulos temos nulos em:\n",
    "\n",
    "* model_year\n",
    "* cylinders\n",
    "* odometer\n",
    "* paint_color\n",
    "* is_4wd (são valores booleanos, vamos dar uma olhada mais a frente - provavelmente não estão faltando)\n",
    "\n",
    "Em is_wd, pela visão geral dos dados é possível observar que é uma métrica booleana em que 1 significa 'Sim' e 0 'Não'. Por isso temos valores nulos que teremos que corrigir. Iremos lidar mais a frente verificando com clareza."
   ]
  },
  {
   "cell_type": "markdown",
   "metadata": {},
   "source": [
    "Acerca do padrão utilizado :\n",
    "\n",
    "* O padrão do cabeçalho está em snake_case.\n",
    "* model_year é o ano está em float e iremos converter para int;\n",
    "* As colunas que armazenam strings foram armazenadas como object - padrão da biblioteca pandas.\n",
    "* a coluna cylinders está como float, como sabemos, os cilindros do carro são números inteiros e iremos converter para int.\n",
    "* a coluna odometer, siginifica a kilometragem do carro, por padrão utilizamos esta medida como inteira. Na df está como float e iremos converter para inteira.\n",
    "* em is_4wd iremos analisar a coluna, como dito anteriormente a suspeita é que seja uma coluna do tipo bool. Está como float, se estiver certo iremos alterar.\n",
    "* a coluna date_posted está como tipo object, precisamos alterar para dt.time."
   ]
  },
  {
   "cell_type": "markdown",
   "metadata": {},
   "source": [
    "Temos valores nulos em 5 colunas diferentes. A coluna com maior valor é **is_4wd**, como suspeitamos que a coluna deveria ser tipo bool podemos dizer que a coluna com mais valores ausentes deveria ser a **paint_color**."
   ]
  },
  {
   "cell_type": "markdown",
   "metadata": {},
   "source": [
    "### Conclusões e próximos passos\n",
    "\n",
    "Olhando, inicialmente, a df pode-se observar que existem valores ausentes que alguns dados necessitam ser trabalhados.\n",
    "\n",
    "A coluna is_4wd necessita ser trabalhada, contém muitos valores nulos. Estudando mais de perto os dados ali contidos, pode-se observar que o valores nulos deveriam ser igual a 0. É uma coluna booleana a qual indica quando '1' que o carro é 4x4 e '0' quando não é 4x4.\n",
    "\n",
    "As colunas com valores faltantes necessitamos analisar corretamente. Podemos por meio de correlação e distribuição substituir os dados que faltam em:\n",
    "\n",
    "Como próximos passos iremos estudar as colunas com valores ausentes para decidir se iremos descartar ou preencher com valores baseados em nossas hipóteses."
   ]
  },
  {
   "cell_type": "markdown",
   "metadata": {},
   "source": [
    "## Cuide dos valores ausentes (se houver algum)"
   ]
  },
  {
   "cell_type": "markdown",
   "metadata": {},
   "source": [
    "\n",
    "Iremos começar a estudar o valores nas colunas ausentes para entendimento da aleatoriedade dos dados e o volume de dados ausentes.\n",
    "\n",
    "Além disso, iremos gerar, inicialmente, uma matriz de correlação para as colunas em df original, sem filtro. Iremos utilizar como um guia inicial para as correlações possíveis"
   ]
  },
  {
   "cell_type": "code",
   "execution_count": 203,
   "metadata": {},
   "outputs": [
    {
     "name": "stderr",
     "output_type": "stream",
     "text": [
      "/opt/conda/lib/python3.9/site-packages/pandas/io/formats/style.py:1264: RuntimeWarning: All-NaN slice encountered\n",
      "  smin = np.nanmin(s.to_numpy()) if vmin is None else vmin\n",
      "/opt/conda/lib/python3.9/site-packages/pandas/io/formats/style.py:1265: RuntimeWarning: All-NaN slice encountered\n",
      "  smax = np.nanmax(s.to_numpy()) if vmax is None else vmax\n"
     ]
    },
    {
     "data": {
      "text/html": [
       "<style  type=\"text/css\" >\n",
       "#T_5b9f9_row0_col0,#T_5b9f9_row1_col1,#T_5b9f9_row2_col2,#T_5b9f9_row3_col3,#T_5b9f9_row5_col5{\n",
       "            background-color:  #b40426;\n",
       "            color:  #f1f1f1;\n",
       "        }#T_5b9f9_row0_col1{\n",
       "            background-color:  #f3c8b2;\n",
       "            color:  #000000;\n",
       "        }#T_5b9f9_row0_col2{\n",
       "            background-color:  #bcd2f7;\n",
       "            color:  #000000;\n",
       "        }#T_5b9f9_row0_col3{\n",
       "            background-color:  #455cce;\n",
       "            color:  #f1f1f1;\n",
       "        }#T_5b9f9_row0_col4,#T_5b9f9_row1_col4,#T_5b9f9_row2_col4,#T_5b9f9_row3_col4,#T_5b9f9_row4_col0,#T_5b9f9_row4_col1,#T_5b9f9_row4_col2,#T_5b9f9_row4_col3,#T_5b9f9_row4_col4,#T_5b9f9_row4_col5,#T_5b9f9_row5_col4{\n",
       "            background-color:  #000000;\n",
       "            color:  #f1f1f1;\n",
       "        }#T_5b9f9_row0_col5{\n",
       "            background-color:  #3c4ec2;\n",
       "            color:  #f1f1f1;\n",
       "        }#T_5b9f9_row1_col0{\n",
       "            background-color:  #f2cbb7;\n",
       "            color:  #000000;\n",
       "        }#T_5b9f9_row1_col2,#T_5b9f9_row1_col3,#T_5b9f9_row1_col5,#T_5b9f9_row3_col0,#T_5b9f9_row3_col1{\n",
       "            background-color:  #3b4cc0;\n",
       "            color:  #f1f1f1;\n",
       "        }#T_5b9f9_row2_col0{\n",
       "            background-color:  #dedcdb;\n",
       "            color:  #000000;\n",
       "        }#T_5b9f9_row2_col1{\n",
       "            background-color:  #82a6fb;\n",
       "            color:  #000000;\n",
       "        }#T_5b9f9_row2_col3{\n",
       "            background-color:  #bad0f8;\n",
       "            color:  #000000;\n",
       "        }#T_5b9f9_row2_col5,#T_5b9f9_row3_col5{\n",
       "            background-color:  #3d50c3;\n",
       "            color:  #f1f1f1;\n",
       "        }#T_5b9f9_row3_col2{\n",
       "            background-color:  #7ea1fa;\n",
       "            color:  #000000;\n",
       "        }#T_5b9f9_row5_col0{\n",
       "            background-color:  #9dbdff;\n",
       "            color:  #000000;\n",
       "        }#T_5b9f9_row5_col1{\n",
       "            background-color:  #a5c3fe;\n",
       "            color:  #000000;\n",
       "        }#T_5b9f9_row5_col2{\n",
       "            background-color:  #6485ec;\n",
       "            color:  #000000;\n",
       "        }#T_5b9f9_row5_col3{\n",
       "            background-color:  #a6c4fe;\n",
       "            color:  #000000;\n",
       "        }</style><table id=\"T_5b9f9_\" ><thead>    <tr>        <th class=\"blank level0\" ></th>        <th class=\"col_heading level0 col0\" >price</th>        <th class=\"col_heading level0 col1\" >model_year</th>        <th class=\"col_heading level0 col2\" >cylinders</th>        <th class=\"col_heading level0 col3\" >odometer</th>        <th class=\"col_heading level0 col4\" >is_4wd</th>        <th class=\"col_heading level0 col5\" >days_listed</th>    </tr></thead><tbody>\n",
       "                <tr>\n",
       "                        <th id=\"T_5b9f9_level0_row0\" class=\"row_heading level0 row0\" >price</th>\n",
       "                        <td id=\"T_5b9f9_row0_col0\" class=\"data row0 col0\" >1.000000</td>\n",
       "                        <td id=\"T_5b9f9_row0_col1\" class=\"data row0 col1\" >0.428656</td>\n",
       "                        <td id=\"T_5b9f9_row0_col2\" class=\"data row0 col2\" >0.296627</td>\n",
       "                        <td id=\"T_5b9f9_row0_col3\" class=\"data row0 col3\" >-0.420299</td>\n",
       "                        <td id=\"T_5b9f9_row0_col4\" class=\"data row0 col4\" >nan</td>\n",
       "                        <td id=\"T_5b9f9_row0_col5\" class=\"data row0 col5\" >-0.000682</td>\n",
       "            </tr>\n",
       "            <tr>\n",
       "                        <th id=\"T_5b9f9_level0_row1\" class=\"row_heading level0 row1\" >model_year</th>\n",
       "                        <td id=\"T_5b9f9_row1_col0\" class=\"data row1 col0\" >0.428656</td>\n",
       "                        <td id=\"T_5b9f9_row1_col1\" class=\"data row1 col1\" >1.000000</td>\n",
       "                        <td id=\"T_5b9f9_row1_col2\" class=\"data row1 col2\" >-0.148040</td>\n",
       "                        <td id=\"T_5b9f9_row1_col3\" class=\"data row1 col3\" >-0.473948</td>\n",
       "                        <td id=\"T_5b9f9_row1_col4\" class=\"data row1 col4\" >nan</td>\n",
       "                        <td id=\"T_5b9f9_row1_col5\" class=\"data row1 col5\" >-0.005703</td>\n",
       "            </tr>\n",
       "            <tr>\n",
       "                        <th id=\"T_5b9f9_level0_row2\" class=\"row_heading level0 row2\" >cylinders</th>\n",
       "                        <td id=\"T_5b9f9_row2_col0\" class=\"data row2 col0\" >0.296627</td>\n",
       "                        <td id=\"T_5b9f9_row2_col1\" class=\"data row2 col1\" >-0.148040</td>\n",
       "                        <td id=\"T_5b9f9_row2_col2\" class=\"data row2 col2\" >1.000000</td>\n",
       "                        <td id=\"T_5b9f9_row2_col3\" class=\"data row2 col3\" >0.090160</td>\n",
       "                        <td id=\"T_5b9f9_row2_col4\" class=\"data row2 col4\" >nan</td>\n",
       "                        <td id=\"T_5b9f9_row2_col5\" class=\"data row2 col5\" >0.005517</td>\n",
       "            </tr>\n",
       "            <tr>\n",
       "                        <th id=\"T_5b9f9_level0_row3\" class=\"row_heading level0 row3\" >odometer</th>\n",
       "                        <td id=\"T_5b9f9_row3_col0\" class=\"data row3 col0\" >-0.420299</td>\n",
       "                        <td id=\"T_5b9f9_row3_col1\" class=\"data row3 col1\" >-0.473948</td>\n",
       "                        <td id=\"T_5b9f9_row3_col2\" class=\"data row3 col2\" >0.090160</td>\n",
       "                        <td id=\"T_5b9f9_row3_col3\" class=\"data row3 col3\" >1.000000</td>\n",
       "                        <td id=\"T_5b9f9_row3_col4\" class=\"data row3 col4\" >nan</td>\n",
       "                        <td id=\"T_5b9f9_row3_col5\" class=\"data row3 col5\" >0.003804</td>\n",
       "            </tr>\n",
       "            <tr>\n",
       "                        <th id=\"T_5b9f9_level0_row4\" class=\"row_heading level0 row4\" >is_4wd</th>\n",
       "                        <td id=\"T_5b9f9_row4_col0\" class=\"data row4 col0\" >nan</td>\n",
       "                        <td id=\"T_5b9f9_row4_col1\" class=\"data row4 col1\" >nan</td>\n",
       "                        <td id=\"T_5b9f9_row4_col2\" class=\"data row4 col2\" >nan</td>\n",
       "                        <td id=\"T_5b9f9_row4_col3\" class=\"data row4 col3\" >nan</td>\n",
       "                        <td id=\"T_5b9f9_row4_col4\" class=\"data row4 col4\" >nan</td>\n",
       "                        <td id=\"T_5b9f9_row4_col5\" class=\"data row4 col5\" >nan</td>\n",
       "            </tr>\n",
       "            <tr>\n",
       "                        <th id=\"T_5b9f9_level0_row5\" class=\"row_heading level0 row5\" >days_listed</th>\n",
       "                        <td id=\"T_5b9f9_row5_col0\" class=\"data row5 col0\" >-0.000682</td>\n",
       "                        <td id=\"T_5b9f9_row5_col1\" class=\"data row5 col1\" >-0.005703</td>\n",
       "                        <td id=\"T_5b9f9_row5_col2\" class=\"data row5 col2\" >0.005517</td>\n",
       "                        <td id=\"T_5b9f9_row5_col3\" class=\"data row5 col3\" >0.003804</td>\n",
       "                        <td id=\"T_5b9f9_row5_col4\" class=\"data row5 col4\" >nan</td>\n",
       "                        <td id=\"T_5b9f9_row5_col5\" class=\"data row5 col5\" >1.000000</td>\n",
       "            </tr>\n",
       "    </tbody></table>"
      ],
      "text/plain": [
       "<pandas.io.formats.style.Styler at 0x7f65f48de550>"
      ]
     },
     "execution_count": 203,
     "metadata": {},
     "output_type": "execute_result"
    }
   ],
   "source": [
    "# Matriz correlação em HeatMap\n",
    "df.corr().style.background_gradient(cmap='coolwarm')"
   ]
  },
  {
   "cell_type": "markdown",
   "metadata": {},
   "source": [
    "Inicialmente, que a correlação mais positiva é entre 'price' e 'model_year'"
   ]
  },
  {
   "cell_type": "markdown",
   "metadata": {},
   "source": [
    "### Estudo para a coluna model_year\n",
    "\n",
    "Iremos analisar os dados de model_year e analisar possíveis correlações ou padrões."
   ]
  },
  {
   "cell_type": "code",
   "execution_count": 204,
   "metadata": {
    "scrolled": false
   },
   "outputs": [
    {
     "data": {
      "text/html": [
       "<div>\n",
       "<style scoped>\n",
       "    .dataframe tbody tr th:only-of-type {\n",
       "        vertical-align: middle;\n",
       "    }\n",
       "\n",
       "    .dataframe tbody tr th {\n",
       "        vertical-align: top;\n",
       "    }\n",
       "\n",
       "    .dataframe thead th {\n",
       "        text-align: right;\n",
       "    }\n",
       "</style>\n",
       "<table border=\"1\" class=\"dataframe\">\n",
       "  <thead>\n",
       "    <tr style=\"text-align: right;\">\n",
       "      <th></th>\n",
       "      <th>price</th>\n",
       "      <th>model_year</th>\n",
       "      <th>model</th>\n",
       "      <th>condition</th>\n",
       "      <th>cylinders</th>\n",
       "      <th>fuel</th>\n",
       "      <th>odometer</th>\n",
       "      <th>transmission</th>\n",
       "      <th>type</th>\n",
       "      <th>paint_color</th>\n",
       "      <th>is_4wd</th>\n",
       "      <th>date_posted</th>\n",
       "      <th>days_listed</th>\n",
       "    </tr>\n",
       "  </thead>\n",
       "  <tbody>\n",
       "    <tr>\n",
       "      <th>1</th>\n",
       "      <td>25500</td>\n",
       "      <td>NaN</td>\n",
       "      <td>ford f-150</td>\n",
       "      <td>good</td>\n",
       "      <td>6.0</td>\n",
       "      <td>gas</td>\n",
       "      <td>88705.0</td>\n",
       "      <td>automatic</td>\n",
       "      <td>pickup</td>\n",
       "      <td>white</td>\n",
       "      <td>1.0</td>\n",
       "      <td>2018-10-19</td>\n",
       "      <td>50</td>\n",
       "    </tr>\n",
       "    <tr>\n",
       "      <th>20</th>\n",
       "      <td>6990</td>\n",
       "      <td>NaN</td>\n",
       "      <td>chevrolet tahoe</td>\n",
       "      <td>excellent</td>\n",
       "      <td>8.0</td>\n",
       "      <td>gas</td>\n",
       "      <td>147485.0</td>\n",
       "      <td>automatic</td>\n",
       "      <td>SUV</td>\n",
       "      <td>silver</td>\n",
       "      <td>1.0</td>\n",
       "      <td>2018-08-05</td>\n",
       "      <td>28</td>\n",
       "    </tr>\n",
       "    <tr>\n",
       "      <th>65</th>\n",
       "      <td>12800</td>\n",
       "      <td>NaN</td>\n",
       "      <td>ford f-150</td>\n",
       "      <td>excellent</td>\n",
       "      <td>6.0</td>\n",
       "      <td>gas</td>\n",
       "      <td>108500.0</td>\n",
       "      <td>automatic</td>\n",
       "      <td>pickup</td>\n",
       "      <td>white</td>\n",
       "      <td>NaN</td>\n",
       "      <td>2018-09-23</td>\n",
       "      <td>15</td>\n",
       "    </tr>\n",
       "    <tr>\n",
       "      <th>69</th>\n",
       "      <td>7800</td>\n",
       "      <td>NaN</td>\n",
       "      <td>ford f-150</td>\n",
       "      <td>like new</td>\n",
       "      <td>8.0</td>\n",
       "      <td>gas</td>\n",
       "      <td>97510.0</td>\n",
       "      <td>automatic</td>\n",
       "      <td>truck</td>\n",
       "      <td>white</td>\n",
       "      <td>1.0</td>\n",
       "      <td>2019-02-20</td>\n",
       "      <td>39</td>\n",
       "    </tr>\n",
       "    <tr>\n",
       "      <th>72</th>\n",
       "      <td>3650</td>\n",
       "      <td>NaN</td>\n",
       "      <td>subaru impreza</td>\n",
       "      <td>excellent</td>\n",
       "      <td>NaN</td>\n",
       "      <td>gas</td>\n",
       "      <td>74000.0</td>\n",
       "      <td>automatic</td>\n",
       "      <td>sedan</td>\n",
       "      <td>blue</td>\n",
       "      <td>1.0</td>\n",
       "      <td>2018-08-07</td>\n",
       "      <td>60</td>\n",
       "    </tr>\n",
       "    <tr>\n",
       "      <th>...</th>\n",
       "      <td>...</td>\n",
       "      <td>...</td>\n",
       "      <td>...</td>\n",
       "      <td>...</td>\n",
       "      <td>...</td>\n",
       "      <td>...</td>\n",
       "      <td>...</td>\n",
       "      <td>...</td>\n",
       "      <td>...</td>\n",
       "      <td>...</td>\n",
       "      <td>...</td>\n",
       "      <td>...</td>\n",
       "      <td>...</td>\n",
       "    </tr>\n",
       "    <tr>\n",
       "      <th>51464</th>\n",
       "      <td>8890</td>\n",
       "      <td>NaN</td>\n",
       "      <td>ford f250 super duty</td>\n",
       "      <td>good</td>\n",
       "      <td>8.0</td>\n",
       "      <td>gas</td>\n",
       "      <td>135778.0</td>\n",
       "      <td>automatic</td>\n",
       "      <td>truck</td>\n",
       "      <td>red</td>\n",
       "      <td>1.0</td>\n",
       "      <td>2018-11-28</td>\n",
       "      <td>24</td>\n",
       "    </tr>\n",
       "    <tr>\n",
       "      <th>51465</th>\n",
       "      <td>34595</td>\n",
       "      <td>NaN</td>\n",
       "      <td>gmc yukon</td>\n",
       "      <td>excellent</td>\n",
       "      <td>8.0</td>\n",
       "      <td>gas</td>\n",
       "      <td>86456.0</td>\n",
       "      <td>automatic</td>\n",
       "      <td>SUV</td>\n",
       "      <td>silver</td>\n",
       "      <td>1.0</td>\n",
       "      <td>2019-04-18</td>\n",
       "      <td>13</td>\n",
       "    </tr>\n",
       "    <tr>\n",
       "      <th>51487</th>\n",
       "      <td>1495</td>\n",
       "      <td>NaN</td>\n",
       "      <td>ford f-150</td>\n",
       "      <td>fair</td>\n",
       "      <td>6.0</td>\n",
       "      <td>gas</td>\n",
       "      <td>15804.0</td>\n",
       "      <td>manual</td>\n",
       "      <td>truck</td>\n",
       "      <td>white</td>\n",
       "      <td>1.0</td>\n",
       "      <td>2018-09-18</td>\n",
       "      <td>56</td>\n",
       "    </tr>\n",
       "    <tr>\n",
       "      <th>51488</th>\n",
       "      <td>21900</td>\n",
       "      <td>NaN</td>\n",
       "      <td>chevrolet silverado 3500hd</td>\n",
       "      <td>excellent</td>\n",
       "      <td>8.0</td>\n",
       "      <td>diesel</td>\n",
       "      <td>203000.0</td>\n",
       "      <td>automatic</td>\n",
       "      <td>truck</td>\n",
       "      <td>white</td>\n",
       "      <td>1.0</td>\n",
       "      <td>2018-12-27</td>\n",
       "      <td>37</td>\n",
       "    </tr>\n",
       "    <tr>\n",
       "      <th>51508</th>\n",
       "      <td>4950</td>\n",
       "      <td>NaN</td>\n",
       "      <td>chrysler town &amp; country</td>\n",
       "      <td>excellent</td>\n",
       "      <td>6.0</td>\n",
       "      <td>gas</td>\n",
       "      <td>150000.0</td>\n",
       "      <td>automatic</td>\n",
       "      <td>mini-van</td>\n",
       "      <td>silver</td>\n",
       "      <td>NaN</td>\n",
       "      <td>2018-06-30</td>\n",
       "      <td>48</td>\n",
       "    </tr>\n",
       "  </tbody>\n",
       "</table>\n",
       "<p>3619 rows × 13 columns</p>\n",
       "</div>"
      ],
      "text/plain": [
       "       price  model_year                       model  condition  cylinders  \\\n",
       "1      25500         NaN                  ford f-150       good        6.0   \n",
       "20      6990         NaN             chevrolet tahoe  excellent        8.0   \n",
       "65     12800         NaN                  ford f-150  excellent        6.0   \n",
       "69      7800         NaN                  ford f-150   like new        8.0   \n",
       "72      3650         NaN              subaru impreza  excellent        NaN   \n",
       "...      ...         ...                         ...        ...        ...   \n",
       "51464   8890         NaN        ford f250 super duty       good        8.0   \n",
       "51465  34595         NaN                   gmc yukon  excellent        8.0   \n",
       "51487   1495         NaN                  ford f-150       fair        6.0   \n",
       "51488  21900         NaN  chevrolet silverado 3500hd  excellent        8.0   \n",
       "51508   4950         NaN     chrysler town & country  excellent        6.0   \n",
       "\n",
       "         fuel  odometer transmission      type paint_color  is_4wd  \\\n",
       "1         gas   88705.0    automatic    pickup       white     1.0   \n",
       "20        gas  147485.0    automatic       SUV      silver     1.0   \n",
       "65        gas  108500.0    automatic    pickup       white     NaN   \n",
       "69        gas   97510.0    automatic     truck       white     1.0   \n",
       "72        gas   74000.0    automatic     sedan        blue     1.0   \n",
       "...       ...       ...          ...       ...         ...     ...   \n",
       "51464     gas  135778.0    automatic     truck         red     1.0   \n",
       "51465     gas   86456.0    automatic       SUV      silver     1.0   \n",
       "51487     gas   15804.0       manual     truck       white     1.0   \n",
       "51488  diesel  203000.0    automatic     truck       white     1.0   \n",
       "51508     gas  150000.0    automatic  mini-van      silver     NaN   \n",
       "\n",
       "      date_posted  days_listed  \n",
       "1      2018-10-19           50  \n",
       "20     2018-08-05           28  \n",
       "65     2018-09-23           15  \n",
       "69     2019-02-20           39  \n",
       "72     2018-08-07           60  \n",
       "...           ...          ...  \n",
       "51464  2018-11-28           24  \n",
       "51465  2019-04-18           13  \n",
       "51487  2018-09-18           56  \n",
       "51488  2018-12-27           37  \n",
       "51508  2018-06-30           48  \n",
       "\n",
       "[3619 rows x 13 columns]"
      ]
     },
     "execution_count": 204,
     "metadata": {},
     "output_type": "execute_result"
    }
   ],
   "source": [
    "# Criar df filtrada somente com valores ausentes em model_year\n",
    "df_filtered1 = df.loc[df['model_year'].isnull()]\n",
    "df_filtered1"
   ]
  },
  {
   "cell_type": "markdown",
   "metadata": {},
   "source": [
    "A tabela de valores nulos em model_year não possuem simetria com nenhum dos outros dados na tabela.\n",
    "\n",
    "Todavia, pela matriz de correlação podemos observar que o ano modelo tem correlação com o preço.\n",
    "\n",
    "Iremos utilizar dessa coluna para realizar uma análise de correlação e encontrar grupos para os anos.\n",
    "\n",
    "Vamos analisar o histograma de distribuição de preços na tabela filtrada1 e na df orginal, para analisar o comportamento.\n",
    "\n",
    "Iremos analisar os outliers.\n",
    "\n",
    "Depois iremos analisar os valores únicos em model_year para retirar quais os valores de anos que temos na tabela original (df)."
   ]
  },
  {
   "cell_type": "code",
   "execution_count": 205,
   "metadata": {},
   "outputs": [
    {
     "data": {
      "text/plain": [
       "<AxesSubplot:ylabel='Frequency'>"
      ]
     },
     "execution_count": 205,
     "metadata": {},
     "output_type": "execute_result"
    },
    {
     "data": {
      "image/png": "[encoded data removed]",
      "text/plain": [
       "<Figure size 432x288 with 1 Axes>"
      ]
     },
     "metadata": {
      "needs_background": "light"
     },
     "output_type": "display_data"
    }
   ],
   "source": [
    "# Histograma de price na df\n",
    "df['price'].plot(kind='hist',bins = 100, xlim=(0, 100000))"
   ]
  },
  {
   "cell_type": "code",
   "execution_count": 206,
   "metadata": {},
   "outputs": [
    {
     "data": {
      "text/plain": [
       "<AxesSubplot:ylabel='Frequency'>"
      ]
     },
     "execution_count": 206,
     "metadata": {},
     "output_type": "execute_result"
    },
    {
     "data": {
      "image/png": "[encoded data removed]",
      "text/plain": [
       "<Figure size 432x288 with 1 Axes>"
      ]
     },
     "metadata": {
      "needs_background": "light"
     },
     "output_type": "display_data"
    }
   ],
   "source": [
    "# Histograma de price na df filtrada\n",
    "df_filtered1['price'].plot(kind='hist',bins = 100, xlim = (0,100000))"
   ]
  },
  {
   "cell_type": "code",
   "execution_count": 207,
   "metadata": {},
   "outputs": [
    {
     "data": {
      "text/plain": [
       "<AxesSubplot:>"
      ]
     },
     "execution_count": 207,
     "metadata": {},
     "output_type": "execute_result"
    },
    {
     "data": {
      "image/png": "[encoded data removed]",
      "text/plain": [
       "<Figure size 432x288 with 1 Axes>"
      ]
     },
     "metadata": {
      "needs_background": "light"
     },
     "output_type": "display_data"
    }
   ],
   "source": [
    "# Boxplot para df\n",
    "df_filtered1['price'].plot(kind='box')"
   ]
  },
  {
   "cell_type": "code",
   "execution_count": 208,
   "metadata": {},
   "outputs": [
    {
     "data": {
      "text/plain": [
       "<AxesSubplot:>"
      ]
     },
     "execution_count": 208,
     "metadata": {},
     "output_type": "execute_result"
    },
    {
     "data": {
      "image/png": "[encoded data removed]",
      "text/plain": [
       "<Figure size 432x288 with 1 Axes>"
      ]
     },
     "metadata": {
      "needs_background": "light"
     },
     "output_type": "display_data"
    }
   ],
   "source": [
    "# Boxplot para df filtrada\n",
    "df_filtered1['price'].plot(kind='box')"
   ]
  },
  {
   "cell_type": "code",
   "execution_count": 209,
   "metadata": {},
   "outputs": [
    {
     "name": "stdout",
     "output_type": "stream",
     "text": [
      "[2011.0, 2013.0, 2003.0, 2017.0, 2014.0, 2015.0, 2012.0, 2008.0, 2018.0, 2009.0, 2010.0, 2007.0, 2004.0, 2005.0, 2001.0, 2006.0, 1966.0, 1994.0, 2019.0, 2000.0, 2016.0, 1993.0, 1999.0, 1997.0, 2002.0, 1981.0, 1995.0, 1996.0, 1975.0, 1998.0, 1985.0, 1977.0, 1987.0, 1974.0, 1990.0, 1992.0, 1991.0, 1972.0, 1967.0, 1988.0, 1969.0, 1989.0, 1978.0, 1965.0, 1979.0, 1968.0, 1986.0, 1980.0, 1964.0, 1963.0, 1984.0, 1982.0, 1973.0, 1970.0, 1955.0, 1971.0, 1976.0, 1983.0, 1954.0, 1962.0, 1948.0, 1960.0, 1908.0, 1961.0, 1936.0, 1949.0, 1958.0, 1929.0]\n"
     ]
    }
   ],
   "source": [
    "# Valores únicos em model_year\n",
    "df['model_year'].unique()\n",
    "model_year_missing_list = list(df['model_year'].dropna().unique())\n",
    "print(model_year_missing_list)"
   ]
  },
  {
   "cell_type": "code",
   "execution_count": 210,
   "metadata": {},
   "outputs": [
    {
     "data": {
      "text/plain": [
       "array([[<AxesSubplot:title={'center':'model_year'}>]], dtype=object)"
      ]
     },
     "execution_count": 210,
     "metadata": {},
     "output_type": "execute_result"
    },
    {
     "data": {
      "image/png": "[encoded data removed]",
      "text/plain": [
       "<Figure size 432x288 with 1 Axes>"
      ]
     },
     "metadata": {
      "needs_background": "light"
     },
     "output_type": "display_data"
    }
   ],
   "source": [
    "# Histograma de model_year\n",
    "df.hist('model_year')"
   ]
  },
  {
   "cell_type": "markdown",
   "metadata": {},
   "source": [
    "**Conclusões iniciais**\n",
    "\n",
    "Ambas as df não tem distribuição normal dos preços dos carros.\n",
    "\n",
    "Podemos ver isso pelos gráficos tipo bloxplot onde o máximo superior tem grande relevância em ambos os gráficos e aponta para uma grande presença de outliers, consequentemente desvio padrão alto. Assim não podemos tirar a média.\n",
    "\n",
    "Poderíamos considerar a mediana e a moda para substituição dos valores que faltam. Neste caso iremos utilizar a moda de preços para cada ano que encontramos em 'model_year_missing_list' e substituir na df.\n",
    "\n",
    "Faremos isso através da iteração de um loop 'for', gerando os valores de quartil inferior e quartil superior para cada um dos anos, assim iremos fazer com que a substituição do valor ocorra caso:\n",
    "\n",
    "* price estiver entre quartil inferior e quartil superior para os anos do loop e a coluna estiver com valor nulo."
   ]
  },
  {
   "cell_type": "code",
   "execution_count": 211,
   "metadata": {},
   "outputs": [
    {
     "name": "stdout",
     "output_type": "stream",
     "text": [
      "<class 'pandas.core.frame.DataFrame'>\n",
      "RangeIndex: 51525 entries, 0 to 51524\n",
      "Data columns (total 13 columns):\n",
      " #   Column        Non-Null Count  Dtype  \n",
      "---  ------        --------------  -----  \n",
      " 0   price         51525 non-null  int64  \n",
      " 1   model_year    51326 non-null  float64\n",
      " 2   model         51525 non-null  object \n",
      " 3   condition     51525 non-null  object \n",
      " 4   cylinders     46265 non-null  float64\n",
      " 5   fuel          51525 non-null  object \n",
      " 6   odometer      43633 non-null  float64\n",
      " 7   transmission  51525 non-null  object \n",
      " 8   type          51525 non-null  object \n",
      " 9   paint_color   42258 non-null  object \n",
      " 10  is_4wd        25572 non-null  float64\n",
      " 11  date_posted   51525 non-null  object \n",
      " 12  days_listed   51525 non-null  int64  \n",
      "dtypes: float64(4), int64(2), object(7)\n",
      "memory usage: 5.1+ MB\n"
     ]
    }
   ],
   "source": [
    "# Função para substituir valores nulos\n",
    "for x in model_year_missing_list:\n",
    "    lowerq = df[df['model_year'] == x]['price'].quantile(0.25)\n",
    "    upperq = df[df['model_year'] == x]['price'].quantile(0.75)\n",
    "    if not df[(df['model_year'] == x) & (df['price'] > lowerq) & (df['price'] < upperq)].empty:\n",
    "        df.loc[(df['model_year'].isnull()) & (df['price'] > lowerq) & (df['price'] < upperq), 'model_year'] = x\n",
    "\n",
    "df.info()"
   ]
  },
  {
   "cell_type": "markdown",
   "metadata": {},
   "source": [
    "Nesse código, estamos verificando se existe pelo menos uma linha na DataFrame que corresponde ao ano-modelo atual e tem um preço no intervalo entre o primeiro e o terceiro quartil. Se a verificação for verdadeira, então usamos a função loc[] para substituir o valor ausente do ano-modelo com o valor atual. Caso contrário, não fazemos nada para evitar a imputação de valores imprecisos ou não realistas."
   ]
  },
  {
   "cell_type": "code",
   "execution_count": 212,
   "metadata": {},
   "outputs": [
    {
     "data": {
      "text/plain": [
       "array([[<AxesSubplot:title={'center':'model_year'}>]], dtype=object)"
      ]
     },
     "execution_count": 212,
     "metadata": {},
     "output_type": "execute_result"
    },
    {
     "data": {
      "image/png": "[encoded data removed]",
      "text/plain": [
       "<Figure size 432x288 with 1 Axes>"
      ]
     },
     "metadata": {
      "needs_background": "light"
     },
     "output_type": "display_data"
    }
   ],
   "source": [
    "df.hist('model_year')"
   ]
  },
  {
   "cell_type": "markdown",
   "metadata": {},
   "source": [
    "Nossa DataFrame final tem uma distribuição semelhante ao incial, ou seja, conseguimos adicionar os dados categorizados pela ligação preço x ano sem alterar significamente a distribuição de valores.\n",
    "\n",
    "Iremos, por final, excluir os dados ausentes que faltaram na coluna model_year que não foram atingidas pelo nosso código. Provavelmente outliers."
   ]
  },
  {
   "cell_type": "code",
   "execution_count": 213,
   "metadata": {},
   "outputs": [
    {
     "name": "stdout",
     "output_type": "stream",
     "text": [
      "<class 'pandas.core.frame.DataFrame'>\n",
      "Int64Index: 51326 entries, 0 to 51524\n",
      "Data columns (total 13 columns):\n",
      " #   Column        Non-Null Count  Dtype  \n",
      "---  ------        --------------  -----  \n",
      " 0   price         51326 non-null  int64  \n",
      " 1   model_year    51326 non-null  float64\n",
      " 2   model         51326 non-null  object \n",
      " 3   condition     51326 non-null  object \n",
      " 4   cylinders     46090 non-null  float64\n",
      " 5   fuel          51326 non-null  object \n",
      " 6   odometer      43465 non-null  float64\n",
      " 7   transmission  51326 non-null  object \n",
      " 8   type          51326 non-null  object \n",
      " 9   paint_color   42098 non-null  object \n",
      " 10  is_4wd        25475 non-null  float64\n",
      " 11  date_posted   51326 non-null  object \n",
      " 12  days_listed   51326 non-null  int64  \n",
      "dtypes: float64(4), int64(2), object(7)\n",
      "memory usage: 5.5+ MB\n"
     ]
    }
   ],
   "source": [
    "df.dropna(subset=['model_year'], inplace=True)\n",
    "df.info()"
   ]
  },
  {
   "cell_type": "markdown",
   "metadata": {},
   "source": [
    "## Estudo para coluna cylindrers\n",
    "Iremos estudar a coluna das cilindradas.\n",
    "\n",
    "Suposição incial: \n",
    "\n",
    "Muitos carros não mudam de cilindradas com os anos, ou seja por meio do modelo do carro poderemos descobrir as cilindradas. Iremos checar os valores de distribuição e veracidade de tal afirmação.\n",
    "\n",
    "Neste caso não iremos, por agora, tratar os dados da coluna 'model', não irá fazer tanta diferença nesse momento.\n",
    "\n",
    "Iremos gerar uma lista com o nome dos modelos para uso futuro no tratamento de dados."
   ]
  },
  {
   "cell_type": "code",
   "execution_count": 214,
   "metadata": {},
   "outputs": [
    {
     "name": "stdout",
     "output_type": "stream",
     "text": [
      "['acura tl', 'bmw x5', 'buick enclave', 'cadillac escalade', 'chevrolet camaro', 'chevrolet camaro lt coupe 2d', 'chevrolet colorado', 'chevrolet corvette', 'chevrolet cruze', 'chevrolet equinox', 'chevrolet impala', 'chevrolet malibu', 'chevrolet silverado', 'chevrolet silverado 1500', 'chevrolet silverado 1500 crew', 'chevrolet silverado 2500hd', 'chevrolet silverado 3500hd', 'chevrolet suburban', 'chevrolet tahoe', 'chevrolet trailblazer', 'chevrolet traverse', 'chrysler 200', 'chrysler 300', 'chrysler town & country', 'dodge charger', 'dodge dakota', 'dodge grand caravan', 'ford econoline', 'ford edge', 'ford escape', 'ford expedition', 'ford explorer', 'ford f-150', 'ford f-250', 'ford f-250 sd', 'ford f-250 super duty', 'ford f-350 sd', 'ford f150', 'ford f150 supercrew cab xlt', 'ford f250', 'ford f250 super duty', 'ford f350', 'ford f350 super duty', 'ford focus', 'ford focus se', 'ford fusion', 'ford fusion se', 'ford mustang', 'ford mustang gt coupe 2d', 'ford ranger', 'ford taurus', 'gmc acadia', 'gmc sierra', 'gmc sierra 1500', 'gmc sierra 2500hd', 'gmc yukon', 'honda accord', 'honda civic', 'honda civic lx', 'honda cr-v', 'honda odyssey', 'honda pilot', 'hyundai elantra', 'hyundai santa fe', 'hyundai sonata', 'jeep cherokee', 'jeep grand cherokee', 'jeep grand cherokee laredo', 'jeep liberty', 'jeep wrangler', 'jeep wrangler unlimited', 'kia sorento', 'kia soul', 'mercedes-benz benze sprinter 2500', 'nissan altima', 'nissan frontier', 'nissan frontier crew cab sv', 'nissan maxima', 'nissan murano', 'nissan rogue', 'nissan sentra', 'nissan versa', 'ram 1500', 'ram 2500', 'ram 3500', 'subaru forester', 'subaru impreza', 'subaru outback', 'toyota 4runner', 'toyota camry', 'toyota camry le', 'toyota corolla', 'toyota highlander', 'toyota prius', 'toyota rav4', 'toyota sienna', 'toyota tacoma', 'toyota tundra', 'volkswagen jetta', 'volkswagen passat']\n"
     ]
    }
   ],
   "source": [
    "list_model = list(df['model'].unique())\n",
    "print(sorted(list_model))"
   ]
  },
  {
   "cell_type": "code",
   "execution_count": 215,
   "metadata": {},
   "outputs": [
    {
     "data": {
      "text/plain": [
       "<AxesSubplot:>"
      ]
     },
     "execution_count": 215,
     "metadata": {},
     "output_type": "execute_result"
    },
    {
     "data": {
      "image/png": "[encoded data removed]",
      "text/plain": [
       "<Figure size 432x288 with 1 Axes>"
      ]
     },
     "metadata": {
      "needs_background": "light"
     },
     "output_type": "display_data"
    }
   ],
   "source": [
    "# Histograma de distribuição de cilindradas\n",
    "df['cylinders'].hist()"
   ]
  },
  {
   "cell_type": "markdown",
   "metadata": {},
   "source": [
    "Por meio do histograma gerado é possível observar que as cilindradas se comportam de maneira categórica. \n",
    "\n",
    "São várias categorias que estão inseridas, dando assim, uma boa base para que nossa ideia de que os carros devam ter as mesmas cilindradas dependendo do modelo.\n",
    "\n",
    "Vemos, ainda, alguns poucos dados outliers. Menor que 4 cilindros e maior que 8 cilindros. Iremos retirar esses dados de nossa análise, pois dificilmente carros convencionais possuam esta configuração. Além disos o volume não afetará a análise final, pois seu volume é baixo."
   ]
  },
  {
   "cell_type": "code",
   "execution_count": 216,
   "metadata": {},
   "outputs": [],
   "source": [
    "# Removendo carros com cilindradas outliers\n",
    "\n",
    "# Cilindros maior que 8\n",
    "df = df.drop(df[df['cylinders'] > 8].index)\n",
    "\n",
    "# Cilindros menor que 4\n",
    "df = df.drop(df[df['cylinders'] < 4].index)"
   ]
  },
  {
   "cell_type": "code",
   "execution_count": 217,
   "metadata": {},
   "outputs": [
    {
     "data": {
      "text/plain": [
       "array([ 6.,  4.,  8., nan,  5.])"
      ]
     },
     "execution_count": 217,
     "metadata": {},
     "output_type": "execute_result"
    }
   ],
   "source": [
    "# Consultando valores únicos em cilindros\n",
    "df['cylinders'].unique()"
   ]
  },
  {
   "cell_type": "markdown",
   "metadata": {},
   "source": [
    "Agora que limpamos os dados e temos indicios que os dados são categorizados por modelo de carro, iremos utilizar dos modelos de carros para preencher os valores nulos. Como os valores são categorizados e nossa suposição incial tem fortes indícios iremos utilziar da **moda** para substituir os valores ausentes.\n",
    "\n",
    "Vamos criar um loop 'for' substituindo os valores ausentes pela moda do modelo encontrado em df para o mesmo modelo de carro."
   ]
  },
  {
   "cell_type": "code",
   "execution_count": 218,
   "metadata": {},
   "outputs": [],
   "source": [
    "# Loop for para substituição de nulos\n",
    "\n",
    "for x in list_model:\n",
    "    moda = df[df['model'] == x]['cylinders'].mode()\n",
    "    if not moda.empty:\n",
    "        moda = moda.iloc[0]\n",
    "        df.loc[(df['model'] == x) & (df['cylinders'].isnull()), 'cylinders'] = moda"
   ]
  },
  {
   "cell_type": "code",
   "execution_count": 219,
   "metadata": {},
   "outputs": [
    {
     "name": "stdout",
     "output_type": "stream",
     "text": [
      "<class 'pandas.core.frame.DataFrame'>\n",
      "Int64Index: 50759 entries, 0 to 51524\n",
      "Data columns (total 13 columns):\n",
      " #   Column        Non-Null Count  Dtype  \n",
      "---  ------        --------------  -----  \n",
      " 0   price         50759 non-null  int64  \n",
      " 1   model_year    50759 non-null  float64\n",
      " 2   model         50759 non-null  object \n",
      " 3   condition     50759 non-null  object \n",
      " 4   cylinders     50759 non-null  float64\n",
      " 5   fuel          50759 non-null  object \n",
      " 6   odometer      42985 non-null  float64\n",
      " 7   transmission  50759 non-null  object \n",
      " 8   type          50759 non-null  object \n",
      " 9   paint_color   41635 non-null  object \n",
      " 10  is_4wd        25049 non-null  float64\n",
      " 11  date_posted   50759 non-null  object \n",
      " 12  days_listed   50759 non-null  int64  \n",
      "dtypes: float64(4), int64(2), object(7)\n",
      "memory usage: 5.4+ MB\n"
     ]
    }
   ],
   "source": [
    "# Checando valores ausentes\n",
    "df.info()"
   ]
  },
  {
   "cell_type": "markdown",
   "metadata": {},
   "source": [
    "## Estudo para coluna odometer\n",
    "Iremos estudar a coluna da kilometragem.\n",
    "\n",
    "Suposição incial: \n",
    "\n",
    "A kilometragem vai depender do ano, é lógico que quanto mais antigo o carro maior tende ser a kilometragem do carro.\n",
    "\n",
    "Assim, iremos utilizar desta suposição para realizar nossos futuros cálculos.\n",
    "\n",
    "Iremos analisar a distribuição de valores e histograma para definir um método mais viável para substituição ou não substituição.\n",
    "\n",
    "De primeira, podemos observar que a quanitdade de valores nulos são significativos para a análise, beirando 16% de nossa última df gerada. Logo será importante acharamos um método para substituição dos valores."
   ]
  },
  {
   "cell_type": "code",
   "execution_count": 220,
   "metadata": {
    "scrolled": true
   },
   "outputs": [
    {
     "data": {
      "text/html": [
       "<div>\n",
       "<style scoped>\n",
       "    .dataframe tbody tr th:only-of-type {\n",
       "        vertical-align: middle;\n",
       "    }\n",
       "\n",
       "    .dataframe tbody tr th {\n",
       "        vertical-align: top;\n",
       "    }\n",
       "\n",
       "    .dataframe thead th {\n",
       "        text-align: right;\n",
       "    }\n",
       "</style>\n",
       "<table border=\"1\" class=\"dataframe\">\n",
       "  <thead>\n",
       "    <tr style=\"text-align: right;\">\n",
       "      <th></th>\n",
       "      <th>price</th>\n",
       "      <th>model_year</th>\n",
       "      <th>model</th>\n",
       "      <th>condition</th>\n",
       "      <th>cylinders</th>\n",
       "      <th>fuel</th>\n",
       "      <th>odometer</th>\n",
       "      <th>transmission</th>\n",
       "      <th>type</th>\n",
       "      <th>paint_color</th>\n",
       "      <th>is_4wd</th>\n",
       "      <th>date_posted</th>\n",
       "      <th>days_listed</th>\n",
       "    </tr>\n",
       "  </thead>\n",
       "  <tbody>\n",
       "    <tr>\n",
       "      <th>0</th>\n",
       "      <td>9400</td>\n",
       "      <td>2011.0</td>\n",
       "      <td>bmw x5</td>\n",
       "      <td>good</td>\n",
       "      <td>6.0</td>\n",
       "      <td>gas</td>\n",
       "      <td>145000.0</td>\n",
       "      <td>automatic</td>\n",
       "      <td>SUV</td>\n",
       "      <td>NaN</td>\n",
       "      <td>1.0</td>\n",
       "      <td>2018-06-23</td>\n",
       "      <td>19</td>\n",
       "    </tr>\n",
       "    <tr>\n",
       "      <th>1</th>\n",
       "      <td>25500</td>\n",
       "      <td>2017.0</td>\n",
       "      <td>ford f-150</td>\n",
       "      <td>good</td>\n",
       "      <td>6.0</td>\n",
       "      <td>gas</td>\n",
       "      <td>88705.0</td>\n",
       "      <td>automatic</td>\n",
       "      <td>pickup</td>\n",
       "      <td>white</td>\n",
       "      <td>1.0</td>\n",
       "      <td>2018-10-19</td>\n",
       "      <td>50</td>\n",
       "    </tr>\n",
       "    <tr>\n",
       "      <th>2</th>\n",
       "      <td>5500</td>\n",
       "      <td>2013.0</td>\n",
       "      <td>hyundai sonata</td>\n",
       "      <td>like new</td>\n",
       "      <td>4.0</td>\n",
       "      <td>gas</td>\n",
       "      <td>110000.0</td>\n",
       "      <td>automatic</td>\n",
       "      <td>sedan</td>\n",
       "      <td>red</td>\n",
       "      <td>NaN</td>\n",
       "      <td>2019-02-07</td>\n",
       "      <td>79</td>\n",
       "    </tr>\n",
       "    <tr>\n",
       "      <th>3</th>\n",
       "      <td>1500</td>\n",
       "      <td>2003.0</td>\n",
       "      <td>ford f-150</td>\n",
       "      <td>fair</td>\n",
       "      <td>8.0</td>\n",
       "      <td>gas</td>\n",
       "      <td>NaN</td>\n",
       "      <td>automatic</td>\n",
       "      <td>pickup</td>\n",
       "      <td>NaN</td>\n",
       "      <td>NaN</td>\n",
       "      <td>2019-03-22</td>\n",
       "      <td>9</td>\n",
       "    </tr>\n",
       "    <tr>\n",
       "      <th>4</th>\n",
       "      <td>14900</td>\n",
       "      <td>2017.0</td>\n",
       "      <td>chrysler 200</td>\n",
       "      <td>excellent</td>\n",
       "      <td>4.0</td>\n",
       "      <td>gas</td>\n",
       "      <td>80903.0</td>\n",
       "      <td>automatic</td>\n",
       "      <td>sedan</td>\n",
       "      <td>black</td>\n",
       "      <td>NaN</td>\n",
       "      <td>2019-04-02</td>\n",
       "      <td>28</td>\n",
       "    </tr>\n",
       "    <tr>\n",
       "      <th>...</th>\n",
       "      <td>...</td>\n",
       "      <td>...</td>\n",
       "      <td>...</td>\n",
       "      <td>...</td>\n",
       "      <td>...</td>\n",
       "      <td>...</td>\n",
       "      <td>...</td>\n",
       "      <td>...</td>\n",
       "      <td>...</td>\n",
       "      <td>...</td>\n",
       "      <td>...</td>\n",
       "      <td>...</td>\n",
       "      <td>...</td>\n",
       "    </tr>\n",
       "    <tr>\n",
       "      <th>51520</th>\n",
       "      <td>9249</td>\n",
       "      <td>2013.0</td>\n",
       "      <td>nissan maxima</td>\n",
       "      <td>like new</td>\n",
       "      <td>6.0</td>\n",
       "      <td>gas</td>\n",
       "      <td>88136.0</td>\n",
       "      <td>automatic</td>\n",
       "      <td>sedan</td>\n",
       "      <td>black</td>\n",
       "      <td>NaN</td>\n",
       "      <td>2018-10-03</td>\n",
       "      <td>37</td>\n",
       "    </tr>\n",
       "    <tr>\n",
       "      <th>51521</th>\n",
       "      <td>2700</td>\n",
       "      <td>2002.0</td>\n",
       "      <td>honda civic</td>\n",
       "      <td>salvage</td>\n",
       "      <td>4.0</td>\n",
       "      <td>gas</td>\n",
       "      <td>181500.0</td>\n",
       "      <td>automatic</td>\n",
       "      <td>sedan</td>\n",
       "      <td>white</td>\n",
       "      <td>NaN</td>\n",
       "      <td>2018-11-14</td>\n",
       "      <td>22</td>\n",
       "    </tr>\n",
       "    <tr>\n",
       "      <th>51522</th>\n",
       "      <td>3950</td>\n",
       "      <td>2009.0</td>\n",
       "      <td>hyundai sonata</td>\n",
       "      <td>excellent</td>\n",
       "      <td>4.0</td>\n",
       "      <td>gas</td>\n",
       "      <td>128000.0</td>\n",
       "      <td>automatic</td>\n",
       "      <td>sedan</td>\n",
       "      <td>blue</td>\n",
       "      <td>NaN</td>\n",
       "      <td>2018-11-15</td>\n",
       "      <td>32</td>\n",
       "    </tr>\n",
       "    <tr>\n",
       "      <th>51523</th>\n",
       "      <td>7455</td>\n",
       "      <td>2013.0</td>\n",
       "      <td>toyota corolla</td>\n",
       "      <td>good</td>\n",
       "      <td>4.0</td>\n",
       "      <td>gas</td>\n",
       "      <td>139573.0</td>\n",
       "      <td>automatic</td>\n",
       "      <td>sedan</td>\n",
       "      <td>black</td>\n",
       "      <td>NaN</td>\n",
       "      <td>2018-07-02</td>\n",
       "      <td>71</td>\n",
       "    </tr>\n",
       "    <tr>\n",
       "      <th>51524</th>\n",
       "      <td>6300</td>\n",
       "      <td>2014.0</td>\n",
       "      <td>nissan altima</td>\n",
       "      <td>good</td>\n",
       "      <td>4.0</td>\n",
       "      <td>gas</td>\n",
       "      <td>NaN</td>\n",
       "      <td>automatic</td>\n",
       "      <td>sedan</td>\n",
       "      <td>NaN</td>\n",
       "      <td>NaN</td>\n",
       "      <td>2018-06-05</td>\n",
       "      <td>10</td>\n",
       "    </tr>\n",
       "  </tbody>\n",
       "</table>\n",
       "<p>50759 rows × 13 columns</p>\n",
       "</div>"
      ],
      "text/plain": [
       "       price  model_year           model  condition  cylinders fuel  odometer  \\\n",
       "0       9400      2011.0          bmw x5       good        6.0  gas  145000.0   \n",
       "1      25500      2017.0      ford f-150       good        6.0  gas   88705.0   \n",
       "2       5500      2013.0  hyundai sonata   like new        4.0  gas  110000.0   \n",
       "3       1500      2003.0      ford f-150       fair        8.0  gas       NaN   \n",
       "4      14900      2017.0    chrysler 200  excellent        4.0  gas   80903.0   \n",
       "...      ...         ...             ...        ...        ...  ...       ...   \n",
       "51520   9249      2013.0   nissan maxima   like new        6.0  gas   88136.0   \n",
       "51521   2700      2002.0     honda civic    salvage        4.0  gas  181500.0   \n",
       "51522   3950      2009.0  hyundai sonata  excellent        4.0  gas  128000.0   \n",
       "51523   7455      2013.0  toyota corolla       good        4.0  gas  139573.0   \n",
       "51524   6300      2014.0   nissan altima       good        4.0  gas       NaN   \n",
       "\n",
       "      transmission    type paint_color  is_4wd date_posted  days_listed  \n",
       "0        automatic     SUV         NaN     1.0  2018-06-23           19  \n",
       "1        automatic  pickup       white     1.0  2018-10-19           50  \n",
       "2        automatic   sedan         red     NaN  2019-02-07           79  \n",
       "3        automatic  pickup         NaN     NaN  2019-03-22            9  \n",
       "4        automatic   sedan       black     NaN  2019-04-02           28  \n",
       "...            ...     ...         ...     ...         ...          ...  \n",
       "51520    automatic   sedan       black     NaN  2018-10-03           37  \n",
       "51521    automatic   sedan       white     NaN  2018-11-14           22  \n",
       "51522    automatic   sedan        blue     NaN  2018-11-15           32  \n",
       "51523    automatic   sedan       black     NaN  2018-07-02           71  \n",
       "51524    automatic   sedan         NaN     NaN  2018-06-05           10  \n",
       "\n",
       "[50759 rows x 13 columns]"
      ]
     },
     "execution_count": 220,
     "metadata": {},
     "output_type": "execute_result"
    }
   ],
   "source": [
    "# Imprimindo df\n",
    "df"
   ]
  },
  {
   "cell_type": "markdown",
   "metadata": {},
   "source": [
    "Iremos puxar novamente a lista de anos que em 'model_year_missing_list' novamente e analisar os anos tentando categorizar e entender a distribuição tipo histograma e gráfico de dispersão."
   ]
  },
  {
   "cell_type": "code",
   "execution_count": 221,
   "metadata": {},
   "outputs": [
    {
     "name": "stdout",
     "output_type": "stream",
     "text": [
      "[1908.0, 1929.0, 1936.0, 1948.0, 1949.0, 1954.0, 1955.0, 1958.0, 1960.0, 1961.0, 1962.0, 1963.0, 1964.0, 1965.0, 1966.0, 1967.0, 1968.0, 1969.0, 1970.0, 1971.0, 1972.0, 1973.0, 1974.0, 1975.0, 1976.0, 1977.0, 1978.0, 1979.0, 1980.0, 1981.0, 1982.0, 1983.0, 1984.0, 1985.0, 1986.0, 1987.0, 1988.0, 1989.0, 1990.0, 1991.0, 1992.0, 1993.0, 1994.0, 1995.0, 1996.0, 1997.0, 1998.0, 1999.0, 2000.0, 2001.0, 2002.0, 2003.0, 2004.0, 2005.0, 2006.0, 2007.0, 2008.0, 2009.0, 2010.0, 2011.0, 2012.0, 2013.0, 2014.0, 2015.0, 2016.0, 2017.0, 2018.0, 2019.0]\n"
     ]
    }
   ],
   "source": [
    "# Imprimindo a lista de anos em ordem\n",
    "print(sorted(model_year_missing_list))"
   ]
  },
  {
   "cell_type": "code",
   "execution_count": 222,
   "metadata": {},
   "outputs": [
    {
     "data": {
      "text/plain": [
       "<AxesSubplot:ylabel='Frequency'>"
      ]
     },
     "execution_count": 222,
     "metadata": {},
     "output_type": "execute_result"
    },
    {
     "data": {
      "image/png": "[encoded data removed]",
      "text/plain": [
       "<Figure size 432x288 with 1 Axes>"
      ]
     },
     "metadata": {
      "needs_background": "light"
     },
     "output_type": "display_data"
    }
   ],
   "source": [
    "# Vamos gerar histograma de distribuição para kilometragem\n",
    "df['odometer'].plot(kind='hist', bins =100)"
   ]
  },
  {
   "cell_type": "code",
   "execution_count": 223,
   "metadata": {},
   "outputs": [
    {
     "data": {
      "text/plain": [
       "<AxesSubplot:xlabel='model_year', ylabel='odometer'>"
      ]
     },
     "execution_count": 223,
     "metadata": {},
     "output_type": "execute_result"
    },
    {
     "data": {
      "image/png": "[encoded data removed]",
      "text/plain": [
       "<Figure size 432x288 with 1 Axes>"
      ]
     },
     "metadata": {
      "needs_background": "light"
     },
     "output_type": "display_data"
    }
   ],
   "source": [
    "# Usando o método plot.scatter() para criar o gráfico de dispersão\n",
    "df.plot.scatter(x='model_year', y='odometer')"
   ]
  },
  {
   "cell_type": "markdown",
   "metadata": {},
   "source": [
    "Pelo gráfico de dispersão gerado podemos observar que ao crescer os anos temos uma tendência do crescimento do desvio padrão dos dados. \n",
    "\n",
    "Outro ponto interessante de observação são os outliers após os anos 2000, em específico entre 2010 e 2020. Existem carros com mais de 500000km rodados. Iremos por via de regra retirar esses dados de nossa DataFrame, pois a representatividade é baixa e teremos menor discrepância de dados para substituições futuras."
   ]
  },
  {
   "cell_type": "code",
   "execution_count": 224,
   "metadata": {},
   "outputs": [],
   "source": [
    "# retirando dados de odometer > 500000\n",
    "df = df.drop(df[df['odometer'] >= 500000].index)"
   ]
  },
  {
   "cell_type": "code",
   "execution_count": 225,
   "metadata": {},
   "outputs": [
    {
     "data": {
      "text/plain": [
       "<AxesSubplot:xlabel='model_year', ylabel='odometer'>"
      ]
     },
     "execution_count": 225,
     "metadata": {},
     "output_type": "execute_result"
    },
    {
     "data": {
      "image/png": "[encoded data removed]",
      "text/plain": [
       "<Figure size 432x288 with 1 Axes>"
      ]
     },
     "metadata": {
      "needs_background": "light"
     },
     "output_type": "display_data"
    }
   ],
   "source": [
    "# Usando o método plot.scatter() para criar o gráfico de dispersão e nova análise\n",
    "df.plot.scatter(x='model_year', y='odometer')"
   ]
  },
  {
   "cell_type": "markdown",
   "metadata": {},
   "source": [
    "**Conclusão intermediária**\n",
    "\n",
    "Sabemos antes dos anos 1990 os dados não possuem um âmbito de erro tão grande quanto após isso. É evidente por meio do último gráfico de dispersão gerado que o erro vai aumentando conforme o passar dos anos, pois há uma maior distribuição nos dados de 'odometer'.\n",
    "\n",
    "Além disso, realizamos a retirada de alguns outliers da análise, pois pareciam estar inseridos de maneira erronêa e poderiam afetar a análise final. Tinhamos carros, de certa maneira novos, com mais de 500000km.\n",
    "\n",
    "Para substituição dos valores é interessante que a gente faça iteração sobre os anos da tabela e realize a substituição. \n",
    "\n",
    "Vamos analisar a distribuição dos anos 1990 em diante e realizar uma decisão acerca da metodologia de substituição dos valores que iremos utilizar. Também iremos realizar a mesma análise antes dos anos 1990 para decisão da metodologia.\n",
    "\n",
    "Ou seja, iremos categorizar em dois grupos A(<1990) B(>1990)."
   ]
  },
  {
   "cell_type": "code",
   "execution_count": 226,
   "metadata": {},
   "outputs": [
    {
     "data": {
      "text/plain": [
       "<AxesSubplot:ylabel='Frequency'>"
      ]
     },
     "execution_count": 226,
     "metadata": {},
     "output_type": "execute_result"
    },
    {
     "data": {
      "image/png": "[encoded data removed]",
      "text/plain": [
       "<Figure size 432x288 with 1 Axes>"
      ]
     },
     "metadata": {
      "needs_background": "light"
     },
     "output_type": "display_data"
    }
   ],
   "source": [
    "# Categorização e histogramas\n",
    "\n",
    "dfA = df[df['model_year'] >= 1990]\n",
    "dfB = df[df['model_year'] < 1990]\n",
    "\n",
    "# Histograma para dfA\n",
    "dfA['odometer'].plot(kind='hist', bins =100)"
   ]
  },
  {
   "cell_type": "code",
   "execution_count": 227,
   "metadata": {},
   "outputs": [
    {
     "data": {
      "text/plain": [
       "<AxesSubplot:ylabel='Frequency'>"
      ]
     },
     "execution_count": 227,
     "metadata": {},
     "output_type": "execute_result"
    },
    {
     "data": {
      "image/png": "[encoded data removed]",
      "text/plain": [
       "<Figure size 432x288 with 1 Axes>"
      ]
     },
     "metadata": {
      "needs_background": "light"
     },
     "output_type": "display_data"
    }
   ],
   "source": [
    "# Histograma para dfB\n",
    "dfB['odometer'].plot(kind='hist', bins =200)"
   ]
  },
  {
   "cell_type": "markdown",
   "metadata": {},
   "source": [
    "Podemos observar que tem-se muitos carros com 0km, tanto para depois de 1990 quanto para antes de 1990. Para antes de 1990 é um dado muito estranho e tem-se poucos valores não afetando muito a df final, assim iremos retirar estes valores da df.\n",
    "\n",
    "Para após 1990 iremos analisar os dados de anos em que a contenham odometer igual a 0."
   ]
  },
  {
   "cell_type": "code",
   "execution_count": 228,
   "metadata": {},
   "outputs": [],
   "source": [
    "# Removendo dados em que odometer igual a 0 e model_year menor que 1990\n",
    "df = df.drop(df[(df['odometer'] ==0) & (df['model_year'] < 1990)].index)"
   ]
  },
  {
   "cell_type": "code",
   "execution_count": 229,
   "metadata": {},
   "outputs": [
    {
     "name": "stdout",
     "output_type": "stream",
     "text": [
      "[2009. 1999. 2003. 1992. 2000. 2010. 2006. 1995. 2011. 2013. 2007. 1994.\n",
      " 2002. 2018. 2008. 2001. 2004. 1996. 1991. 2016. 2014. 2015. 2012. 2017.\n",
      " 2005.]\n",
      "172\n"
     ]
    }
   ],
   "source": [
    "# Analisando dados em que odometer igual 0 e model_year maior que 1990\n",
    "print(dfA[dfA['odometer']==0]['model_year'].unique())\n",
    "print(dfA[dfA['odometer']==0]['model_year'].count())"
   ]
  },
  {
   "cell_type": "markdown",
   "metadata": {},
   "source": [
    "Agora iremos retirar todos os dados em que odometer igual a 0, pois sabemos que a quantidade de dados é baixa e que, provavalemnte, foi dado o input errado na kilometragem.\n",
    "\n",
    "Pode-se observar, pois os anos dos carros não são do último ano de contagem em model_year."
   ]
  },
  {
   "cell_type": "code",
   "execution_count": 230,
   "metadata": {},
   "outputs": [],
   "source": [
    "# Retirando dados em que odometer igual a 0\n",
    "df = df.drop(df[df['odometer'] == 0].index)"
   ]
  },
  {
   "cell_type": "markdown",
   "metadata": {},
   "source": [
    "**Conclusão Intermediária**\n",
    "\n",
    "Como vimos, retiramos os valores em que odometer era igual a zero, pois além de poucos dados, também pareciam ter sido dado input de maneira errada. Retiramos os outliers da análise, por parecerem errados da mesma maneira.\n",
    "\n",
    "Os histogramas gerados para os grupos (antes de 1990 / depois 1990) mostram duas distribuições diferentes. O grupo antes de 1990 vamos substituir pela mediana, pois aparenta ser uma distribuição não normal de dados. \n",
    "\n",
    "Já o grupo após 1990, nos aparenta ter a distribuição normal, visto no histograma. Assim, vamos decidir por utilizar a média para realizar a substituição dos valores.\n",
    "\n",
    "Iremos utilizar a função loc[] para realizar a substituição. Para melhorar a distribuição dos valores e tentar ser mais assertivo, iremos, ainda, utilizar um loop tipo 'for' tirando a média por ano e inserindo na df. Como temos um grande número de valores, quanto mais acertivo o método melhor."
   ]
  },
  {
   "cell_type": "code",
   "execution_count": 231,
   "metadata": {},
   "outputs": [],
   "source": [
    "# calculando os parametos para mediana<1990\n",
    "mediana_antes_1990 = df[df['model_year'] < 1990]['odometer'].median()\n",
    "\n",
    "# substituindo valores para antes de 1990\n",
    "df.loc[(df['model_year'] < 1990) & (df['odometer'].isnull()), 'odometer'] = mediana_antes_1990"
   ]
  },
  {
   "cell_type": "code",
   "execution_count": 232,
   "metadata": {},
   "outputs": [],
   "source": [
    "# calculos para após de 1990\n",
    "\n",
    "# criando lista de anos\n",
    "anos = [ano for ano in range(1990, 2024)]\n",
    "\n",
    "# loop for e calculos para substituição\n",
    "for x in anos:\n",
    "    media = df[df['model_year'] == x]['odometer'].mean()\n",
    "    if not np.isnan(media):\n",
    "        df.loc[(df['model_year'] == x) & (df['odometer'].isnull()), 'odometer'] = media"
   ]
  },
  {
   "cell_type": "code",
   "execution_count": 233,
   "metadata": {},
   "outputs": [
    {
     "name": "stdout",
     "output_type": "stream",
     "text": [
      "<class 'pandas.core.frame.DataFrame'>\n",
      "Int64Index: 50552 entries, 0 to 51524\n",
      "Data columns (total 13 columns):\n",
      " #   Column        Non-Null Count  Dtype  \n",
      "---  ------        --------------  -----  \n",
      " 0   price         50552 non-null  int64  \n",
      " 1   model_year    50552 non-null  float64\n",
      " 2   model         50552 non-null  object \n",
      " 3   condition     50552 non-null  object \n",
      " 4   cylinders     50552 non-null  float64\n",
      " 5   fuel          50552 non-null  object \n",
      " 6   odometer      50552 non-null  float64\n",
      " 7   transmission  50552 non-null  object \n",
      " 8   type          50552 non-null  object \n",
      " 9   paint_color   41460 non-null  object \n",
      " 10  is_4wd        24987 non-null  float64\n",
      " 11  date_posted   50552 non-null  object \n",
      " 12  days_listed   50552 non-null  int64  \n",
      "dtypes: float64(4), int64(2), object(7)\n",
      "memory usage: 5.4+ MB\n"
     ]
    }
   ],
   "source": [
    "# check se funcionou corretamente\n",
    "df.info()"
   ]
  },
  {
   "cell_type": "code",
   "execution_count": 234,
   "metadata": {},
   "outputs": [
    {
     "data": {
      "text/plain": [
       "<AxesSubplot:xlabel='model_year', ylabel='odometer'>"
      ]
     },
     "execution_count": 234,
     "metadata": {},
     "output_type": "execute_result"
    },
    {
     "data": {
      "image/png": "[encoded data removed]",
      "text/plain": [
       "<Figure size 432x288 with 1 Axes>"
      ]
     },
     "metadata": {
      "needs_background": "light"
     },
     "output_type": "display_data"
    }
   ],
   "source": [
    "# check no nova distribuição gerada\n",
    "df.plot.scatter(x='model_year', y='odometer')"
   ]
  },
  {
   "cell_type": "markdown",
   "metadata": {},
   "source": [
    "**Conclusão Final**\n",
    "\n",
    "Como podemos ver a substituição de odometer não foi tão simples. Foi necessário a categorização entre dois grupos que puderam ser vistos mediante a geração do gráfico de distribuição.\n",
    "\n",
    "Além disso, tivemos valores que não condiziam com uma realidade lógica, como valores muito discrepantes de kilometragem para carros mais novos e valores de kilometagem de carros 0km para modelos muito antigos.\n",
    "\n",
    "Foi feita a retirada desses dados afim de melhorar a análise e foram feita as analises de histograma para os grupos gerados. Foi possível observar que havia um crescimento de comportamento de distribuiçãoi ao crescer os anos, assim dividiu-se a dataframe em duas sendo:\n",
    "\n",
    "* model_year antes de 1990\n",
    "* model_year depois de 1990\n",
    "\n",
    "Gerou-se o gráfico de histograma para os dois casos e decidiu-se utilizar a mediana para o caso <1990 e média para >1990."
   ]
  },
  {
   "cell_type": "markdown",
   "metadata": {},
   "source": [
    "## Estudo para coluna paint_color\n",
    "Iremos estudar a cor dos carros.\n",
    "\n",
    "Analisando as informações gerais da dataframe, sabemos que esta coluna tem um grande número de valores nulos sendo, aproximadamente, 18% da última df gerada. Essa valor é muito grande e poderia afetar em nossa análise final. Desta maneira deveriamos realizar análises e testes para encontrar algum parametro para substituição.\n",
    "\n",
    "Vamos realizar uma análise de distribuição pro categoria de cor para entender como funciona.\n",
    "\n",
    "Em minha visão o dado acerca da cor do carro é muito subjetivo e, obviamente, teria uma tendência, porém, novamente, é muito subjetiva. Talvez errariamos ao inserir novos dados.\n",
    "\n",
    "Se não encontrarmos um padrão e um valor na distribuição não iremos retirar os dados e substituir como 'unknown' para efeitos futuros."
   ]
  },
  {
   "cell_type": "code",
   "execution_count": 235,
   "metadata": {},
   "outputs": [
    {
     "data": {
      "text/html": [
       "<div>\n",
       "<style scoped>\n",
       "    .dataframe tbody tr th:only-of-type {\n",
       "        vertical-align: middle;\n",
       "    }\n",
       "\n",
       "    .dataframe tbody tr th {\n",
       "        vertical-align: top;\n",
       "    }\n",
       "\n",
       "    .dataframe thead th {\n",
       "        text-align: right;\n",
       "    }\n",
       "</style>\n",
       "<table border=\"1\" class=\"dataframe\">\n",
       "  <thead>\n",
       "    <tr style=\"text-align: right;\">\n",
       "      <th></th>\n",
       "      <th>price</th>\n",
       "      <th>model_year</th>\n",
       "      <th>model</th>\n",
       "      <th>condition</th>\n",
       "      <th>cylinders</th>\n",
       "      <th>fuel</th>\n",
       "      <th>odometer</th>\n",
       "      <th>transmission</th>\n",
       "      <th>type</th>\n",
       "      <th>paint_color</th>\n",
       "      <th>is_4wd</th>\n",
       "      <th>date_posted</th>\n",
       "      <th>days_listed</th>\n",
       "    </tr>\n",
       "  </thead>\n",
       "  <tbody>\n",
       "    <tr>\n",
       "      <th>0</th>\n",
       "      <td>9400</td>\n",
       "      <td>2011.0</td>\n",
       "      <td>bmw x5</td>\n",
       "      <td>good</td>\n",
       "      <td>6.0</td>\n",
       "      <td>gas</td>\n",
       "      <td>145000.000000</td>\n",
       "      <td>automatic</td>\n",
       "      <td>SUV</td>\n",
       "      <td>NaN</td>\n",
       "      <td>1.0</td>\n",
       "      <td>2018-06-23</td>\n",
       "      <td>19</td>\n",
       "    </tr>\n",
       "    <tr>\n",
       "      <th>1</th>\n",
       "      <td>25500</td>\n",
       "      <td>2017.0</td>\n",
       "      <td>ford f-150</td>\n",
       "      <td>good</td>\n",
       "      <td>6.0</td>\n",
       "      <td>gas</td>\n",
       "      <td>88705.000000</td>\n",
       "      <td>automatic</td>\n",
       "      <td>pickup</td>\n",
       "      <td>white</td>\n",
       "      <td>1.0</td>\n",
       "      <td>2018-10-19</td>\n",
       "      <td>50</td>\n",
       "    </tr>\n",
       "    <tr>\n",
       "      <th>2</th>\n",
       "      <td>5500</td>\n",
       "      <td>2013.0</td>\n",
       "      <td>hyundai sonata</td>\n",
       "      <td>like new</td>\n",
       "      <td>4.0</td>\n",
       "      <td>gas</td>\n",
       "      <td>110000.000000</td>\n",
       "      <td>automatic</td>\n",
       "      <td>sedan</td>\n",
       "      <td>red</td>\n",
       "      <td>NaN</td>\n",
       "      <td>2019-02-07</td>\n",
       "      <td>79</td>\n",
       "    </tr>\n",
       "    <tr>\n",
       "      <th>3</th>\n",
       "      <td>1500</td>\n",
       "      <td>2003.0</td>\n",
       "      <td>ford f-150</td>\n",
       "      <td>fair</td>\n",
       "      <td>8.0</td>\n",
       "      <td>gas</td>\n",
       "      <td>156951.233843</td>\n",
       "      <td>automatic</td>\n",
       "      <td>pickup</td>\n",
       "      <td>NaN</td>\n",
       "      <td>NaN</td>\n",
       "      <td>2019-03-22</td>\n",
       "      <td>9</td>\n",
       "    </tr>\n",
       "    <tr>\n",
       "      <th>4</th>\n",
       "      <td>14900</td>\n",
       "      <td>2017.0</td>\n",
       "      <td>chrysler 200</td>\n",
       "      <td>excellent</td>\n",
       "      <td>4.0</td>\n",
       "      <td>gas</td>\n",
       "      <td>80903.000000</td>\n",
       "      <td>automatic</td>\n",
       "      <td>sedan</td>\n",
       "      <td>black</td>\n",
       "      <td>NaN</td>\n",
       "      <td>2019-04-02</td>\n",
       "      <td>28</td>\n",
       "    </tr>\n",
       "    <tr>\n",
       "      <th>...</th>\n",
       "      <td>...</td>\n",
       "      <td>...</td>\n",
       "      <td>...</td>\n",
       "      <td>...</td>\n",
       "      <td>...</td>\n",
       "      <td>...</td>\n",
       "      <td>...</td>\n",
       "      <td>...</td>\n",
       "      <td>...</td>\n",
       "      <td>...</td>\n",
       "      <td>...</td>\n",
       "      <td>...</td>\n",
       "      <td>...</td>\n",
       "    </tr>\n",
       "    <tr>\n",
       "      <th>51520</th>\n",
       "      <td>9249</td>\n",
       "      <td>2013.0</td>\n",
       "      <td>nissan maxima</td>\n",
       "      <td>like new</td>\n",
       "      <td>6.0</td>\n",
       "      <td>gas</td>\n",
       "      <td>88136.000000</td>\n",
       "      <td>automatic</td>\n",
       "      <td>sedan</td>\n",
       "      <td>black</td>\n",
       "      <td>NaN</td>\n",
       "      <td>2018-10-03</td>\n",
       "      <td>37</td>\n",
       "    </tr>\n",
       "    <tr>\n",
       "      <th>51521</th>\n",
       "      <td>2700</td>\n",
       "      <td>2002.0</td>\n",
       "      <td>honda civic</td>\n",
       "      <td>salvage</td>\n",
       "      <td>4.0</td>\n",
       "      <td>gas</td>\n",
       "      <td>181500.000000</td>\n",
       "      <td>automatic</td>\n",
       "      <td>sedan</td>\n",
       "      <td>white</td>\n",
       "      <td>NaN</td>\n",
       "      <td>2018-11-14</td>\n",
       "      <td>22</td>\n",
       "    </tr>\n",
       "    <tr>\n",
       "      <th>51522</th>\n",
       "      <td>3950</td>\n",
       "      <td>2009.0</td>\n",
       "      <td>hyundai sonata</td>\n",
       "      <td>excellent</td>\n",
       "      <td>4.0</td>\n",
       "      <td>gas</td>\n",
       "      <td>128000.000000</td>\n",
       "      <td>automatic</td>\n",
       "      <td>sedan</td>\n",
       "      <td>blue</td>\n",
       "      <td>NaN</td>\n",
       "      <td>2018-11-15</td>\n",
       "      <td>32</td>\n",
       "    </tr>\n",
       "    <tr>\n",
       "      <th>51523</th>\n",
       "      <td>7455</td>\n",
       "      <td>2013.0</td>\n",
       "      <td>toyota corolla</td>\n",
       "      <td>good</td>\n",
       "      <td>4.0</td>\n",
       "      <td>gas</td>\n",
       "      <td>139573.000000</td>\n",
       "      <td>automatic</td>\n",
       "      <td>sedan</td>\n",
       "      <td>black</td>\n",
       "      <td>NaN</td>\n",
       "      <td>2018-07-02</td>\n",
       "      <td>71</td>\n",
       "    </tr>\n",
       "    <tr>\n",
       "      <th>51524</th>\n",
       "      <td>6300</td>\n",
       "      <td>2014.0</td>\n",
       "      <td>nissan altima</td>\n",
       "      <td>good</td>\n",
       "      <td>4.0</td>\n",
       "      <td>gas</td>\n",
       "      <td>93017.438786</td>\n",
       "      <td>automatic</td>\n",
       "      <td>sedan</td>\n",
       "      <td>NaN</td>\n",
       "      <td>NaN</td>\n",
       "      <td>2018-06-05</td>\n",
       "      <td>10</td>\n",
       "    </tr>\n",
       "  </tbody>\n",
       "</table>\n",
       "<p>50552 rows × 13 columns</p>\n",
       "</div>"
      ],
      "text/plain": [
       "       price  model_year           model  condition  cylinders fuel  \\\n",
       "0       9400      2011.0          bmw x5       good        6.0  gas   \n",
       "1      25500      2017.0      ford f-150       good        6.0  gas   \n",
       "2       5500      2013.0  hyundai sonata   like new        4.0  gas   \n",
       "3       1500      2003.0      ford f-150       fair        8.0  gas   \n",
       "4      14900      2017.0    chrysler 200  excellent        4.0  gas   \n",
       "...      ...         ...             ...        ...        ...  ...   \n",
       "51520   9249      2013.0   nissan maxima   like new        6.0  gas   \n",
       "51521   2700      2002.0     honda civic    salvage        4.0  gas   \n",
       "51522   3950      2009.0  hyundai sonata  excellent        4.0  gas   \n",
       "51523   7455      2013.0  toyota corolla       good        4.0  gas   \n",
       "51524   6300      2014.0   nissan altima       good        4.0  gas   \n",
       "\n",
       "            odometer transmission    type paint_color  is_4wd date_posted  \\\n",
       "0      145000.000000    automatic     SUV         NaN     1.0  2018-06-23   \n",
       "1       88705.000000    automatic  pickup       white     1.0  2018-10-19   \n",
       "2      110000.000000    automatic   sedan         red     NaN  2019-02-07   \n",
       "3      156951.233843    automatic  pickup         NaN     NaN  2019-03-22   \n",
       "4       80903.000000    automatic   sedan       black     NaN  2019-04-02   \n",
       "...              ...          ...     ...         ...     ...         ...   \n",
       "51520   88136.000000    automatic   sedan       black     NaN  2018-10-03   \n",
       "51521  181500.000000    automatic   sedan       white     NaN  2018-11-14   \n",
       "51522  128000.000000    automatic   sedan        blue     NaN  2018-11-15   \n",
       "51523  139573.000000    automatic   sedan       black     NaN  2018-07-02   \n",
       "51524   93017.438786    automatic   sedan         NaN     NaN  2018-06-05   \n",
       "\n",
       "       days_listed  \n",
       "0               19  \n",
       "1               50  \n",
       "2               79  \n",
       "3                9  \n",
       "4               28  \n",
       "...            ...  \n",
       "51520           37  \n",
       "51521           22  \n",
       "51522           32  \n",
       "51523           71  \n",
       "51524           10  \n",
       "\n",
       "[50552 rows x 13 columns]"
      ]
     },
     "execution_count": 235,
     "metadata": {},
     "output_type": "execute_result"
    }
   ],
   "source": [
    "# mostrando a df\n",
    "df"
   ]
  },
  {
   "cell_type": "code",
   "execution_count": 236,
   "metadata": {},
   "outputs": [
    {
     "data": {
      "text/plain": [
       "array([nan, 'white', 'red', 'black', 'blue', 'grey', 'silver', 'custom',\n",
       "       'orange', 'yellow', 'brown', 'green', 'purple'], dtype=object)"
      ]
     },
     "execution_count": 236,
     "metadata": {},
     "output_type": "execute_result"
    }
   ],
   "source": [
    "# valores únicos em paint_color\n",
    "df['paint_color'].unique()"
   ]
  },
  {
   "cell_type": "code",
   "execution_count": 237,
   "metadata": {},
   "outputs": [
    {
     "data": {
      "text/plain": [
       "<BarContainer object of 12 artists>"
      ]
     },
     "execution_count": 237,
     "metadata": {},
     "output_type": "execute_result"
    },
    {
     "data": {
      "image/png": "[encoded data removed]",
      "text/plain": [
       "<Figure size 432x288 with 1 Axes>"
      ]
     },
     "metadata": {
      "needs_background": "light"
     },
     "output_type": "display_data"
    }
   ],
   "source": [
    "# distribuição de contagem de cores por cor\n",
    "grupos = df.groupby(by='paint_color')['paint_color'].count()\n",
    "plt.bar(grupos.index, grupos)"
   ]
  },
  {
   "cell_type": "markdown",
   "metadata": {},
   "source": [
    "**Conclusão intermediária**\n",
    "\n",
    "Podemos observar que não há nenhum valor de cor discrepante e há vários grupos com valores altos. \n",
    "\n",
    "Os valores de preto, branco e prata sobressaem o restante dos valores, além disso, vermelho, azul e verde também tem boa representatividade.\n",
    "\n",
    "Vamos agora realizar uma análise por nome de carro para entender se há alguma diferença ou correlação para as marcas ou se seguem o mesmo padrão da df total. \n",
    "\n",
    "Caso siga o mesmo padrão da df, não poderemos realizar a troca de valores."
   ]
  },
  {
   "cell_type": "code",
   "execution_count": 238,
   "metadata": {
    "scrolled": true
   },
   "outputs": [
    {
     "name": "stdout",
     "output_type": "stream",
     "text": [
      "['bmw x5', 'ford f-150', 'hyundai sonata', 'chrysler 200', 'chrysler 300', 'toyota camry', 'honda pilot', 'kia sorento', 'chevrolet silverado 1500', 'honda accord', 'ram 1500', 'gmc yukon', 'jeep cherokee', 'chevrolet traverse', 'hyundai elantra', 'chevrolet tahoe', 'toyota rav4', 'chevrolet silverado', 'jeep wrangler', 'chevrolet malibu', 'ford fusion se', 'chevrolet impala', 'chevrolet corvette', 'jeep liberty', 'toyota camry le', 'nissan altima', 'subaru outback', 'toyota highlander', 'dodge charger', 'toyota tacoma', 'chevrolet equinox', 'nissan rogue', 'mercedes-benz benze sprinter 2500', 'honda cr-v', 'jeep grand cherokee', 'toyota 4runner', 'ford focus', 'honda civic', 'kia soul', 'chevrolet colorado', 'ford f150 supercrew cab xlt', 'chevrolet camaro lt coupe 2d', 'chevrolet cruze', 'ford mustang', 'chevrolet silverado 3500hd', 'nissan frontier crew cab sv', 'subaru impreza', 'jeep grand cherokee laredo', 'nissan versa', 'ford f-250 sd', 'chevrolet silverado 1500 crew', 'ford f250 super duty', 'chevrolet camaro', 'ford mustang gt coupe 2d', 'subaru forester', 'ford explorer', 'ford f-350 sd', 'ford edge', 'nissan maxima', 'ford f-250', 'nissan sentra', 'ford f150', 'chevrolet suburban', 'ford expedition', 'dodge grand caravan', 'ford taurus', 'acura tl', 'ford f350 super duty', 'ford ranger', 'gmc sierra', 'hyundai santa fe', 'ford escape', 'gmc sierra 2500hd', 'honda civic lx', 'gmc sierra 1500', 'honda odyssey', 'cadillac escalade', 'volkswagen jetta', 'toyota corolla', 'chrysler town & country', 'volkswagen passat', 'toyota prius', 'buick enclave', 'ford fusion', 'toyota tundra', 'ram 3500', 'ram 2500', 'nissan frontier', 'chevrolet silverado 2500hd', 'jeep wrangler unlimited', 'ford f-250 super duty', 'gmc acadia', 'toyota sienna', 'ford focus se', 'ford f250', 'dodge dakota', 'ford f350', 'chevrolet trailblazer', 'ford econoline', 'nissan murano']\n"
     ]
    }
   ],
   "source": [
    "# lista de nomes de carros\n",
    "print(list_model)"
   ]
  },
  {
   "cell_type": "code",
   "execution_count": 239,
   "metadata": {
    "scrolled": false
   },
   "outputs": [
    {
     "data": {
      "image/png": "[encoded data removed]",
      "text/plain": [
       "<Figure size 432x288 with 1 Axes>"
      ]
     },
     "metadata": {
      "needs_background": "light"
     },
     "output_type": "display_data"
    },
    {
     "data": {
      "image/png": "[encoded data removed]",
      "text/plain": [
       "<Figure size 432x288 with 1 Axes>"
      ]
     },
     "metadata": {
      "needs_background": "light"
     },
     "output_type": "display_data"
    },
    {
     "data": {
      "image/png": "[encoded data removed]",
      "text/plain": [
       "<Figure size 432x288 with 1 Axes>"
      ]
     },
     "metadata": {
      "needs_background": "light"
     },
     "output_type": "display_data"
    },
    {
     "data": {
      "image/png": "[encoded data removed]",
      "text/plain": [
       "<Figure size 432x288 with 1 Axes>"
      ]
     },
     "metadata": {
      "needs_background": "light"
     },
     "output_type": "display_data"
    },
    {
     "data": {
      "image/png": "[encoded data removed]",
      "text/plain": [
       "<Figure size 432x288 with 1 Axes>"
      ]
     },
     "metadata": {
      "needs_background": "light"
     },
     "output_type": "display_data"
    }
   ],
   "source": [
    "# vamos gerar 5 gráficos para diferentes carros e analisar a distribuição\n",
    "for x in range (0,5):\n",
    "    y = list_model[x]\n",
    "    grupos = df[df['model'] == y].groupby(by='paint_color')['paint_color'].count()\n",
    "    plt.figure()\n",
    "    plt.title(f'Gráfico de Linhas - Grupo {y}')\n",
    "    plt.bar(grupos.index, grupos)"
   ]
  },
  {
   "cell_type": "markdown",
   "metadata": {},
   "source": [
    "**Conclusão Final**\n",
    "\n",
    "Primeiramente, os dados de coloração dos carros é um dado de aleatoriedade muito alta. Ou seja, diferentes carros tem diferentes cores para diferentes modelos. Isso gera uma aleatoriedade tão grande que deixa quase impossível a substituição dos valores ausentes.\n",
    "\n",
    "Além disso, quando geramos os gráficos de distribuição das cores pelos modelos, podemos ver que há várias cores que sobressaem na contagem geral de cores, dificultando ainda mais a substituição.\n",
    "\n",
    "Ao analisar o conjunto de dados utilizando 5 marcas de carros diferentes, nos deparamos com a aleatoriedade referida. Ou seja, cada modelo de carro tem sua própria característica e, na maior parte das vezes, bem distribuídas. Isso é, diferentes carros tem diferentes comportamentos de cor e sem cores que se sobressaem.\n",
    "\n",
    "Nesse cenário, se alterarmos a grande quantidade de dado que a coluna está faltando iremos afetar negativamente a análise final, pois iriamos apagar outras linhas da df que não estão vazias e que iremos utilizar para análise. Assim, iremos deixar os dados e substituir os dados nulos pela string 'unknown'."
   ]
  },
  {
   "cell_type": "code",
   "execution_count": 240,
   "metadata": {},
   "outputs": [
    {
     "name": "stdout",
     "output_type": "stream",
     "text": [
      "<class 'pandas.core.frame.DataFrame'>\n",
      "Int64Index: 50552 entries, 0 to 51524\n",
      "Data columns (total 13 columns):\n",
      " #   Column        Non-Null Count  Dtype  \n",
      "---  ------        --------------  -----  \n",
      " 0   price         50552 non-null  int64  \n",
      " 1   model_year    50552 non-null  float64\n",
      " 2   model         50552 non-null  object \n",
      " 3   condition     50552 non-null  object \n",
      " 4   cylinders     50552 non-null  float64\n",
      " 5   fuel          50552 non-null  object \n",
      " 6   odometer      50552 non-null  float64\n",
      " 7   transmission  50552 non-null  object \n",
      " 8   type          50552 non-null  object \n",
      " 9   paint_color   50552 non-null  object \n",
      " 10  is_4wd        24987 non-null  float64\n",
      " 11  date_posted   50552 non-null  object \n",
      " 12  days_listed   50552 non-null  int64  \n",
      "dtypes: float64(4), int64(2), object(7)\n",
      "memory usage: 5.4+ MB\n"
     ]
    }
   ],
   "source": [
    "# substituindo valores ausentes por unkwnown\n",
    "df['paint_color'] = df['paint_color'].fillna('unknown')\n",
    "df.info()"
   ]
  },
  {
   "cell_type": "markdown",
   "metadata": {},
   "source": [
    "## Estudo para coluna is_4wd\n",
    "Iremos estudar o veículo 4x4.\n",
    "\n",
    "A nossa df retorna que há vários valores nulos, mas pelo padrão da DataFrame e pelo modelo que a index da coluna veio podemos supor que 1 é igual a 'Sim' é 4x4 e 0 é 'Não' é 4x4.\n",
    "\n",
    "Assim seria interessante substituir os valores nulos pelo número 0, ou trabalhar com True e False como Bool.\n",
    "\n",
    "Vamos analisar os valores únicos na coluna e depois decidir pela troca ou não."
   ]
  },
  {
   "cell_type": "code",
   "execution_count": 241,
   "metadata": {},
   "outputs": [
    {
     "data": {
      "text/plain": [
       "array([ 1., nan])"
      ]
     },
     "execution_count": 241,
     "metadata": {},
     "output_type": "execute_result"
    }
   ],
   "source": [
    "# valores únicos is_4wd\n",
    "df['is_4wd'].unique()"
   ]
  },
  {
   "cell_type": "markdown",
   "metadata": {},
   "source": [
    "Pelo que parece a coluna nossa suposição parece correta mesmo. Iremos realizar a substituição de nulos por 0"
   ]
  },
  {
   "cell_type": "code",
   "execution_count": 242,
   "metadata": {},
   "outputs": [
    {
     "name": "stdout",
     "output_type": "stream",
     "text": [
      "<class 'pandas.core.frame.DataFrame'>\n",
      "Int64Index: 50552 entries, 0 to 51524\n",
      "Data columns (total 13 columns):\n",
      " #   Column        Non-Null Count  Dtype  \n",
      "---  ------        --------------  -----  \n",
      " 0   price         50552 non-null  int64  \n",
      " 1   model_year    50552 non-null  float64\n",
      " 2   model         50552 non-null  object \n",
      " 3   condition     50552 non-null  object \n",
      " 4   cylinders     50552 non-null  float64\n",
      " 5   fuel          50552 non-null  object \n",
      " 6   odometer      50552 non-null  float64\n",
      " 7   transmission  50552 non-null  object \n",
      " 8   type          50552 non-null  object \n",
      " 9   paint_color   50552 non-null  object \n",
      " 10  is_4wd        50552 non-null  int64  \n",
      " 11  date_posted   50552 non-null  object \n",
      " 12  days_listed   50552 non-null  int64  \n",
      "dtypes: float64(3), int64(3), object(7)\n",
      "memory usage: 5.4+ MB\n"
     ]
    }
   ],
   "source": [
    "# substituindo valor\n",
    "df['is_4wd'] = df['is_4wd'].fillna(False)\n",
    "\n",
    "# de float para int\n",
    "df['is_4wd'] = df['is_4wd'].astype(int)\n",
    "\n",
    "\n",
    "df.info()"
   ]
  },
  {
   "cell_type": "code",
   "execution_count": 243,
   "metadata": {},
   "outputs": [
    {
     "data": {
      "text/html": [
       "<div>\n",
       "<style scoped>\n",
       "    .dataframe tbody tr th:only-of-type {\n",
       "        vertical-align: middle;\n",
       "    }\n",
       "\n",
       "    .dataframe tbody tr th {\n",
       "        vertical-align: top;\n",
       "    }\n",
       "\n",
       "    .dataframe thead th {\n",
       "        text-align: right;\n",
       "    }\n",
       "</style>\n",
       "<table border=\"1\" class=\"dataframe\">\n",
       "  <thead>\n",
       "    <tr style=\"text-align: right;\">\n",
       "      <th></th>\n",
       "      <th>price</th>\n",
       "      <th>model_year</th>\n",
       "      <th>model</th>\n",
       "      <th>condition</th>\n",
       "      <th>cylinders</th>\n",
       "      <th>fuel</th>\n",
       "      <th>odometer</th>\n",
       "      <th>transmission</th>\n",
       "      <th>type</th>\n",
       "      <th>paint_color</th>\n",
       "      <th>is_4wd</th>\n",
       "      <th>date_posted</th>\n",
       "      <th>days_listed</th>\n",
       "    </tr>\n",
       "  </thead>\n",
       "  <tbody>\n",
       "    <tr>\n",
       "      <th>0</th>\n",
       "      <td>9400</td>\n",
       "      <td>2011.0</td>\n",
       "      <td>bmw x5</td>\n",
       "      <td>good</td>\n",
       "      <td>6.0</td>\n",
       "      <td>gas</td>\n",
       "      <td>145000.000000</td>\n",
       "      <td>automatic</td>\n",
       "      <td>SUV</td>\n",
       "      <td>unknown</td>\n",
       "      <td>1</td>\n",
       "      <td>2018-06-23</td>\n",
       "      <td>19</td>\n",
       "    </tr>\n",
       "    <tr>\n",
       "      <th>1</th>\n",
       "      <td>25500</td>\n",
       "      <td>2017.0</td>\n",
       "      <td>ford f-150</td>\n",
       "      <td>good</td>\n",
       "      <td>6.0</td>\n",
       "      <td>gas</td>\n",
       "      <td>88705.000000</td>\n",
       "      <td>automatic</td>\n",
       "      <td>pickup</td>\n",
       "      <td>white</td>\n",
       "      <td>1</td>\n",
       "      <td>2018-10-19</td>\n",
       "      <td>50</td>\n",
       "    </tr>\n",
       "    <tr>\n",
       "      <th>2</th>\n",
       "      <td>5500</td>\n",
       "      <td>2013.0</td>\n",
       "      <td>hyundai sonata</td>\n",
       "      <td>like new</td>\n",
       "      <td>4.0</td>\n",
       "      <td>gas</td>\n",
       "      <td>110000.000000</td>\n",
       "      <td>automatic</td>\n",
       "      <td>sedan</td>\n",
       "      <td>red</td>\n",
       "      <td>0</td>\n",
       "      <td>2019-02-07</td>\n",
       "      <td>79</td>\n",
       "    </tr>\n",
       "    <tr>\n",
       "      <th>3</th>\n",
       "      <td>1500</td>\n",
       "      <td>2003.0</td>\n",
       "      <td>ford f-150</td>\n",
       "      <td>fair</td>\n",
       "      <td>8.0</td>\n",
       "      <td>gas</td>\n",
       "      <td>156951.233843</td>\n",
       "      <td>automatic</td>\n",
       "      <td>pickup</td>\n",
       "      <td>unknown</td>\n",
       "      <td>0</td>\n",
       "      <td>2019-03-22</td>\n",
       "      <td>9</td>\n",
       "    </tr>\n",
       "    <tr>\n",
       "      <th>4</th>\n",
       "      <td>14900</td>\n",
       "      <td>2017.0</td>\n",
       "      <td>chrysler 200</td>\n",
       "      <td>excellent</td>\n",
       "      <td>4.0</td>\n",
       "      <td>gas</td>\n",
       "      <td>80903.000000</td>\n",
       "      <td>automatic</td>\n",
       "      <td>sedan</td>\n",
       "      <td>black</td>\n",
       "      <td>0</td>\n",
       "      <td>2019-04-02</td>\n",
       "      <td>28</td>\n",
       "    </tr>\n",
       "    <tr>\n",
       "      <th>...</th>\n",
       "      <td>...</td>\n",
       "      <td>...</td>\n",
       "      <td>...</td>\n",
       "      <td>...</td>\n",
       "      <td>...</td>\n",
       "      <td>...</td>\n",
       "      <td>...</td>\n",
       "      <td>...</td>\n",
       "      <td>...</td>\n",
       "      <td>...</td>\n",
       "      <td>...</td>\n",
       "      <td>...</td>\n",
       "      <td>...</td>\n",
       "    </tr>\n",
       "    <tr>\n",
       "      <th>51520</th>\n",
       "      <td>9249</td>\n",
       "      <td>2013.0</td>\n",
       "      <td>nissan maxima</td>\n",
       "      <td>like new</td>\n",
       "      <td>6.0</td>\n",
       "      <td>gas</td>\n",
       "      <td>88136.000000</td>\n",
       "      <td>automatic</td>\n",
       "      <td>sedan</td>\n",
       "      <td>black</td>\n",
       "      <td>0</td>\n",
       "      <td>2018-10-03</td>\n",
       "      <td>37</td>\n",
       "    </tr>\n",
       "    <tr>\n",
       "      <th>51521</th>\n",
       "      <td>2700</td>\n",
       "      <td>2002.0</td>\n",
       "      <td>honda civic</td>\n",
       "      <td>salvage</td>\n",
       "      <td>4.0</td>\n",
       "      <td>gas</td>\n",
       "      <td>181500.000000</td>\n",
       "      <td>automatic</td>\n",
       "      <td>sedan</td>\n",
       "      <td>white</td>\n",
       "      <td>0</td>\n",
       "      <td>2018-11-14</td>\n",
       "      <td>22</td>\n",
       "    </tr>\n",
       "    <tr>\n",
       "      <th>51522</th>\n",
       "      <td>3950</td>\n",
       "      <td>2009.0</td>\n",
       "      <td>hyundai sonata</td>\n",
       "      <td>excellent</td>\n",
       "      <td>4.0</td>\n",
       "      <td>gas</td>\n",
       "      <td>128000.000000</td>\n",
       "      <td>automatic</td>\n",
       "      <td>sedan</td>\n",
       "      <td>blue</td>\n",
       "      <td>0</td>\n",
       "      <td>2018-11-15</td>\n",
       "      <td>32</td>\n",
       "    </tr>\n",
       "    <tr>\n",
       "      <th>51523</th>\n",
       "      <td>7455</td>\n",
       "      <td>2013.0</td>\n",
       "      <td>toyota corolla</td>\n",
       "      <td>good</td>\n",
       "      <td>4.0</td>\n",
       "      <td>gas</td>\n",
       "      <td>139573.000000</td>\n",
       "      <td>automatic</td>\n",
       "      <td>sedan</td>\n",
       "      <td>black</td>\n",
       "      <td>0</td>\n",
       "      <td>2018-07-02</td>\n",
       "      <td>71</td>\n",
       "    </tr>\n",
       "    <tr>\n",
       "      <th>51524</th>\n",
       "      <td>6300</td>\n",
       "      <td>2014.0</td>\n",
       "      <td>nissan altima</td>\n",
       "      <td>good</td>\n",
       "      <td>4.0</td>\n",
       "      <td>gas</td>\n",
       "      <td>93017.438786</td>\n",
       "      <td>automatic</td>\n",
       "      <td>sedan</td>\n",
       "      <td>unknown</td>\n",
       "      <td>0</td>\n",
       "      <td>2018-06-05</td>\n",
       "      <td>10</td>\n",
       "    </tr>\n",
       "  </tbody>\n",
       "</table>\n",
       "<p>50552 rows × 13 columns</p>\n",
       "</div>"
      ],
      "text/plain": [
       "       price  model_year           model  condition  cylinders fuel  \\\n",
       "0       9400      2011.0          bmw x5       good        6.0  gas   \n",
       "1      25500      2017.0      ford f-150       good        6.0  gas   \n",
       "2       5500      2013.0  hyundai sonata   like new        4.0  gas   \n",
       "3       1500      2003.0      ford f-150       fair        8.0  gas   \n",
       "4      14900      2017.0    chrysler 200  excellent        4.0  gas   \n",
       "...      ...         ...             ...        ...        ...  ...   \n",
       "51520   9249      2013.0   nissan maxima   like new        6.0  gas   \n",
       "51521   2700      2002.0     honda civic    salvage        4.0  gas   \n",
       "51522   3950      2009.0  hyundai sonata  excellent        4.0  gas   \n",
       "51523   7455      2013.0  toyota corolla       good        4.0  gas   \n",
       "51524   6300      2014.0   nissan altima       good        4.0  gas   \n",
       "\n",
       "            odometer transmission    type paint_color  is_4wd date_posted  \\\n",
       "0      145000.000000    automatic     SUV     unknown       1  2018-06-23   \n",
       "1       88705.000000    automatic  pickup       white       1  2018-10-19   \n",
       "2      110000.000000    automatic   sedan         red       0  2019-02-07   \n",
       "3      156951.233843    automatic  pickup     unknown       0  2019-03-22   \n",
       "4       80903.000000    automatic   sedan       black       0  2019-04-02   \n",
       "...              ...          ...     ...         ...     ...         ...   \n",
       "51520   88136.000000    automatic   sedan       black       0  2018-10-03   \n",
       "51521  181500.000000    automatic   sedan       white       0  2018-11-14   \n",
       "51522  128000.000000    automatic   sedan        blue       0  2018-11-15   \n",
       "51523  139573.000000    automatic   sedan       black       0  2018-07-02   \n",
       "51524   93017.438786    automatic   sedan     unknown       0  2018-06-05   \n",
       "\n",
       "       days_listed  \n",
       "0               19  \n",
       "1               50  \n",
       "2               79  \n",
       "3                9  \n",
       "4               28  \n",
       "...            ...  \n",
       "51520           37  \n",
       "51521           22  \n",
       "51522           32  \n",
       "51523           71  \n",
       "51524           10  \n",
       "\n",
       "[50552 rows x 13 columns]"
      ]
     },
     "execution_count": 243,
     "metadata": {},
     "output_type": "execute_result"
    }
   ],
   "source": [
    "df"
   ]
  },
  {
   "cell_type": "markdown",
   "metadata": {},
   "source": [
    "## Corrija os tipos de dados"
   ]
  },
  {
   "cell_type": "markdown",
   "metadata": {},
   "source": [
    "Agora iremos corrigir os tipos de dados que as colunas estão classificadas.\n",
    "\n",
    "Nas primeiras seções já havíamos comentado um pouco dos erros dos dados das colunas.\n",
    "\n",
    "Iremos chamar a função .info e imprimir a DataFrame para recordar os erros e substituir os tipos de dados em poucos comandos."
   ]
  },
  {
   "cell_type": "code",
   "execution_count": 244,
   "metadata": {},
   "outputs": [
    {
     "name": "stdout",
     "output_type": "stream",
     "text": [
      "<class 'pandas.core.frame.DataFrame'>\n",
      "Int64Index: 50552 entries, 0 to 51524\n",
      "Data columns (total 13 columns):\n",
      " #   Column        Non-Null Count  Dtype  \n",
      "---  ------        --------------  -----  \n",
      " 0   price         50552 non-null  int64  \n",
      " 1   model_year    50552 non-null  float64\n",
      " 2   model         50552 non-null  object \n",
      " 3   condition     50552 non-null  object \n",
      " 4   cylinders     50552 non-null  float64\n",
      " 5   fuel          50552 non-null  object \n",
      " 6   odometer      50552 non-null  float64\n",
      " 7   transmission  50552 non-null  object \n",
      " 8   type          50552 non-null  object \n",
      " 9   paint_color   50552 non-null  object \n",
      " 10  is_4wd        50552 non-null  int64  \n",
      " 11  date_posted   50552 non-null  object \n",
      " 12  days_listed   50552 non-null  int64  \n",
      "dtypes: float64(3), int64(3), object(7)\n",
      "memory usage: 5.4+ MB\n"
     ]
    }
   ],
   "source": [
    "# informações sobre as colunas\n",
    "df.info()"
   ]
  },
  {
   "cell_type": "code",
   "execution_count": 245,
   "metadata": {},
   "outputs": [
    {
     "data": {
      "text/html": [
       "<div>\n",
       "<style scoped>\n",
       "    .dataframe tbody tr th:only-of-type {\n",
       "        vertical-align: middle;\n",
       "    }\n",
       "\n",
       "    .dataframe tbody tr th {\n",
       "        vertical-align: top;\n",
       "    }\n",
       "\n",
       "    .dataframe thead th {\n",
       "        text-align: right;\n",
       "    }\n",
       "</style>\n",
       "<table border=\"1\" class=\"dataframe\">\n",
       "  <thead>\n",
       "    <tr style=\"text-align: right;\">\n",
       "      <th></th>\n",
       "      <th>price</th>\n",
       "      <th>model_year</th>\n",
       "      <th>model</th>\n",
       "      <th>condition</th>\n",
       "      <th>cylinders</th>\n",
       "      <th>fuel</th>\n",
       "      <th>odometer</th>\n",
       "      <th>transmission</th>\n",
       "      <th>type</th>\n",
       "      <th>paint_color</th>\n",
       "      <th>is_4wd</th>\n",
       "      <th>date_posted</th>\n",
       "      <th>days_listed</th>\n",
       "    </tr>\n",
       "  </thead>\n",
       "  <tbody>\n",
       "    <tr>\n",
       "      <th>0</th>\n",
       "      <td>9400</td>\n",
       "      <td>2011.0</td>\n",
       "      <td>bmw x5</td>\n",
       "      <td>good</td>\n",
       "      <td>6.0</td>\n",
       "      <td>gas</td>\n",
       "      <td>145000.000000</td>\n",
       "      <td>automatic</td>\n",
       "      <td>SUV</td>\n",
       "      <td>unknown</td>\n",
       "      <td>1</td>\n",
       "      <td>2018-06-23</td>\n",
       "      <td>19</td>\n",
       "    </tr>\n",
       "    <tr>\n",
       "      <th>1</th>\n",
       "      <td>25500</td>\n",
       "      <td>2017.0</td>\n",
       "      <td>ford f-150</td>\n",
       "      <td>good</td>\n",
       "      <td>6.0</td>\n",
       "      <td>gas</td>\n",
       "      <td>88705.000000</td>\n",
       "      <td>automatic</td>\n",
       "      <td>pickup</td>\n",
       "      <td>white</td>\n",
       "      <td>1</td>\n",
       "      <td>2018-10-19</td>\n",
       "      <td>50</td>\n",
       "    </tr>\n",
       "    <tr>\n",
       "      <th>2</th>\n",
       "      <td>5500</td>\n",
       "      <td>2013.0</td>\n",
       "      <td>hyundai sonata</td>\n",
       "      <td>like new</td>\n",
       "      <td>4.0</td>\n",
       "      <td>gas</td>\n",
       "      <td>110000.000000</td>\n",
       "      <td>automatic</td>\n",
       "      <td>sedan</td>\n",
       "      <td>red</td>\n",
       "      <td>0</td>\n",
       "      <td>2019-02-07</td>\n",
       "      <td>79</td>\n",
       "    </tr>\n",
       "    <tr>\n",
       "      <th>3</th>\n",
       "      <td>1500</td>\n",
       "      <td>2003.0</td>\n",
       "      <td>ford f-150</td>\n",
       "      <td>fair</td>\n",
       "      <td>8.0</td>\n",
       "      <td>gas</td>\n",
       "      <td>156951.233843</td>\n",
       "      <td>automatic</td>\n",
       "      <td>pickup</td>\n",
       "      <td>unknown</td>\n",
       "      <td>0</td>\n",
       "      <td>2019-03-22</td>\n",
       "      <td>9</td>\n",
       "    </tr>\n",
       "    <tr>\n",
       "      <th>4</th>\n",
       "      <td>14900</td>\n",
       "      <td>2017.0</td>\n",
       "      <td>chrysler 200</td>\n",
       "      <td>excellent</td>\n",
       "      <td>4.0</td>\n",
       "      <td>gas</td>\n",
       "      <td>80903.000000</td>\n",
       "      <td>automatic</td>\n",
       "      <td>sedan</td>\n",
       "      <td>black</td>\n",
       "      <td>0</td>\n",
       "      <td>2019-04-02</td>\n",
       "      <td>28</td>\n",
       "    </tr>\n",
       "    <tr>\n",
       "      <th>...</th>\n",
       "      <td>...</td>\n",
       "      <td>...</td>\n",
       "      <td>...</td>\n",
       "      <td>...</td>\n",
       "      <td>...</td>\n",
       "      <td>...</td>\n",
       "      <td>...</td>\n",
       "      <td>...</td>\n",
       "      <td>...</td>\n",
       "      <td>...</td>\n",
       "      <td>...</td>\n",
       "      <td>...</td>\n",
       "      <td>...</td>\n",
       "    </tr>\n",
       "    <tr>\n",
       "      <th>51520</th>\n",
       "      <td>9249</td>\n",
       "      <td>2013.0</td>\n",
       "      <td>nissan maxima</td>\n",
       "      <td>like new</td>\n",
       "      <td>6.0</td>\n",
       "      <td>gas</td>\n",
       "      <td>88136.000000</td>\n",
       "      <td>automatic</td>\n",
       "      <td>sedan</td>\n",
       "      <td>black</td>\n",
       "      <td>0</td>\n",
       "      <td>2018-10-03</td>\n",
       "      <td>37</td>\n",
       "    </tr>\n",
       "    <tr>\n",
       "      <th>51521</th>\n",
       "      <td>2700</td>\n",
       "      <td>2002.0</td>\n",
       "      <td>honda civic</td>\n",
       "      <td>salvage</td>\n",
       "      <td>4.0</td>\n",
       "      <td>gas</td>\n",
       "      <td>181500.000000</td>\n",
       "      <td>automatic</td>\n",
       "      <td>sedan</td>\n",
       "      <td>white</td>\n",
       "      <td>0</td>\n",
       "      <td>2018-11-14</td>\n",
       "      <td>22</td>\n",
       "    </tr>\n",
       "    <tr>\n",
       "      <th>51522</th>\n",
       "      <td>3950</td>\n",
       "      <td>2009.0</td>\n",
       "      <td>hyundai sonata</td>\n",
       "      <td>excellent</td>\n",
       "      <td>4.0</td>\n",
       "      <td>gas</td>\n",
       "      <td>128000.000000</td>\n",
       "      <td>automatic</td>\n",
       "      <td>sedan</td>\n",
       "      <td>blue</td>\n",
       "      <td>0</td>\n",
       "      <td>2018-11-15</td>\n",
       "      <td>32</td>\n",
       "    </tr>\n",
       "    <tr>\n",
       "      <th>51523</th>\n",
       "      <td>7455</td>\n",
       "      <td>2013.0</td>\n",
       "      <td>toyota corolla</td>\n",
       "      <td>good</td>\n",
       "      <td>4.0</td>\n",
       "      <td>gas</td>\n",
       "      <td>139573.000000</td>\n",
       "      <td>automatic</td>\n",
       "      <td>sedan</td>\n",
       "      <td>black</td>\n",
       "      <td>0</td>\n",
       "      <td>2018-07-02</td>\n",
       "      <td>71</td>\n",
       "    </tr>\n",
       "    <tr>\n",
       "      <th>51524</th>\n",
       "      <td>6300</td>\n",
       "      <td>2014.0</td>\n",
       "      <td>nissan altima</td>\n",
       "      <td>good</td>\n",
       "      <td>4.0</td>\n",
       "      <td>gas</td>\n",
       "      <td>93017.438786</td>\n",
       "      <td>automatic</td>\n",
       "      <td>sedan</td>\n",
       "      <td>unknown</td>\n",
       "      <td>0</td>\n",
       "      <td>2018-06-05</td>\n",
       "      <td>10</td>\n",
       "    </tr>\n",
       "  </tbody>\n",
       "</table>\n",
       "<p>50552 rows × 13 columns</p>\n",
       "</div>"
      ],
      "text/plain": [
       "       price  model_year           model  condition  cylinders fuel  \\\n",
       "0       9400      2011.0          bmw x5       good        6.0  gas   \n",
       "1      25500      2017.0      ford f-150       good        6.0  gas   \n",
       "2       5500      2013.0  hyundai sonata   like new        4.0  gas   \n",
       "3       1500      2003.0      ford f-150       fair        8.0  gas   \n",
       "4      14900      2017.0    chrysler 200  excellent        4.0  gas   \n",
       "...      ...         ...             ...        ...        ...  ...   \n",
       "51520   9249      2013.0   nissan maxima   like new        6.0  gas   \n",
       "51521   2700      2002.0     honda civic    salvage        4.0  gas   \n",
       "51522   3950      2009.0  hyundai sonata  excellent        4.0  gas   \n",
       "51523   7455      2013.0  toyota corolla       good        4.0  gas   \n",
       "51524   6300      2014.0   nissan altima       good        4.0  gas   \n",
       "\n",
       "            odometer transmission    type paint_color  is_4wd date_posted  \\\n",
       "0      145000.000000    automatic     SUV     unknown       1  2018-06-23   \n",
       "1       88705.000000    automatic  pickup       white       1  2018-10-19   \n",
       "2      110000.000000    automatic   sedan         red       0  2019-02-07   \n",
       "3      156951.233843    automatic  pickup     unknown       0  2019-03-22   \n",
       "4       80903.000000    automatic   sedan       black       0  2019-04-02   \n",
       "...              ...          ...     ...         ...     ...         ...   \n",
       "51520   88136.000000    automatic   sedan       black       0  2018-10-03   \n",
       "51521  181500.000000    automatic   sedan       white       0  2018-11-14   \n",
       "51522  128000.000000    automatic   sedan        blue       0  2018-11-15   \n",
       "51523  139573.000000    automatic   sedan       black       0  2018-07-02   \n",
       "51524   93017.438786    automatic   sedan     unknown       0  2018-06-05   \n",
       "\n",
       "       days_listed  \n",
       "0               19  \n",
       "1               50  \n",
       "2               79  \n",
       "3                9  \n",
       "4               28  \n",
       "...            ...  \n",
       "51520           37  \n",
       "51521           22  \n",
       "51522           32  \n",
       "51523           71  \n",
       "51524           10  \n",
       "\n",
       "[50552 rows x 13 columns]"
      ]
     },
     "execution_count": 245,
     "metadata": {},
     "output_type": "execute_result"
    }
   ],
   "source": [
    "# imprimindo df\n",
    "df"
   ]
  },
  {
   "cell_type": "markdown",
   "metadata": {},
   "source": [
    "**Conclusão Intermediária**\n",
    "\n",
    "As colunas que necessitamos alterar os dados são:\n",
    "\n",
    "* model_year --> float to int\n",
    "* model --> substituir duplicatas implicitas\n",
    "* condition --> verificar por duplicatas implicitas\n",
    "* cylinders --> float to int\n",
    "* odometer --> float to int\n",
    "* transmission --> verificar por duplicatas implicitas\n",
    "* type --> verificar por duplicatas implicitas\n",
    "* date_posted --> object to dtime\n",
    "\n",
    "Vamos começar com as substituições de float para int inicialmente e depois iremos a procura de duplicatas implicitas em outras colunas."
   ]
  },
  {
   "cell_type": "markdown",
   "metadata": {},
   "source": [
    "### Float para int e object para dtime"
   ]
  },
  {
   "cell_type": "code",
   "execution_count": 246,
   "metadata": {},
   "outputs": [],
   "source": [
    "# trocando os tipos de float para int nas colunas\n",
    "df['model_year'] = df['model_year'].astype(int)\n",
    "df['cylinders'] = df['cylinders'].astype(int)\n",
    "df['odometer'] = df['odometer'].astype(int)\n",
    "\n",
    "# trocando object to dtime\n",
    "df['date_posted'] = pd.to_datetime(df['date_posted'], format='%Y-%m-%d')"
   ]
  },
  {
   "cell_type": "code",
   "execution_count": 247,
   "metadata": {},
   "outputs": [
    {
     "name": "stdout",
     "output_type": "stream",
     "text": [
      "<class 'pandas.core.frame.DataFrame'>\n",
      "Int64Index: 50552 entries, 0 to 51524\n",
      "Data columns (total 13 columns):\n",
      " #   Column        Non-Null Count  Dtype         \n",
      "---  ------        --------------  -----         \n",
      " 0   price         50552 non-null  int64         \n",
      " 1   model_year    50552 non-null  int64         \n",
      " 2   model         50552 non-null  object        \n",
      " 3   condition     50552 non-null  object        \n",
      " 4   cylinders     50552 non-null  int64         \n",
      " 5   fuel          50552 non-null  object        \n",
      " 6   odometer      50552 non-null  int64         \n",
      " 7   transmission  50552 non-null  object        \n",
      " 8   type          50552 non-null  object        \n",
      " 9   paint_color   50552 non-null  object        \n",
      " 10  is_4wd        50552 non-null  int64         \n",
      " 11  date_posted   50552 non-null  datetime64[ns]\n",
      " 12  days_listed   50552 non-null  int64         \n",
      "dtypes: datetime64[ns](1), int64(6), object(6)\n",
      "memory usage: 5.4+ MB\n"
     ]
    }
   ],
   "source": [
    "# check nos dados para analisar modificações\n",
    "df.info()"
   ]
  },
  {
   "cell_type": "markdown",
   "metadata": {},
   "source": [
    "### Análise de colunas com possíveis duplicatas implícitas\n",
    "\n",
    "Iremos analisar se as colunas de strings contem duplicatas implicitas e substitui-las discutindo acerca e explicando o porquê da substituição."
   ]
  },
  {
   "cell_type": "markdown",
   "metadata": {},
   "source": [
    "**Coluna Model**\n",
    "\n",
    "Iremos começar a analise para coluna Model. Iremos gerar uma lista de dados de modelos únicos encontrados e substituir caso for pertinente.\n",
    "\n",
    "A lista será em ordem alfabética.\n",
    "\n",
    "Anteriormente já havíamos feito esta lista, iremos imprimir e analisar a mesma"
   ]
  },
  {
   "cell_type": "code",
   "execution_count": 248,
   "metadata": {},
   "outputs": [
    {
     "name": "stdout",
     "output_type": "stream",
     "text": [
      "['acura tl', 'bmw x5', 'buick enclave', 'cadillac escalade', 'chevrolet camaro', 'chevrolet camaro lt coupe 2d', 'chevrolet colorado', 'chevrolet corvette', 'chevrolet cruze', 'chevrolet equinox', 'chevrolet impala', 'chevrolet malibu', 'chevrolet silverado', 'chevrolet silverado 1500', 'chevrolet silverado 1500 crew', 'chevrolet silverado 2500hd', 'chevrolet silverado 3500hd', 'chevrolet suburban', 'chevrolet tahoe', 'chevrolet trailblazer', 'chevrolet traverse', 'chrysler 200', 'chrysler 300', 'chrysler town & country', 'dodge charger', 'dodge dakota', 'dodge grand caravan', 'ford econoline', 'ford edge', 'ford escape', 'ford expedition', 'ford explorer', 'ford f-150', 'ford f-250', 'ford f-250 sd', 'ford f-250 super duty', 'ford f-350 sd', 'ford f150', 'ford f150 supercrew cab xlt', 'ford f250', 'ford f250 super duty', 'ford f350', 'ford f350 super duty', 'ford focus', 'ford focus se', 'ford fusion', 'ford fusion se', 'ford mustang', 'ford mustang gt coupe 2d', 'ford ranger', 'ford taurus', 'gmc acadia', 'gmc sierra', 'gmc sierra 1500', 'gmc sierra 2500hd', 'gmc yukon', 'honda accord', 'honda civic', 'honda civic lx', 'honda cr-v', 'honda odyssey', 'honda pilot', 'hyundai elantra', 'hyundai santa fe', 'hyundai sonata', 'jeep cherokee', 'jeep grand cherokee', 'jeep grand cherokee laredo', 'jeep liberty', 'jeep wrangler', 'jeep wrangler unlimited', 'kia sorento', 'kia soul', 'mercedes-benz benze sprinter 2500', 'nissan altima', 'nissan frontier', 'nissan frontier crew cab sv', 'nissan maxima', 'nissan murano', 'nissan rogue', 'nissan sentra', 'nissan versa', 'ram 1500', 'ram 2500', 'ram 3500', 'subaru forester', 'subaru impreza', 'subaru outback', 'toyota 4runner', 'toyota camry', 'toyota camry le', 'toyota corolla', 'toyota highlander', 'toyota prius', 'toyota rav4', 'toyota sienna', 'toyota tacoma', 'toyota tundra', 'volkswagen jetta', 'volkswagen passat']\n"
     ]
    }
   ],
   "source": [
    "# imprimindo em ordem\n",
    "print(sorted(list_model))"
   ]
  },
  {
   "cell_type": "markdown",
   "metadata": {},
   "source": [
    "Observamos duplicatas implicitas para os modelos da Ford F-250 e F-350 em que SD e Super Duty são as mesmas conotações, além disso F-250 tem de duas maneiras, uma sem hífen e outra com. Assim iremos retirar primeiramente o hífen e depois substituir as duplicatas que contem SuperDuty por SD.\n",
    "\n",
    "Seguem grupos implicitos:\n",
    "\n",
    "* 'ford f-250 sd', 'ford f-250 super duty',''ford f250 super duty'\n",
    "*  'ford f-250’, ford f250', \n",
    "* ford f-350 sd, ford f350 super duty',\n",
    "* ford f-150 , ford f150"
   ]
  },
  {
   "cell_type": "code",
   "execution_count": 249,
   "metadata": {},
   "outputs": [],
   "source": [
    "# trocando os valores de ford duplicados\n",
    "df['model'] = df['model'].replace('ford f-250 super duty', 'ford f-250 sd')\n",
    "df['model'] = df['model'].replace('ford f250 super duty', 'ford f-250 sd')\n",
    "\n",
    "df['model'] = df['model'].replace('ford f-250', 'ford f250')\n",
    "\n",
    "df['model'] = df['model'].replace('ford f350 super duty', 'ford f-350 sd')\n",
    "\n",
    "df['model'] = df['model'].replace('ford f-150', 'ford f150')"
   ]
  },
  {
   "cell_type": "code",
   "execution_count": 250,
   "metadata": {},
   "outputs": [
    {
     "name": "stdout",
     "output_type": "stream",
     "text": [
      "['acura tl', 'bmw x5', 'buick enclave', 'cadillac escalade', 'chevrolet camaro', 'chevrolet camaro lt coupe 2d', 'chevrolet colorado', 'chevrolet corvette', 'chevrolet cruze', 'chevrolet equinox', 'chevrolet impala', 'chevrolet malibu', 'chevrolet silverado', 'chevrolet silverado 1500', 'chevrolet silverado 1500 crew', 'chevrolet silverado 2500hd', 'chevrolet silverado 3500hd', 'chevrolet suburban', 'chevrolet tahoe', 'chevrolet trailblazer', 'chevrolet traverse', 'chrysler 200', 'chrysler 300', 'chrysler town & country', 'dodge charger', 'dodge dakota', 'dodge grand caravan', 'ford econoline', 'ford edge', 'ford escape', 'ford expedition', 'ford explorer', 'ford f-250 sd', 'ford f-350 sd', 'ford f150', 'ford f150 supercrew cab xlt', 'ford f250', 'ford f350', 'ford focus', 'ford focus se', 'ford fusion', 'ford fusion se', 'ford mustang', 'ford mustang gt coupe 2d', 'ford ranger', 'ford taurus', 'gmc acadia', 'gmc sierra', 'gmc sierra 1500', 'gmc sierra 2500hd', 'gmc yukon', 'honda accord', 'honda civic', 'honda civic lx', 'honda cr-v', 'honda odyssey', 'honda pilot', 'hyundai elantra', 'hyundai santa fe', 'hyundai sonata', 'jeep cherokee', 'jeep grand cherokee', 'jeep grand cherokee laredo', 'jeep liberty', 'jeep wrangler', 'jeep wrangler unlimited', 'kia sorento', 'kia soul', 'mercedes-benz benze sprinter 2500', 'nissan altima', 'nissan frontier', 'nissan frontier crew cab sv', 'nissan maxima', 'nissan murano', 'nissan rogue', 'nissan sentra', 'nissan versa', 'ram 1500', 'ram 2500', 'ram 3500', 'subaru forester', 'subaru impreza', 'subaru outback', 'toyota 4runner', 'toyota camry', 'toyota camry le', 'toyota corolla', 'toyota highlander', 'toyota prius', 'toyota rav4', 'toyota sienna', 'toyota tacoma', 'toyota tundra', 'volkswagen jetta', 'volkswagen passat']\n"
     ]
    }
   ],
   "source": [
    "# Print dos dados para analisar\n",
    "new_list_model = list(df['model'].unique())\n",
    "print(sorted(new_list_model))"
   ]
  },
  {
   "cell_type": "markdown",
   "metadata": {},
   "source": [
    "Agora removemos as duplicatas implicitas da coluna 'model'."
   ]
  },
  {
   "cell_type": "markdown",
   "metadata": {},
   "source": [
    "**Coluna condition**\n",
    "\n",
    " Iremos gerar uma lista de dados de modelos únicos encontrados e substituir caso for pertinente.\n",
    "\n",
    "A lista será em ordem alfabética.\n",
    "\n",
    "Vamos gerar  e analisar."
   ]
  },
  {
   "cell_type": "code",
   "execution_count": 251,
   "metadata": {},
   "outputs": [
    {
     "data": {
      "text/plain": [
       "array(['good', 'like new', 'fair', 'excellent', 'salvage', 'new'],\n",
       "      dtype=object)"
      ]
     },
     "execution_count": 251,
     "metadata": {},
     "output_type": "execute_result"
    }
   ],
   "source": [
    "# gerando lista de únicos em condition\n",
    "df['condition'].unique()"
   ]
  },
  {
   "cell_type": "markdown",
   "metadata": {},
   "source": [
    "Todos os dados parecem estar OK, iremos manter no mesmo modelo."
   ]
  },
  {
   "cell_type": "markdown",
   "metadata": {},
   "source": [
    "**Coluna transmission**\n",
    "\n",
    " Iremos gerar uma lista de dados de modelos únicos encontrados e substituir caso for pertinente.\n",
    "\n",
    "A lista será em ordem alfabética.\n",
    "\n",
    "Vamos gerar  e analisar."
   ]
  },
  {
   "cell_type": "code",
   "execution_count": 252,
   "metadata": {},
   "outputs": [
    {
     "data": {
      "text/plain": [
       "array(['automatic', 'manual', 'other'], dtype=object)"
      ]
     },
     "execution_count": 252,
     "metadata": {},
     "output_type": "execute_result"
    }
   ],
   "source": [
    "df['transmission'].unique()"
   ]
  },
  {
   "cell_type": "markdown",
   "metadata": {},
   "source": [
    "Parece estar tudo OK, vamos seguir e manter o mesmo modelo."
   ]
  },
  {
   "cell_type": "markdown",
   "metadata": {},
   "source": [
    "**Coluna type**\n",
    "\n",
    "Iremos gerar uma lista de dados de modelos únicos encontrados e substituir caso for pertinente.\n",
    "\n",
    "A lista será em ordem alfabética.\n",
    "\n",
    "Vamos gerar  e analisar."
   ]
  },
  {
   "cell_type": "code",
   "execution_count": 253,
   "metadata": {},
   "outputs": [
    {
     "data": {
      "text/plain": [
       "array(['SUV', 'pickup', 'sedan', 'truck', 'coupe', 'van', 'convertible',\n",
       "       'hatchback', 'wagon', 'mini-van', 'other', 'offroad', 'bus'],\n",
       "      dtype=object)"
      ]
     },
     "execution_count": 253,
     "metadata": {},
     "output_type": "execute_result"
    }
   ],
   "source": [
    "df['type'].unique()"
   ]
  },
  {
   "cell_type": "markdown",
   "metadata": {},
   "source": [
    "Vamos criar uma df com os valores somente para truck , uma somente para pickup e uma somente para offroad e analisar os carros para ver se há correlação de tipos de carro."
   ]
  },
  {
   "cell_type": "code",
   "execution_count": 254,
   "metadata": {},
   "outputs": [
    {
     "data": {
      "text/plain": [
       "array(['chevrolet silverado', 'ford f150', 'chevrolet colorado',\n",
       "       'ram 1500', 'chevrolet silverado 1500',\n",
       "       'chevrolet silverado 3500hd', 'ford f-250 sd', 'ford f-350 sd',\n",
       "       'ford f250', 'ford ranger', 'gmc sierra', 'toyota tacoma',\n",
       "       'gmc sierra 2500hd', 'gmc sierra 1500', 'toyota tundra',\n",
       "       'ram 3500', 'ram 2500', 'nissan frontier',\n",
       "       'chevrolet silverado 2500hd', 'jeep wrangler', 'dodge dakota',\n",
       "       'ford explorer', 'ford f350', 'chevrolet suburban',\n",
       "       'ford econoline', 'gmc yukon', 'chevrolet tahoe', 'nissan maxima',\n",
       "       'jeep grand cherokee laredo', 'ford f150 supercrew cab xlt',\n",
       "       'chevrolet silverado 1500 crew', 'cadillac escalade',\n",
       "       'buick enclave', 'jeep liberty', 'ford escape',\n",
       "       'jeep grand cherokee', 'jeep cherokee', 'toyota corolla',\n",
       "       'nissan frontier crew cab sv', 'ford fusion se', 'honda accord',\n",
       "       'toyota rav4', 'chevrolet malibu', 'ford expedition',\n",
       "       'toyota 4runner', 'toyota camry', 'nissan altima',\n",
       "       'jeep wrangler unlimited', 'hyundai santa fe', 'bmw x5',\n",
       "       'honda odyssey', 'honda pilot', 'chevrolet corvette',\n",
       "       'nissan murano'], dtype=object)"
      ]
     },
     "execution_count": 254,
     "metadata": {},
     "output_type": "execute_result"
    }
   ],
   "source": [
    "# tipo truck\n",
    "df[df['type'] == 'truck']['model'].unique()"
   ]
  },
  {
   "cell_type": "code",
   "execution_count": 255,
   "metadata": {},
   "outputs": [
    {
     "data": {
      "text/plain": [
       "array(['ford f150', 'chevrolet silverado 1500', 'ram 1500',\n",
       "       'toyota tacoma', 'ford f150 supercrew cab xlt',\n",
       "       'nissan frontier crew cab sv', 'chevrolet silverado 1500 crew',\n",
       "       'ford f-250 sd', 'chevrolet colorado', 'chevrolet silverado',\n",
       "       'ford ranger', 'ford f250', 'gmc sierra 2500hd', 'ram 2500',\n",
       "       'nissan frontier', 'gmc sierra 1500', 'ram 3500',\n",
       "       'chevrolet silverado 2500hd', 'gmc sierra', 'cadillac escalade',\n",
       "       'ford f-350 sd', 'ford f350', 'chevrolet silverado 3500hd',\n",
       "       'toyota tundra', 'dodge dakota', 'toyota prius', 'toyota sienna',\n",
       "       'ford explorer', 'jeep wrangler', 'toyota corolla',\n",
       "       'chevrolet trailblazer', 'kia soul', 'toyota 4runner',\n",
       "       'ford fusion se', 'nissan murano', 'toyota rav4'], dtype=object)"
      ]
     },
     "execution_count": 255,
     "metadata": {},
     "output_type": "execute_result"
    }
   ],
   "source": [
    "# tipo pickup\n",
    "df[df['type'] == 'pickup']['model'].unique()"
   ]
  },
  {
   "cell_type": "code",
   "execution_count": 256,
   "metadata": {},
   "outputs": [
    {
     "data": {
      "text/plain": [
       "array(['jeep wrangler', 'toyota tacoma', 'jeep wrangler unlimited',\n",
       "       'ford f150', 'jeep cherokee', 'jeep grand cherokee',\n",
       "       'jeep liberty', 'toyota 4runner', 'chevrolet silverado 1500',\n",
       "       'gmc sierra', 'chevrolet tahoe', 'ford ranger',\n",
       "       'chevrolet silverado 2500hd', 'chevrolet silverado',\n",
       "       'gmc sierra 1500', 'dodge grand caravan', 'toyota tundra',\n",
       "       'chevrolet suburban', 'honda cr-v', 'ram 1500', 'nissan frontier',\n",
       "       'honda odyssey'], dtype=object)"
      ]
     },
     "execution_count": 256,
     "metadata": {},
     "output_type": "execute_result"
    }
   ],
   "source": [
    "# tipo offroad\n",
    "df[df['type']=='offroad']['model'].unique()"
   ]
  },
  {
   "cell_type": "markdown",
   "metadata": {},
   "source": [
    "Como podemos observar há carros de modelos iguais em tipos de categorias diferentes, isso afetaria nossa analise final. Assim iremos categorizar todos como somente 'truck'."
   ]
  },
  {
   "cell_type": "code",
   "execution_count": 257,
   "metadata": {},
   "outputs": [
    {
     "data": {
      "text/plain": [
       "array(['SUV', 'truck', 'sedan', 'coupe', 'van', 'convertible',\n",
       "       'hatchback', 'wagon', 'mini-van', 'other', 'bus'], dtype=object)"
      ]
     },
     "execution_count": 257,
     "metadata": {},
     "output_type": "execute_result"
    }
   ],
   "source": [
    "# substituindo\n",
    "\n",
    "df['type'] = df['type'].replace('offroad', 'truck')\n",
    "df['type'] = df['type'].replace('pickup', 'truck')\n",
    "\n",
    "df['type'].unique()"
   ]
  },
  {
   "cell_type": "markdown",
   "metadata": {},
   "source": [
    "## Enriqueça os dados"
   ]
  },
  {
   "cell_type": "markdown",
   "metadata": {},
   "source": [
    "Agora iremos enriquecer os dados de nossa análise categorizando os dados e criando novas colunas com dados específicos.\n",
    "\n",
    "Faremos as seguintes adições e categorizações:\n",
    "\n",
    "* \t\tDia da semana, mês, e ano que a propaganda foi colocada\n",
    "* \t\tA idade do veículo (em anos) quando a propaganda foi colocada\n",
    "* \t\tA média de quilometragem por ano\n",
    "\n",
    "Na coluna condition, substituir valores de string por uma escala numérica:\n",
    "* \t\tnovo = 5\n",
    "* \t\tcomo novo = 4\n",
    "* \t\texcellente = 3\n",
    "* \t\tbom = 2\n",
    "* \t\trazoável = 1\n",
    "* \t\tsucata = 0"
   ]
  },
  {
   "cell_type": "code",
   "execution_count": 258,
   "metadata": {},
   "outputs": [
    {
     "data": {
      "text/html": [
       "<div>\n",
       "<style scoped>\n",
       "    .dataframe tbody tr th:only-of-type {\n",
       "        vertical-align: middle;\n",
       "    }\n",
       "\n",
       "    .dataframe tbody tr th {\n",
       "        vertical-align: top;\n",
       "    }\n",
       "\n",
       "    .dataframe thead th {\n",
       "        text-align: right;\n",
       "    }\n",
       "</style>\n",
       "<table border=\"1\" class=\"dataframe\">\n",
       "  <thead>\n",
       "    <tr style=\"text-align: right;\">\n",
       "      <th></th>\n",
       "      <th>price</th>\n",
       "      <th>model_year</th>\n",
       "      <th>model</th>\n",
       "      <th>condition</th>\n",
       "      <th>cylinders</th>\n",
       "      <th>fuel</th>\n",
       "      <th>odometer</th>\n",
       "      <th>transmission</th>\n",
       "      <th>type</th>\n",
       "      <th>paint_color</th>\n",
       "      <th>is_4wd</th>\n",
       "      <th>date_posted</th>\n",
       "      <th>days_listed</th>\n",
       "      <th>dia_semana</th>\n",
       "      <th>mes</th>\n",
       "      <th>ano</th>\n",
       "    </tr>\n",
       "  </thead>\n",
       "  <tbody>\n",
       "    <tr>\n",
       "      <th>0</th>\n",
       "      <td>9400</td>\n",
       "      <td>2011</td>\n",
       "      <td>bmw x5</td>\n",
       "      <td>good</td>\n",
       "      <td>6</td>\n",
       "      <td>gas</td>\n",
       "      <td>145000</td>\n",
       "      <td>automatic</td>\n",
       "      <td>SUV</td>\n",
       "      <td>unknown</td>\n",
       "      <td>1</td>\n",
       "      <td>2018-06-23</td>\n",
       "      <td>19</td>\n",
       "      <td>Saturday</td>\n",
       "      <td>6</td>\n",
       "      <td>2018</td>\n",
       "    </tr>\n",
       "    <tr>\n",
       "      <th>1</th>\n",
       "      <td>25500</td>\n",
       "      <td>2017</td>\n",
       "      <td>ford f150</td>\n",
       "      <td>good</td>\n",
       "      <td>6</td>\n",
       "      <td>gas</td>\n",
       "      <td>88705</td>\n",
       "      <td>automatic</td>\n",
       "      <td>truck</td>\n",
       "      <td>white</td>\n",
       "      <td>1</td>\n",
       "      <td>2018-10-19</td>\n",
       "      <td>50</td>\n",
       "      <td>Friday</td>\n",
       "      <td>10</td>\n",
       "      <td>2018</td>\n",
       "    </tr>\n",
       "    <tr>\n",
       "      <th>2</th>\n",
       "      <td>5500</td>\n",
       "      <td>2013</td>\n",
       "      <td>hyundai sonata</td>\n",
       "      <td>like new</td>\n",
       "      <td>4</td>\n",
       "      <td>gas</td>\n",
       "      <td>110000</td>\n",
       "      <td>automatic</td>\n",
       "      <td>sedan</td>\n",
       "      <td>red</td>\n",
       "      <td>0</td>\n",
       "      <td>2019-02-07</td>\n",
       "      <td>79</td>\n",
       "      <td>Thursday</td>\n",
       "      <td>2</td>\n",
       "      <td>2019</td>\n",
       "    </tr>\n",
       "    <tr>\n",
       "      <th>3</th>\n",
       "      <td>1500</td>\n",
       "      <td>2003</td>\n",
       "      <td>ford f150</td>\n",
       "      <td>fair</td>\n",
       "      <td>8</td>\n",
       "      <td>gas</td>\n",
       "      <td>156951</td>\n",
       "      <td>automatic</td>\n",
       "      <td>truck</td>\n",
       "      <td>unknown</td>\n",
       "      <td>0</td>\n",
       "      <td>2019-03-22</td>\n",
       "      <td>9</td>\n",
       "      <td>Friday</td>\n",
       "      <td>3</td>\n",
       "      <td>2019</td>\n",
       "    </tr>\n",
       "    <tr>\n",
       "      <th>4</th>\n",
       "      <td>14900</td>\n",
       "      <td>2017</td>\n",
       "      <td>chrysler 200</td>\n",
       "      <td>excellent</td>\n",
       "      <td>4</td>\n",
       "      <td>gas</td>\n",
       "      <td>80903</td>\n",
       "      <td>automatic</td>\n",
       "      <td>sedan</td>\n",
       "      <td>black</td>\n",
       "      <td>0</td>\n",
       "      <td>2019-04-02</td>\n",
       "      <td>28</td>\n",
       "      <td>Tuesday</td>\n",
       "      <td>4</td>\n",
       "      <td>2019</td>\n",
       "    </tr>\n",
       "    <tr>\n",
       "      <th>...</th>\n",
       "      <td>...</td>\n",
       "      <td>...</td>\n",
       "      <td>...</td>\n",
       "      <td>...</td>\n",
       "      <td>...</td>\n",
       "      <td>...</td>\n",
       "      <td>...</td>\n",
       "      <td>...</td>\n",
       "      <td>...</td>\n",
       "      <td>...</td>\n",
       "      <td>...</td>\n",
       "      <td>...</td>\n",
       "      <td>...</td>\n",
       "      <td>...</td>\n",
       "      <td>...</td>\n",
       "      <td>...</td>\n",
       "    </tr>\n",
       "    <tr>\n",
       "      <th>51520</th>\n",
       "      <td>9249</td>\n",
       "      <td>2013</td>\n",
       "      <td>nissan maxima</td>\n",
       "      <td>like new</td>\n",
       "      <td>6</td>\n",
       "      <td>gas</td>\n",
       "      <td>88136</td>\n",
       "      <td>automatic</td>\n",
       "      <td>sedan</td>\n",
       "      <td>black</td>\n",
       "      <td>0</td>\n",
       "      <td>2018-10-03</td>\n",
       "      <td>37</td>\n",
       "      <td>Wednesday</td>\n",
       "      <td>10</td>\n",
       "      <td>2018</td>\n",
       "    </tr>\n",
       "    <tr>\n",
       "      <th>51521</th>\n",
       "      <td>2700</td>\n",
       "      <td>2002</td>\n",
       "      <td>honda civic</td>\n",
       "      <td>salvage</td>\n",
       "      <td>4</td>\n",
       "      <td>gas</td>\n",
       "      <td>181500</td>\n",
       "      <td>automatic</td>\n",
       "      <td>sedan</td>\n",
       "      <td>white</td>\n",
       "      <td>0</td>\n",
       "      <td>2018-11-14</td>\n",
       "      <td>22</td>\n",
       "      <td>Wednesday</td>\n",
       "      <td>11</td>\n",
       "      <td>2018</td>\n",
       "    </tr>\n",
       "    <tr>\n",
       "      <th>51522</th>\n",
       "      <td>3950</td>\n",
       "      <td>2009</td>\n",
       "      <td>hyundai sonata</td>\n",
       "      <td>excellent</td>\n",
       "      <td>4</td>\n",
       "      <td>gas</td>\n",
       "      <td>128000</td>\n",
       "      <td>automatic</td>\n",
       "      <td>sedan</td>\n",
       "      <td>blue</td>\n",
       "      <td>0</td>\n",
       "      <td>2018-11-15</td>\n",
       "      <td>32</td>\n",
       "      <td>Thursday</td>\n",
       "      <td>11</td>\n",
       "      <td>2018</td>\n",
       "    </tr>\n",
       "    <tr>\n",
       "      <th>51523</th>\n",
       "      <td>7455</td>\n",
       "      <td>2013</td>\n",
       "      <td>toyota corolla</td>\n",
       "      <td>good</td>\n",
       "      <td>4</td>\n",
       "      <td>gas</td>\n",
       "      <td>139573</td>\n",
       "      <td>automatic</td>\n",
       "      <td>sedan</td>\n",
       "      <td>black</td>\n",
       "      <td>0</td>\n",
       "      <td>2018-07-02</td>\n",
       "      <td>71</td>\n",
       "      <td>Monday</td>\n",
       "      <td>7</td>\n",
       "      <td>2018</td>\n",
       "    </tr>\n",
       "    <tr>\n",
       "      <th>51524</th>\n",
       "      <td>6300</td>\n",
       "      <td>2014</td>\n",
       "      <td>nissan altima</td>\n",
       "      <td>good</td>\n",
       "      <td>4</td>\n",
       "      <td>gas</td>\n",
       "      <td>93017</td>\n",
       "      <td>automatic</td>\n",
       "      <td>sedan</td>\n",
       "      <td>unknown</td>\n",
       "      <td>0</td>\n",
       "      <td>2018-06-05</td>\n",
       "      <td>10</td>\n",
       "      <td>Tuesday</td>\n",
       "      <td>6</td>\n",
       "      <td>2018</td>\n",
       "    </tr>\n",
       "  </tbody>\n",
       "</table>\n",
       "<p>50552 rows × 16 columns</p>\n",
       "</div>"
      ],
      "text/plain": [
       "       price  model_year           model  condition  cylinders fuel  odometer  \\\n",
       "0       9400        2011          bmw x5       good          6  gas    145000   \n",
       "1      25500        2017       ford f150       good          6  gas     88705   \n",
       "2       5500        2013  hyundai sonata   like new          4  gas    110000   \n",
       "3       1500        2003       ford f150       fair          8  gas    156951   \n",
       "4      14900        2017    chrysler 200  excellent          4  gas     80903   \n",
       "...      ...         ...             ...        ...        ...  ...       ...   \n",
       "51520   9249        2013   nissan maxima   like new          6  gas     88136   \n",
       "51521   2700        2002     honda civic    salvage          4  gas    181500   \n",
       "51522   3950        2009  hyundai sonata  excellent          4  gas    128000   \n",
       "51523   7455        2013  toyota corolla       good          4  gas    139573   \n",
       "51524   6300        2014   nissan altima       good          4  gas     93017   \n",
       "\n",
       "      transmission   type paint_color  is_4wd date_posted  days_listed  \\\n",
       "0        automatic    SUV     unknown       1  2018-06-23           19   \n",
       "1        automatic  truck       white       1  2018-10-19           50   \n",
       "2        automatic  sedan         red       0  2019-02-07           79   \n",
       "3        automatic  truck     unknown       0  2019-03-22            9   \n",
       "4        automatic  sedan       black       0  2019-04-02           28   \n",
       "...            ...    ...         ...     ...         ...          ...   \n",
       "51520    automatic  sedan       black       0  2018-10-03           37   \n",
       "51521    automatic  sedan       white       0  2018-11-14           22   \n",
       "51522    automatic  sedan        blue       0  2018-11-15           32   \n",
       "51523    automatic  sedan       black       0  2018-07-02           71   \n",
       "51524    automatic  sedan     unknown       0  2018-06-05           10   \n",
       "\n",
       "      dia_semana  mes   ano  \n",
       "0       Saturday    6  2018  \n",
       "1         Friday   10  2018  \n",
       "2       Thursday    2  2019  \n",
       "3         Friday    3  2019  \n",
       "4        Tuesday    4  2019  \n",
       "...          ...  ...   ...  \n",
       "51520  Wednesday   10  2018  \n",
       "51521  Wednesday   11  2018  \n",
       "51522   Thursday   11  2018  \n",
       "51523     Monday    7  2018  \n",
       "51524    Tuesday    6  2018  \n",
       "\n",
       "[50552 rows x 16 columns]"
      ]
     },
     "execution_count": 258,
     "metadata": {},
     "output_type": "execute_result"
    }
   ],
   "source": [
    "# Adicione valores data/hora para quando a propaganda estiver colocada\n",
    "df['dia_semana'] = df['date_posted'].dt.day_name()  # cria uma nova coluna com o dia da semana\n",
    "df['mes'] = df['date_posted'].dt.month  # cria uma nova coluna com o mês\n",
    "df['ano'] = df['date_posted'].dt.year  # cria uma nova coluna com o ano\n",
    "\n",
    "# mostrando df\n",
    "df"
   ]
  },
  {
   "cell_type": "code",
   "execution_count": 259,
   "metadata": {},
   "outputs": [
    {
     "data": {
      "text/html": [
       "<div>\n",
       "<style scoped>\n",
       "    .dataframe tbody tr th:only-of-type {\n",
       "        vertical-align: middle;\n",
       "    }\n",
       "\n",
       "    .dataframe tbody tr th {\n",
       "        vertical-align: top;\n",
       "    }\n",
       "\n",
       "    .dataframe thead th {\n",
       "        text-align: right;\n",
       "    }\n",
       "</style>\n",
       "<table border=\"1\" class=\"dataframe\">\n",
       "  <thead>\n",
       "    <tr style=\"text-align: right;\">\n",
       "      <th></th>\n",
       "      <th>price</th>\n",
       "      <th>model_year</th>\n",
       "      <th>model</th>\n",
       "      <th>condition</th>\n",
       "      <th>cylinders</th>\n",
       "      <th>fuel</th>\n",
       "      <th>odometer</th>\n",
       "      <th>transmission</th>\n",
       "      <th>type</th>\n",
       "      <th>paint_color</th>\n",
       "      <th>is_4wd</th>\n",
       "      <th>date_posted</th>\n",
       "      <th>days_listed</th>\n",
       "      <th>dia_semana</th>\n",
       "      <th>mes</th>\n",
       "      <th>ano</th>\n",
       "      <th>idade_carro</th>\n",
       "    </tr>\n",
       "  </thead>\n",
       "  <tbody>\n",
       "    <tr>\n",
       "      <th>0</th>\n",
       "      <td>9400</td>\n",
       "      <td>2011</td>\n",
       "      <td>bmw x5</td>\n",
       "      <td>good</td>\n",
       "      <td>6</td>\n",
       "      <td>gas</td>\n",
       "      <td>145000</td>\n",
       "      <td>automatic</td>\n",
       "      <td>SUV</td>\n",
       "      <td>unknown</td>\n",
       "      <td>1</td>\n",
       "      <td>2018-06-23</td>\n",
       "      <td>19</td>\n",
       "      <td>Saturday</td>\n",
       "      <td>6</td>\n",
       "      <td>2018</td>\n",
       "      <td>7</td>\n",
       "    </tr>\n",
       "    <tr>\n",
       "      <th>1</th>\n",
       "      <td>25500</td>\n",
       "      <td>2017</td>\n",
       "      <td>ford f150</td>\n",
       "      <td>good</td>\n",
       "      <td>6</td>\n",
       "      <td>gas</td>\n",
       "      <td>88705</td>\n",
       "      <td>automatic</td>\n",
       "      <td>truck</td>\n",
       "      <td>white</td>\n",
       "      <td>1</td>\n",
       "      <td>2018-10-19</td>\n",
       "      <td>50</td>\n",
       "      <td>Friday</td>\n",
       "      <td>10</td>\n",
       "      <td>2018</td>\n",
       "      <td>1</td>\n",
       "    </tr>\n",
       "    <tr>\n",
       "      <th>2</th>\n",
       "      <td>5500</td>\n",
       "      <td>2013</td>\n",
       "      <td>hyundai sonata</td>\n",
       "      <td>like new</td>\n",
       "      <td>4</td>\n",
       "      <td>gas</td>\n",
       "      <td>110000</td>\n",
       "      <td>automatic</td>\n",
       "      <td>sedan</td>\n",
       "      <td>red</td>\n",
       "      <td>0</td>\n",
       "      <td>2019-02-07</td>\n",
       "      <td>79</td>\n",
       "      <td>Thursday</td>\n",
       "      <td>2</td>\n",
       "      <td>2019</td>\n",
       "      <td>6</td>\n",
       "    </tr>\n",
       "    <tr>\n",
       "      <th>3</th>\n",
       "      <td>1500</td>\n",
       "      <td>2003</td>\n",
       "      <td>ford f150</td>\n",
       "      <td>fair</td>\n",
       "      <td>8</td>\n",
       "      <td>gas</td>\n",
       "      <td>156951</td>\n",
       "      <td>automatic</td>\n",
       "      <td>truck</td>\n",
       "      <td>unknown</td>\n",
       "      <td>0</td>\n",
       "      <td>2019-03-22</td>\n",
       "      <td>9</td>\n",
       "      <td>Friday</td>\n",
       "      <td>3</td>\n",
       "      <td>2019</td>\n",
       "      <td>16</td>\n",
       "    </tr>\n",
       "    <tr>\n",
       "      <th>4</th>\n",
       "      <td>14900</td>\n",
       "      <td>2017</td>\n",
       "      <td>chrysler 200</td>\n",
       "      <td>excellent</td>\n",
       "      <td>4</td>\n",
       "      <td>gas</td>\n",
       "      <td>80903</td>\n",
       "      <td>automatic</td>\n",
       "      <td>sedan</td>\n",
       "      <td>black</td>\n",
       "      <td>0</td>\n",
       "      <td>2019-04-02</td>\n",
       "      <td>28</td>\n",
       "      <td>Tuesday</td>\n",
       "      <td>4</td>\n",
       "      <td>2019</td>\n",
       "      <td>2</td>\n",
       "    </tr>\n",
       "    <tr>\n",
       "      <th>...</th>\n",
       "      <td>...</td>\n",
       "      <td>...</td>\n",
       "      <td>...</td>\n",
       "      <td>...</td>\n",
       "      <td>...</td>\n",
       "      <td>...</td>\n",
       "      <td>...</td>\n",
       "      <td>...</td>\n",
       "      <td>...</td>\n",
       "      <td>...</td>\n",
       "      <td>...</td>\n",
       "      <td>...</td>\n",
       "      <td>...</td>\n",
       "      <td>...</td>\n",
       "      <td>...</td>\n",
       "      <td>...</td>\n",
       "      <td>...</td>\n",
       "    </tr>\n",
       "    <tr>\n",
       "      <th>51520</th>\n",
       "      <td>9249</td>\n",
       "      <td>2013</td>\n",
       "      <td>nissan maxima</td>\n",
       "      <td>like new</td>\n",
       "      <td>6</td>\n",
       "      <td>gas</td>\n",
       "      <td>88136</td>\n",
       "      <td>automatic</td>\n",
       "      <td>sedan</td>\n",
       "      <td>black</td>\n",
       "      <td>0</td>\n",
       "      <td>2018-10-03</td>\n",
       "      <td>37</td>\n",
       "      <td>Wednesday</td>\n",
       "      <td>10</td>\n",
       "      <td>2018</td>\n",
       "      <td>5</td>\n",
       "    </tr>\n",
       "    <tr>\n",
       "      <th>51521</th>\n",
       "      <td>2700</td>\n",
       "      <td>2002</td>\n",
       "      <td>honda civic</td>\n",
       "      <td>salvage</td>\n",
       "      <td>4</td>\n",
       "      <td>gas</td>\n",
       "      <td>181500</td>\n",
       "      <td>automatic</td>\n",
       "      <td>sedan</td>\n",
       "      <td>white</td>\n",
       "      <td>0</td>\n",
       "      <td>2018-11-14</td>\n",
       "      <td>22</td>\n",
       "      <td>Wednesday</td>\n",
       "      <td>11</td>\n",
       "      <td>2018</td>\n",
       "      <td>16</td>\n",
       "    </tr>\n",
       "    <tr>\n",
       "      <th>51522</th>\n",
       "      <td>3950</td>\n",
       "      <td>2009</td>\n",
       "      <td>hyundai sonata</td>\n",
       "      <td>excellent</td>\n",
       "      <td>4</td>\n",
       "      <td>gas</td>\n",
       "      <td>128000</td>\n",
       "      <td>automatic</td>\n",
       "      <td>sedan</td>\n",
       "      <td>blue</td>\n",
       "      <td>0</td>\n",
       "      <td>2018-11-15</td>\n",
       "      <td>32</td>\n",
       "      <td>Thursday</td>\n",
       "      <td>11</td>\n",
       "      <td>2018</td>\n",
       "      <td>9</td>\n",
       "    </tr>\n",
       "    <tr>\n",
       "      <th>51523</th>\n",
       "      <td>7455</td>\n",
       "      <td>2013</td>\n",
       "      <td>toyota corolla</td>\n",
       "      <td>good</td>\n",
       "      <td>4</td>\n",
       "      <td>gas</td>\n",
       "      <td>139573</td>\n",
       "      <td>automatic</td>\n",
       "      <td>sedan</td>\n",
       "      <td>black</td>\n",
       "      <td>0</td>\n",
       "      <td>2018-07-02</td>\n",
       "      <td>71</td>\n",
       "      <td>Monday</td>\n",
       "      <td>7</td>\n",
       "      <td>2018</td>\n",
       "      <td>5</td>\n",
       "    </tr>\n",
       "    <tr>\n",
       "      <th>51524</th>\n",
       "      <td>6300</td>\n",
       "      <td>2014</td>\n",
       "      <td>nissan altima</td>\n",
       "      <td>good</td>\n",
       "      <td>4</td>\n",
       "      <td>gas</td>\n",
       "      <td>93017</td>\n",
       "      <td>automatic</td>\n",
       "      <td>sedan</td>\n",
       "      <td>unknown</td>\n",
       "      <td>0</td>\n",
       "      <td>2018-06-05</td>\n",
       "      <td>10</td>\n",
       "      <td>Tuesday</td>\n",
       "      <td>6</td>\n",
       "      <td>2018</td>\n",
       "      <td>4</td>\n",
       "    </tr>\n",
       "  </tbody>\n",
       "</table>\n",
       "<p>50552 rows × 17 columns</p>\n",
       "</div>"
      ],
      "text/plain": [
       "       price  model_year           model  condition  cylinders fuel  odometer  \\\n",
       "0       9400        2011          bmw x5       good          6  gas    145000   \n",
       "1      25500        2017       ford f150       good          6  gas     88705   \n",
       "2       5500        2013  hyundai sonata   like new          4  gas    110000   \n",
       "3       1500        2003       ford f150       fair          8  gas    156951   \n",
       "4      14900        2017    chrysler 200  excellent          4  gas     80903   \n",
       "...      ...         ...             ...        ...        ...  ...       ...   \n",
       "51520   9249        2013   nissan maxima   like new          6  gas     88136   \n",
       "51521   2700        2002     honda civic    salvage          4  gas    181500   \n",
       "51522   3950        2009  hyundai sonata  excellent          4  gas    128000   \n",
       "51523   7455        2013  toyota corolla       good          4  gas    139573   \n",
       "51524   6300        2014   nissan altima       good          4  gas     93017   \n",
       "\n",
       "      transmission   type paint_color  is_4wd date_posted  days_listed  \\\n",
       "0        automatic    SUV     unknown       1  2018-06-23           19   \n",
       "1        automatic  truck       white       1  2018-10-19           50   \n",
       "2        automatic  sedan         red       0  2019-02-07           79   \n",
       "3        automatic  truck     unknown       0  2019-03-22            9   \n",
       "4        automatic  sedan       black       0  2019-04-02           28   \n",
       "...            ...    ...         ...     ...         ...          ...   \n",
       "51520    automatic  sedan       black       0  2018-10-03           37   \n",
       "51521    automatic  sedan       white       0  2018-11-14           22   \n",
       "51522    automatic  sedan        blue       0  2018-11-15           32   \n",
       "51523    automatic  sedan       black       0  2018-07-02           71   \n",
       "51524    automatic  sedan     unknown       0  2018-06-05           10   \n",
       "\n",
       "      dia_semana  mes   ano  idade_carro  \n",
       "0       Saturday    6  2018            7  \n",
       "1         Friday   10  2018            1  \n",
       "2       Thursday    2  2019            6  \n",
       "3         Friday    3  2019           16  \n",
       "4        Tuesday    4  2019            2  \n",
       "...          ...  ...   ...          ...  \n",
       "51520  Wednesday   10  2018            5  \n",
       "51521  Wednesday   11  2018           16  \n",
       "51522   Thursday   11  2018            9  \n",
       "51523     Monday    7  2018            5  \n",
       "51524    Tuesday    6  2018            4  \n",
       "\n",
       "[50552 rows x 17 columns]"
      ]
     },
     "execution_count": 259,
     "metadata": {},
     "output_type": "execute_result"
    }
   ],
   "source": [
    "# Adicione a idade do veículo quando a propaganda for colocada\n",
    "df['idade_carro'] = df['ano'] - df['model_year']\n",
    "\n",
    "# mostrando df\n",
    "df"
   ]
  },
  {
   "cell_type": "code",
   "execution_count": 260,
   "metadata": {},
   "outputs": [
    {
     "data": {
      "text/html": [
       "<div>\n",
       "<style scoped>\n",
       "    .dataframe tbody tr th:only-of-type {\n",
       "        vertical-align: middle;\n",
       "    }\n",
       "\n",
       "    .dataframe tbody tr th {\n",
       "        vertical-align: top;\n",
       "    }\n",
       "\n",
       "    .dataframe thead th {\n",
       "        text-align: right;\n",
       "    }\n",
       "</style>\n",
       "<table border=\"1\" class=\"dataframe\">\n",
       "  <thead>\n",
       "    <tr style=\"text-align: right;\">\n",
       "      <th></th>\n",
       "      <th>price</th>\n",
       "      <th>model_year</th>\n",
       "      <th>model</th>\n",
       "      <th>condition</th>\n",
       "      <th>cylinders</th>\n",
       "      <th>fuel</th>\n",
       "      <th>odometer</th>\n",
       "      <th>transmission</th>\n",
       "      <th>type</th>\n",
       "      <th>paint_color</th>\n",
       "      <th>is_4wd</th>\n",
       "      <th>date_posted</th>\n",
       "      <th>days_listed</th>\n",
       "      <th>dia_semana</th>\n",
       "      <th>mes</th>\n",
       "      <th>ano</th>\n",
       "      <th>idade_carro</th>\n",
       "      <th>quilometragem_media</th>\n",
       "    </tr>\n",
       "  </thead>\n",
       "  <tbody>\n",
       "    <tr>\n",
       "      <th>0</th>\n",
       "      <td>9400</td>\n",
       "      <td>2011</td>\n",
       "      <td>bmw x5</td>\n",
       "      <td>good</td>\n",
       "      <td>6</td>\n",
       "      <td>gas</td>\n",
       "      <td>145000</td>\n",
       "      <td>automatic</td>\n",
       "      <td>SUV</td>\n",
       "      <td>unknown</td>\n",
       "      <td>1</td>\n",
       "      <td>2018-06-23</td>\n",
       "      <td>19</td>\n",
       "      <td>Saturday</td>\n",
       "      <td>6</td>\n",
       "      <td>2018</td>\n",
       "      <td>7</td>\n",
       "      <td>145000</td>\n",
       "    </tr>\n",
       "    <tr>\n",
       "      <th>1</th>\n",
       "      <td>25500</td>\n",
       "      <td>2017</td>\n",
       "      <td>ford f150</td>\n",
       "      <td>good</td>\n",
       "      <td>6</td>\n",
       "      <td>gas</td>\n",
       "      <td>88705</td>\n",
       "      <td>automatic</td>\n",
       "      <td>truck</td>\n",
       "      <td>white</td>\n",
       "      <td>1</td>\n",
       "      <td>2018-10-19</td>\n",
       "      <td>50</td>\n",
       "      <td>Friday</td>\n",
       "      <td>10</td>\n",
       "      <td>2018</td>\n",
       "      <td>1</td>\n",
       "      <td>88705</td>\n",
       "    </tr>\n",
       "    <tr>\n",
       "      <th>2</th>\n",
       "      <td>5500</td>\n",
       "      <td>2013</td>\n",
       "      <td>hyundai sonata</td>\n",
       "      <td>like new</td>\n",
       "      <td>4</td>\n",
       "      <td>gas</td>\n",
       "      <td>110000</td>\n",
       "      <td>automatic</td>\n",
       "      <td>sedan</td>\n",
       "      <td>red</td>\n",
       "      <td>0</td>\n",
       "      <td>2019-02-07</td>\n",
       "      <td>79</td>\n",
       "      <td>Thursday</td>\n",
       "      <td>2</td>\n",
       "      <td>2019</td>\n",
       "      <td>6</td>\n",
       "      <td>110000</td>\n",
       "    </tr>\n",
       "    <tr>\n",
       "      <th>3</th>\n",
       "      <td>1500</td>\n",
       "      <td>2003</td>\n",
       "      <td>ford f150</td>\n",
       "      <td>fair</td>\n",
       "      <td>8</td>\n",
       "      <td>gas</td>\n",
       "      <td>156951</td>\n",
       "      <td>automatic</td>\n",
       "      <td>truck</td>\n",
       "      <td>unknown</td>\n",
       "      <td>0</td>\n",
       "      <td>2019-03-22</td>\n",
       "      <td>9</td>\n",
       "      <td>Friday</td>\n",
       "      <td>3</td>\n",
       "      <td>2019</td>\n",
       "      <td>16</td>\n",
       "      <td>156951</td>\n",
       "    </tr>\n",
       "    <tr>\n",
       "      <th>4</th>\n",
       "      <td>14900</td>\n",
       "      <td>2017</td>\n",
       "      <td>chrysler 200</td>\n",
       "      <td>excellent</td>\n",
       "      <td>4</td>\n",
       "      <td>gas</td>\n",
       "      <td>80903</td>\n",
       "      <td>automatic</td>\n",
       "      <td>sedan</td>\n",
       "      <td>black</td>\n",
       "      <td>0</td>\n",
       "      <td>2019-04-02</td>\n",
       "      <td>28</td>\n",
       "      <td>Tuesday</td>\n",
       "      <td>4</td>\n",
       "      <td>2019</td>\n",
       "      <td>2</td>\n",
       "      <td>80903</td>\n",
       "    </tr>\n",
       "    <tr>\n",
       "      <th>...</th>\n",
       "      <td>...</td>\n",
       "      <td>...</td>\n",
       "      <td>...</td>\n",
       "      <td>...</td>\n",
       "      <td>...</td>\n",
       "      <td>...</td>\n",
       "      <td>...</td>\n",
       "      <td>...</td>\n",
       "      <td>...</td>\n",
       "      <td>...</td>\n",
       "      <td>...</td>\n",
       "      <td>...</td>\n",
       "      <td>...</td>\n",
       "      <td>...</td>\n",
       "      <td>...</td>\n",
       "      <td>...</td>\n",
       "      <td>...</td>\n",
       "      <td>...</td>\n",
       "    </tr>\n",
       "    <tr>\n",
       "      <th>51520</th>\n",
       "      <td>9249</td>\n",
       "      <td>2013</td>\n",
       "      <td>nissan maxima</td>\n",
       "      <td>like new</td>\n",
       "      <td>6</td>\n",
       "      <td>gas</td>\n",
       "      <td>88136</td>\n",
       "      <td>automatic</td>\n",
       "      <td>sedan</td>\n",
       "      <td>black</td>\n",
       "      <td>0</td>\n",
       "      <td>2018-10-03</td>\n",
       "      <td>37</td>\n",
       "      <td>Wednesday</td>\n",
       "      <td>10</td>\n",
       "      <td>2018</td>\n",
       "      <td>5</td>\n",
       "      <td>88136</td>\n",
       "    </tr>\n",
       "    <tr>\n",
       "      <th>51521</th>\n",
       "      <td>2700</td>\n",
       "      <td>2002</td>\n",
       "      <td>honda civic</td>\n",
       "      <td>salvage</td>\n",
       "      <td>4</td>\n",
       "      <td>gas</td>\n",
       "      <td>181500</td>\n",
       "      <td>automatic</td>\n",
       "      <td>sedan</td>\n",
       "      <td>white</td>\n",
       "      <td>0</td>\n",
       "      <td>2018-11-14</td>\n",
       "      <td>22</td>\n",
       "      <td>Wednesday</td>\n",
       "      <td>11</td>\n",
       "      <td>2018</td>\n",
       "      <td>16</td>\n",
       "      <td>181500</td>\n",
       "    </tr>\n",
       "    <tr>\n",
       "      <th>51522</th>\n",
       "      <td>3950</td>\n",
       "      <td>2009</td>\n",
       "      <td>hyundai sonata</td>\n",
       "      <td>excellent</td>\n",
       "      <td>4</td>\n",
       "      <td>gas</td>\n",
       "      <td>128000</td>\n",
       "      <td>automatic</td>\n",
       "      <td>sedan</td>\n",
       "      <td>blue</td>\n",
       "      <td>0</td>\n",
       "      <td>2018-11-15</td>\n",
       "      <td>32</td>\n",
       "      <td>Thursday</td>\n",
       "      <td>11</td>\n",
       "      <td>2018</td>\n",
       "      <td>9</td>\n",
       "      <td>128000</td>\n",
       "    </tr>\n",
       "    <tr>\n",
       "      <th>51523</th>\n",
       "      <td>7455</td>\n",
       "      <td>2013</td>\n",
       "      <td>toyota corolla</td>\n",
       "      <td>good</td>\n",
       "      <td>4</td>\n",
       "      <td>gas</td>\n",
       "      <td>139573</td>\n",
       "      <td>automatic</td>\n",
       "      <td>sedan</td>\n",
       "      <td>black</td>\n",
       "      <td>0</td>\n",
       "      <td>2018-07-02</td>\n",
       "      <td>71</td>\n",
       "      <td>Monday</td>\n",
       "      <td>7</td>\n",
       "      <td>2018</td>\n",
       "      <td>5</td>\n",
       "      <td>139573</td>\n",
       "    </tr>\n",
       "    <tr>\n",
       "      <th>51524</th>\n",
       "      <td>6300</td>\n",
       "      <td>2014</td>\n",
       "      <td>nissan altima</td>\n",
       "      <td>good</td>\n",
       "      <td>4</td>\n",
       "      <td>gas</td>\n",
       "      <td>93017</td>\n",
       "      <td>automatic</td>\n",
       "      <td>sedan</td>\n",
       "      <td>unknown</td>\n",
       "      <td>0</td>\n",
       "      <td>2018-06-05</td>\n",
       "      <td>10</td>\n",
       "      <td>Tuesday</td>\n",
       "      <td>6</td>\n",
       "      <td>2018</td>\n",
       "      <td>4</td>\n",
       "      <td>93017</td>\n",
       "    </tr>\n",
       "  </tbody>\n",
       "</table>\n",
       "<p>50552 rows × 18 columns</p>\n",
       "</div>"
      ],
      "text/plain": [
       "       price  model_year           model  condition  cylinders fuel  odometer  \\\n",
       "0       9400        2011          bmw x5       good          6  gas    145000   \n",
       "1      25500        2017       ford f150       good          6  gas     88705   \n",
       "2       5500        2013  hyundai sonata   like new          4  gas    110000   \n",
       "3       1500        2003       ford f150       fair          8  gas    156951   \n",
       "4      14900        2017    chrysler 200  excellent          4  gas     80903   \n",
       "...      ...         ...             ...        ...        ...  ...       ...   \n",
       "51520   9249        2013   nissan maxima   like new          6  gas     88136   \n",
       "51521   2700        2002     honda civic    salvage          4  gas    181500   \n",
       "51522   3950        2009  hyundai sonata  excellent          4  gas    128000   \n",
       "51523   7455        2013  toyota corolla       good          4  gas    139573   \n",
       "51524   6300        2014   nissan altima       good          4  gas     93017   \n",
       "\n",
       "      transmission   type paint_color  is_4wd date_posted  days_listed  \\\n",
       "0        automatic    SUV     unknown       1  2018-06-23           19   \n",
       "1        automatic  truck       white       1  2018-10-19           50   \n",
       "2        automatic  sedan         red       0  2019-02-07           79   \n",
       "3        automatic  truck     unknown       0  2019-03-22            9   \n",
       "4        automatic  sedan       black       0  2019-04-02           28   \n",
       "...            ...    ...         ...     ...         ...          ...   \n",
       "51520    automatic  sedan       black       0  2018-10-03           37   \n",
       "51521    automatic  sedan       white       0  2018-11-14           22   \n",
       "51522    automatic  sedan        blue       0  2018-11-15           32   \n",
       "51523    automatic  sedan       black       0  2018-07-02           71   \n",
       "51524    automatic  sedan     unknown       0  2018-06-05           10   \n",
       "\n",
       "      dia_semana  mes   ano  idade_carro  quilometragem_media  \n",
       "0       Saturday    6  2018            7               145000  \n",
       "1         Friday   10  2018            1                88705  \n",
       "2       Thursday    2  2019            6               110000  \n",
       "3         Friday    3  2019           16               156951  \n",
       "4        Tuesday    4  2019            2                80903  \n",
       "...          ...  ...   ...          ...                  ...  \n",
       "51520  Wednesday   10  2018            5                88136  \n",
       "51521  Wednesday   11  2018           16               181500  \n",
       "51522   Thursday   11  2018            9               128000  \n",
       "51523     Monday    7  2018            5               139573  \n",
       "51524    Tuesday    6  2018            4                93017  \n",
       "\n",
       "[50552 rows x 18 columns]"
      ]
     },
     "execution_count": 260,
     "metadata": {},
     "output_type": "execute_result"
    }
   ],
   "source": [
    "# Adicione a quilometragem média por ano\n",
    "if (df['idade_carro'] == 0).any():\n",
    "    df['quilometragem_media'] = df['odometer']\n",
    "else:\n",
    "    df['quilometragem_media'] = df['odometer']/df['idade_carro']\n",
    "    \n",
    "# mostrando df\n",
    "df"
   ]
  },
  {
   "cell_type": "code",
   "execution_count": 261,
   "metadata": {},
   "outputs": [
    {
     "data": {
      "text/html": [
       "<div>\n",
       "<style scoped>\n",
       "    .dataframe tbody tr th:only-of-type {\n",
       "        vertical-align: middle;\n",
       "    }\n",
       "\n",
       "    .dataframe tbody tr th {\n",
       "        vertical-align: top;\n",
       "    }\n",
       "\n",
       "    .dataframe thead th {\n",
       "        text-align: right;\n",
       "    }\n",
       "</style>\n",
       "<table border=\"1\" class=\"dataframe\">\n",
       "  <thead>\n",
       "    <tr style=\"text-align: right;\">\n",
       "      <th></th>\n",
       "      <th>price</th>\n",
       "      <th>model_year</th>\n",
       "      <th>model</th>\n",
       "      <th>condition</th>\n",
       "      <th>cylinders</th>\n",
       "      <th>fuel</th>\n",
       "      <th>odometer</th>\n",
       "      <th>transmission</th>\n",
       "      <th>type</th>\n",
       "      <th>paint_color</th>\n",
       "      <th>is_4wd</th>\n",
       "      <th>date_posted</th>\n",
       "      <th>days_listed</th>\n",
       "      <th>dia_semana</th>\n",
       "      <th>mes</th>\n",
       "      <th>ano</th>\n",
       "      <th>idade_carro</th>\n",
       "      <th>quilometragem_media</th>\n",
       "      <th>condition_rate</th>\n",
       "    </tr>\n",
       "  </thead>\n",
       "  <tbody>\n",
       "    <tr>\n",
       "      <th>0</th>\n",
       "      <td>9400</td>\n",
       "      <td>2011</td>\n",
       "      <td>bmw x5</td>\n",
       "      <td>good</td>\n",
       "      <td>6</td>\n",
       "      <td>gas</td>\n",
       "      <td>145000</td>\n",
       "      <td>automatic</td>\n",
       "      <td>SUV</td>\n",
       "      <td>unknown</td>\n",
       "      <td>1</td>\n",
       "      <td>2018-06-23</td>\n",
       "      <td>19</td>\n",
       "      <td>Saturday</td>\n",
       "      <td>6</td>\n",
       "      <td>2018</td>\n",
       "      <td>7</td>\n",
       "      <td>145000</td>\n",
       "      <td>2</td>\n",
       "    </tr>\n",
       "    <tr>\n",
       "      <th>1</th>\n",
       "      <td>25500</td>\n",
       "      <td>2017</td>\n",
       "      <td>ford f150</td>\n",
       "      <td>good</td>\n",
       "      <td>6</td>\n",
       "      <td>gas</td>\n",
       "      <td>88705</td>\n",
       "      <td>automatic</td>\n",
       "      <td>truck</td>\n",
       "      <td>white</td>\n",
       "      <td>1</td>\n",
       "      <td>2018-10-19</td>\n",
       "      <td>50</td>\n",
       "      <td>Friday</td>\n",
       "      <td>10</td>\n",
       "      <td>2018</td>\n",
       "      <td>1</td>\n",
       "      <td>88705</td>\n",
       "      <td>2</td>\n",
       "    </tr>\n",
       "    <tr>\n",
       "      <th>2</th>\n",
       "      <td>5500</td>\n",
       "      <td>2013</td>\n",
       "      <td>hyundai sonata</td>\n",
       "      <td>like new</td>\n",
       "      <td>4</td>\n",
       "      <td>gas</td>\n",
       "      <td>110000</td>\n",
       "      <td>automatic</td>\n",
       "      <td>sedan</td>\n",
       "      <td>red</td>\n",
       "      <td>0</td>\n",
       "      <td>2019-02-07</td>\n",
       "      <td>79</td>\n",
       "      <td>Thursday</td>\n",
       "      <td>2</td>\n",
       "      <td>2019</td>\n",
       "      <td>6</td>\n",
       "      <td>110000</td>\n",
       "      <td>4</td>\n",
       "    </tr>\n",
       "    <tr>\n",
       "      <th>3</th>\n",
       "      <td>1500</td>\n",
       "      <td>2003</td>\n",
       "      <td>ford f150</td>\n",
       "      <td>fair</td>\n",
       "      <td>8</td>\n",
       "      <td>gas</td>\n",
       "      <td>156951</td>\n",
       "      <td>automatic</td>\n",
       "      <td>truck</td>\n",
       "      <td>unknown</td>\n",
       "      <td>0</td>\n",
       "      <td>2019-03-22</td>\n",
       "      <td>9</td>\n",
       "      <td>Friday</td>\n",
       "      <td>3</td>\n",
       "      <td>2019</td>\n",
       "      <td>16</td>\n",
       "      <td>156951</td>\n",
       "      <td>1</td>\n",
       "    </tr>\n",
       "    <tr>\n",
       "      <th>4</th>\n",
       "      <td>14900</td>\n",
       "      <td>2017</td>\n",
       "      <td>chrysler 200</td>\n",
       "      <td>excellent</td>\n",
       "      <td>4</td>\n",
       "      <td>gas</td>\n",
       "      <td>80903</td>\n",
       "      <td>automatic</td>\n",
       "      <td>sedan</td>\n",
       "      <td>black</td>\n",
       "      <td>0</td>\n",
       "      <td>2019-04-02</td>\n",
       "      <td>28</td>\n",
       "      <td>Tuesday</td>\n",
       "      <td>4</td>\n",
       "      <td>2019</td>\n",
       "      <td>2</td>\n",
       "      <td>80903</td>\n",
       "      <td>3</td>\n",
       "    </tr>\n",
       "    <tr>\n",
       "      <th>...</th>\n",
       "      <td>...</td>\n",
       "      <td>...</td>\n",
       "      <td>...</td>\n",
       "      <td>...</td>\n",
       "      <td>...</td>\n",
       "      <td>...</td>\n",
       "      <td>...</td>\n",
       "      <td>...</td>\n",
       "      <td>...</td>\n",
       "      <td>...</td>\n",
       "      <td>...</td>\n",
       "      <td>...</td>\n",
       "      <td>...</td>\n",
       "      <td>...</td>\n",
       "      <td>...</td>\n",
       "      <td>...</td>\n",
       "      <td>...</td>\n",
       "      <td>...</td>\n",
       "      <td>...</td>\n",
       "    </tr>\n",
       "    <tr>\n",
       "      <th>51520</th>\n",
       "      <td>9249</td>\n",
       "      <td>2013</td>\n",
       "      <td>nissan maxima</td>\n",
       "      <td>like new</td>\n",
       "      <td>6</td>\n",
       "      <td>gas</td>\n",
       "      <td>88136</td>\n",
       "      <td>automatic</td>\n",
       "      <td>sedan</td>\n",
       "      <td>black</td>\n",
       "      <td>0</td>\n",
       "      <td>2018-10-03</td>\n",
       "      <td>37</td>\n",
       "      <td>Wednesday</td>\n",
       "      <td>10</td>\n",
       "      <td>2018</td>\n",
       "      <td>5</td>\n",
       "      <td>88136</td>\n",
       "      <td>4</td>\n",
       "    </tr>\n",
       "    <tr>\n",
       "      <th>51521</th>\n",
       "      <td>2700</td>\n",
       "      <td>2002</td>\n",
       "      <td>honda civic</td>\n",
       "      <td>salvage</td>\n",
       "      <td>4</td>\n",
       "      <td>gas</td>\n",
       "      <td>181500</td>\n",
       "      <td>automatic</td>\n",
       "      <td>sedan</td>\n",
       "      <td>white</td>\n",
       "      <td>0</td>\n",
       "      <td>2018-11-14</td>\n",
       "      <td>22</td>\n",
       "      <td>Wednesday</td>\n",
       "      <td>11</td>\n",
       "      <td>2018</td>\n",
       "      <td>16</td>\n",
       "      <td>181500</td>\n",
       "      <td>0</td>\n",
       "    </tr>\n",
       "    <tr>\n",
       "      <th>51522</th>\n",
       "      <td>3950</td>\n",
       "      <td>2009</td>\n",
       "      <td>hyundai sonata</td>\n",
       "      <td>excellent</td>\n",
       "      <td>4</td>\n",
       "      <td>gas</td>\n",
       "      <td>128000</td>\n",
       "      <td>automatic</td>\n",
       "      <td>sedan</td>\n",
       "      <td>blue</td>\n",
       "      <td>0</td>\n",
       "      <td>2018-11-15</td>\n",
       "      <td>32</td>\n",
       "      <td>Thursday</td>\n",
       "      <td>11</td>\n",
       "      <td>2018</td>\n",
       "      <td>9</td>\n",
       "      <td>128000</td>\n",
       "      <td>3</td>\n",
       "    </tr>\n",
       "    <tr>\n",
       "      <th>51523</th>\n",
       "      <td>7455</td>\n",
       "      <td>2013</td>\n",
       "      <td>toyota corolla</td>\n",
       "      <td>good</td>\n",
       "      <td>4</td>\n",
       "      <td>gas</td>\n",
       "      <td>139573</td>\n",
       "      <td>automatic</td>\n",
       "      <td>sedan</td>\n",
       "      <td>black</td>\n",
       "      <td>0</td>\n",
       "      <td>2018-07-02</td>\n",
       "      <td>71</td>\n",
       "      <td>Monday</td>\n",
       "      <td>7</td>\n",
       "      <td>2018</td>\n",
       "      <td>5</td>\n",
       "      <td>139573</td>\n",
       "      <td>2</td>\n",
       "    </tr>\n",
       "    <tr>\n",
       "      <th>51524</th>\n",
       "      <td>6300</td>\n",
       "      <td>2014</td>\n",
       "      <td>nissan altima</td>\n",
       "      <td>good</td>\n",
       "      <td>4</td>\n",
       "      <td>gas</td>\n",
       "      <td>93017</td>\n",
       "      <td>automatic</td>\n",
       "      <td>sedan</td>\n",
       "      <td>unknown</td>\n",
       "      <td>0</td>\n",
       "      <td>2018-06-05</td>\n",
       "      <td>10</td>\n",
       "      <td>Tuesday</td>\n",
       "      <td>6</td>\n",
       "      <td>2018</td>\n",
       "      <td>4</td>\n",
       "      <td>93017</td>\n",
       "      <td>2</td>\n",
       "    </tr>\n",
       "  </tbody>\n",
       "</table>\n",
       "<p>50552 rows × 19 columns</p>\n",
       "</div>"
      ],
      "text/plain": [
       "       price  model_year           model  condition  cylinders fuel  odometer  \\\n",
       "0       9400        2011          bmw x5       good          6  gas    145000   \n",
       "1      25500        2017       ford f150       good          6  gas     88705   \n",
       "2       5500        2013  hyundai sonata   like new          4  gas    110000   \n",
       "3       1500        2003       ford f150       fair          8  gas    156951   \n",
       "4      14900        2017    chrysler 200  excellent          4  gas     80903   \n",
       "...      ...         ...             ...        ...        ...  ...       ...   \n",
       "51520   9249        2013   nissan maxima   like new          6  gas     88136   \n",
       "51521   2700        2002     honda civic    salvage          4  gas    181500   \n",
       "51522   3950        2009  hyundai sonata  excellent          4  gas    128000   \n",
       "51523   7455        2013  toyota corolla       good          4  gas    139573   \n",
       "51524   6300        2014   nissan altima       good          4  gas     93017   \n",
       "\n",
       "      transmission   type paint_color  is_4wd date_posted  days_listed  \\\n",
       "0        automatic    SUV     unknown       1  2018-06-23           19   \n",
       "1        automatic  truck       white       1  2018-10-19           50   \n",
       "2        automatic  sedan         red       0  2019-02-07           79   \n",
       "3        automatic  truck     unknown       0  2019-03-22            9   \n",
       "4        automatic  sedan       black       0  2019-04-02           28   \n",
       "...            ...    ...         ...     ...         ...          ...   \n",
       "51520    automatic  sedan       black       0  2018-10-03           37   \n",
       "51521    automatic  sedan       white       0  2018-11-14           22   \n",
       "51522    automatic  sedan        blue       0  2018-11-15           32   \n",
       "51523    automatic  sedan       black       0  2018-07-02           71   \n",
       "51524    automatic  sedan     unknown       0  2018-06-05           10   \n",
       "\n",
       "      dia_semana  mes   ano  idade_carro  quilometragem_media  condition_rate  \n",
       "0       Saturday    6  2018            7               145000               2  \n",
       "1         Friday   10  2018            1                88705               2  \n",
       "2       Thursday    2  2019            6               110000               4  \n",
       "3         Friday    3  2019           16               156951               1  \n",
       "4        Tuesday    4  2019            2                80903               3  \n",
       "...          ...  ...   ...          ...                  ...             ...  \n",
       "51520  Wednesday   10  2018            5                88136               4  \n",
       "51521  Wednesday   11  2018           16               181500               0  \n",
       "51522   Thursday   11  2018            9               128000               3  \n",
       "51523     Monday    7  2018            5               139573               2  \n",
       "51524    Tuesday    6  2018            4                93017               2  \n",
       "\n",
       "[50552 rows x 19 columns]"
      ]
     },
     "execution_count": 261,
     "metadata": {},
     "output_type": "execute_result"
    }
   ],
   "source": [
    "# Vamos criar uma coluna para condition numérica.\n",
    "\n",
    "# criar um dicionário com a correspondência entre as strings e as escalas numéricas\n",
    "mapa_condicao = {'new': 5, 'like new': 4, 'excellent': 3, 'good': 2, 'fair': 1, 'salvage': 0}\n",
    "\n",
    "# usar a função replace para substituir as strings pelos valores numéricos correspondentes\n",
    "df['condition_rate'] = df['condition'].replace(mapa_condicao)\n",
    "\n",
    "# imprimindo df\n",
    "df"
   ]
  },
  {
   "cell_type": "markdown",
   "metadata": {},
   "source": [
    "## Verifique os dados limpos"
   ]
  },
  {
   "cell_type": "markdown",
   "metadata": {},
   "source": [
    "Nossos dados estão prontos para análise, agora vamos dar um check rápido para visualizar se está tudo correto. "
   ]
  },
  {
   "cell_type": "code",
   "execution_count": 262,
   "metadata": {},
   "outputs": [
    {
     "name": "stdout",
     "output_type": "stream",
     "text": [
      "<class 'pandas.core.frame.DataFrame'>\n",
      "Int64Index: 50552 entries, 0 to 51524\n",
      "Data columns (total 19 columns):\n",
      " #   Column               Non-Null Count  Dtype         \n",
      "---  ------               --------------  -----         \n",
      " 0   price                50552 non-null  int64         \n",
      " 1   model_year           50552 non-null  int64         \n",
      " 2   model                50552 non-null  object        \n",
      " 3   condition            50552 non-null  object        \n",
      " 4   cylinders            50552 non-null  int64         \n",
      " 5   fuel                 50552 non-null  object        \n",
      " 6   odometer             50552 non-null  int64         \n",
      " 7   transmission         50552 non-null  object        \n",
      " 8   type                 50552 non-null  object        \n",
      " 9   paint_color          50552 non-null  object        \n",
      " 10  is_4wd               50552 non-null  int64         \n",
      " 11  date_posted          50552 non-null  datetime64[ns]\n",
      " 12  days_listed          50552 non-null  int64         \n",
      " 13  dia_semana           50552 non-null  object        \n",
      " 14  mes                  50552 non-null  int64         \n",
      " 15  ano                  50552 non-null  int64         \n",
      " 16  idade_carro          50552 non-null  int64         \n",
      " 17  quilometragem_media  50552 non-null  int64         \n",
      " 18  condition_rate       50552 non-null  int64         \n",
      "dtypes: datetime64[ns](1), int64(11), object(7)\n",
      "memory usage: 7.7+ MB\n"
     ]
    }
   ],
   "source": [
    "# imprima as informações gerais/resumidas sobre o DataFrame\n",
    "df.info()"
   ]
  },
  {
   "cell_type": "code",
   "execution_count": 263,
   "metadata": {},
   "outputs": [
    {
     "data": {
      "text/html": [
       "<div>\n",
       "<style scoped>\n",
       "    .dataframe tbody tr th:only-of-type {\n",
       "        vertical-align: middle;\n",
       "    }\n",
       "\n",
       "    .dataframe tbody tr th {\n",
       "        vertical-align: top;\n",
       "    }\n",
       "\n",
       "    .dataframe thead th {\n",
       "        text-align: right;\n",
       "    }\n",
       "</style>\n",
       "<table border=\"1\" class=\"dataframe\">\n",
       "  <thead>\n",
       "    <tr style=\"text-align: right;\">\n",
       "      <th></th>\n",
       "      <th>price</th>\n",
       "      <th>model_year</th>\n",
       "      <th>model</th>\n",
       "      <th>condition</th>\n",
       "      <th>cylinders</th>\n",
       "      <th>fuel</th>\n",
       "      <th>odometer</th>\n",
       "      <th>transmission</th>\n",
       "      <th>type</th>\n",
       "      <th>paint_color</th>\n",
       "      <th>is_4wd</th>\n",
       "      <th>date_posted</th>\n",
       "      <th>days_listed</th>\n",
       "      <th>dia_semana</th>\n",
       "      <th>mes</th>\n",
       "      <th>ano</th>\n",
       "      <th>idade_carro</th>\n",
       "      <th>quilometragem_media</th>\n",
       "      <th>condition_rate</th>\n",
       "    </tr>\n",
       "  </thead>\n",
       "  <tbody>\n",
       "    <tr>\n",
       "      <th>0</th>\n",
       "      <td>9400</td>\n",
       "      <td>2011</td>\n",
       "      <td>bmw x5</td>\n",
       "      <td>good</td>\n",
       "      <td>6</td>\n",
       "      <td>gas</td>\n",
       "      <td>145000</td>\n",
       "      <td>automatic</td>\n",
       "      <td>SUV</td>\n",
       "      <td>unknown</td>\n",
       "      <td>1</td>\n",
       "      <td>2018-06-23</td>\n",
       "      <td>19</td>\n",
       "      <td>Saturday</td>\n",
       "      <td>6</td>\n",
       "      <td>2018</td>\n",
       "      <td>7</td>\n",
       "      <td>145000</td>\n",
       "      <td>2</td>\n",
       "    </tr>\n",
       "    <tr>\n",
       "      <th>1</th>\n",
       "      <td>25500</td>\n",
       "      <td>2017</td>\n",
       "      <td>ford f150</td>\n",
       "      <td>good</td>\n",
       "      <td>6</td>\n",
       "      <td>gas</td>\n",
       "      <td>88705</td>\n",
       "      <td>automatic</td>\n",
       "      <td>truck</td>\n",
       "      <td>white</td>\n",
       "      <td>1</td>\n",
       "      <td>2018-10-19</td>\n",
       "      <td>50</td>\n",
       "      <td>Friday</td>\n",
       "      <td>10</td>\n",
       "      <td>2018</td>\n",
       "      <td>1</td>\n",
       "      <td>88705</td>\n",
       "      <td>2</td>\n",
       "    </tr>\n",
       "    <tr>\n",
       "      <th>2</th>\n",
       "      <td>5500</td>\n",
       "      <td>2013</td>\n",
       "      <td>hyundai sonata</td>\n",
       "      <td>like new</td>\n",
       "      <td>4</td>\n",
       "      <td>gas</td>\n",
       "      <td>110000</td>\n",
       "      <td>automatic</td>\n",
       "      <td>sedan</td>\n",
       "      <td>red</td>\n",
       "      <td>0</td>\n",
       "      <td>2019-02-07</td>\n",
       "      <td>79</td>\n",
       "      <td>Thursday</td>\n",
       "      <td>2</td>\n",
       "      <td>2019</td>\n",
       "      <td>6</td>\n",
       "      <td>110000</td>\n",
       "      <td>4</td>\n",
       "    </tr>\n",
       "    <tr>\n",
       "      <th>3</th>\n",
       "      <td>1500</td>\n",
       "      <td>2003</td>\n",
       "      <td>ford f150</td>\n",
       "      <td>fair</td>\n",
       "      <td>8</td>\n",
       "      <td>gas</td>\n",
       "      <td>156951</td>\n",
       "      <td>automatic</td>\n",
       "      <td>truck</td>\n",
       "      <td>unknown</td>\n",
       "      <td>0</td>\n",
       "      <td>2019-03-22</td>\n",
       "      <td>9</td>\n",
       "      <td>Friday</td>\n",
       "      <td>3</td>\n",
       "      <td>2019</td>\n",
       "      <td>16</td>\n",
       "      <td>156951</td>\n",
       "      <td>1</td>\n",
       "    </tr>\n",
       "    <tr>\n",
       "      <th>4</th>\n",
       "      <td>14900</td>\n",
       "      <td>2017</td>\n",
       "      <td>chrysler 200</td>\n",
       "      <td>excellent</td>\n",
       "      <td>4</td>\n",
       "      <td>gas</td>\n",
       "      <td>80903</td>\n",
       "      <td>automatic</td>\n",
       "      <td>sedan</td>\n",
       "      <td>black</td>\n",
       "      <td>0</td>\n",
       "      <td>2019-04-02</td>\n",
       "      <td>28</td>\n",
       "      <td>Tuesday</td>\n",
       "      <td>4</td>\n",
       "      <td>2019</td>\n",
       "      <td>2</td>\n",
       "      <td>80903</td>\n",
       "      <td>3</td>\n",
       "    </tr>\n",
       "    <tr>\n",
       "      <th>5</th>\n",
       "      <td>14990</td>\n",
       "      <td>2014</td>\n",
       "      <td>chrysler 300</td>\n",
       "      <td>excellent</td>\n",
       "      <td>6</td>\n",
       "      <td>gas</td>\n",
       "      <td>57954</td>\n",
       "      <td>automatic</td>\n",
       "      <td>sedan</td>\n",
       "      <td>black</td>\n",
       "      <td>1</td>\n",
       "      <td>2018-06-20</td>\n",
       "      <td>15</td>\n",
       "      <td>Wednesday</td>\n",
       "      <td>6</td>\n",
       "      <td>2018</td>\n",
       "      <td>4</td>\n",
       "      <td>57954</td>\n",
       "      <td>3</td>\n",
       "    </tr>\n",
       "    <tr>\n",
       "      <th>6</th>\n",
       "      <td>12990</td>\n",
       "      <td>2015</td>\n",
       "      <td>toyota camry</td>\n",
       "      <td>excellent</td>\n",
       "      <td>4</td>\n",
       "      <td>gas</td>\n",
       "      <td>79212</td>\n",
       "      <td>automatic</td>\n",
       "      <td>sedan</td>\n",
       "      <td>white</td>\n",
       "      <td>0</td>\n",
       "      <td>2018-12-27</td>\n",
       "      <td>73</td>\n",
       "      <td>Thursday</td>\n",
       "      <td>12</td>\n",
       "      <td>2018</td>\n",
       "      <td>3</td>\n",
       "      <td>79212</td>\n",
       "      <td>3</td>\n",
       "    </tr>\n",
       "    <tr>\n",
       "      <th>7</th>\n",
       "      <td>15990</td>\n",
       "      <td>2013</td>\n",
       "      <td>honda pilot</td>\n",
       "      <td>excellent</td>\n",
       "      <td>6</td>\n",
       "      <td>gas</td>\n",
       "      <td>109473</td>\n",
       "      <td>automatic</td>\n",
       "      <td>SUV</td>\n",
       "      <td>black</td>\n",
       "      <td>1</td>\n",
       "      <td>2019-01-07</td>\n",
       "      <td>68</td>\n",
       "      <td>Monday</td>\n",
       "      <td>1</td>\n",
       "      <td>2019</td>\n",
       "      <td>6</td>\n",
       "      <td>109473</td>\n",
       "      <td>3</td>\n",
       "    </tr>\n",
       "    <tr>\n",
       "      <th>8</th>\n",
       "      <td>11500</td>\n",
       "      <td>2012</td>\n",
       "      <td>kia sorento</td>\n",
       "      <td>excellent</td>\n",
       "      <td>4</td>\n",
       "      <td>gas</td>\n",
       "      <td>104174</td>\n",
       "      <td>automatic</td>\n",
       "      <td>SUV</td>\n",
       "      <td>unknown</td>\n",
       "      <td>1</td>\n",
       "      <td>2018-07-16</td>\n",
       "      <td>19</td>\n",
       "      <td>Monday</td>\n",
       "      <td>7</td>\n",
       "      <td>2018</td>\n",
       "      <td>6</td>\n",
       "      <td>104174</td>\n",
       "      <td>3</td>\n",
       "    </tr>\n",
       "    <tr>\n",
       "      <th>9</th>\n",
       "      <td>9200</td>\n",
       "      <td>2008</td>\n",
       "      <td>honda pilot</td>\n",
       "      <td>excellent</td>\n",
       "      <td>6</td>\n",
       "      <td>gas</td>\n",
       "      <td>147191</td>\n",
       "      <td>automatic</td>\n",
       "      <td>SUV</td>\n",
       "      <td>blue</td>\n",
       "      <td>1</td>\n",
       "      <td>2019-02-15</td>\n",
       "      <td>17</td>\n",
       "      <td>Friday</td>\n",
       "      <td>2</td>\n",
       "      <td>2019</td>\n",
       "      <td>11</td>\n",
       "      <td>147191</td>\n",
       "      <td>3</td>\n",
       "    </tr>\n",
       "  </tbody>\n",
       "</table>\n",
       "</div>"
      ],
      "text/plain": [
       "   price  model_year           model  condition  cylinders fuel  odometer  \\\n",
       "0   9400        2011          bmw x5       good          6  gas    145000   \n",
       "1  25500        2017       ford f150       good          6  gas     88705   \n",
       "2   5500        2013  hyundai sonata   like new          4  gas    110000   \n",
       "3   1500        2003       ford f150       fair          8  gas    156951   \n",
       "4  14900        2017    chrysler 200  excellent          4  gas     80903   \n",
       "5  14990        2014    chrysler 300  excellent          6  gas     57954   \n",
       "6  12990        2015    toyota camry  excellent          4  gas     79212   \n",
       "7  15990        2013     honda pilot  excellent          6  gas    109473   \n",
       "8  11500        2012     kia sorento  excellent          4  gas    104174   \n",
       "9   9200        2008     honda pilot  excellent          6  gas    147191   \n",
       "\n",
       "  transmission   type paint_color  is_4wd date_posted  days_listed dia_semana  \\\n",
       "0    automatic    SUV     unknown       1  2018-06-23           19   Saturday   \n",
       "1    automatic  truck       white       1  2018-10-19           50     Friday   \n",
       "2    automatic  sedan         red       0  2019-02-07           79   Thursday   \n",
       "3    automatic  truck     unknown       0  2019-03-22            9     Friday   \n",
       "4    automatic  sedan       black       0  2019-04-02           28    Tuesday   \n",
       "5    automatic  sedan       black       1  2018-06-20           15  Wednesday   \n",
       "6    automatic  sedan       white       0  2018-12-27           73   Thursday   \n",
       "7    automatic    SUV       black       1  2019-01-07           68     Monday   \n",
       "8    automatic    SUV     unknown       1  2018-07-16           19     Monday   \n",
       "9    automatic    SUV        blue       1  2019-02-15           17     Friday   \n",
       "\n",
       "   mes   ano  idade_carro  quilometragem_media  condition_rate  \n",
       "0    6  2018            7               145000               2  \n",
       "1   10  2018            1                88705               2  \n",
       "2    2  2019            6               110000               4  \n",
       "3    3  2019           16               156951               1  \n",
       "4    4  2019            2                80903               3  \n",
       "5    6  2018            4                57954               3  \n",
       "6   12  2018            3                79212               3  \n",
       "7    1  2019            6               109473               3  \n",
       "8    7  2018            6               104174               3  \n",
       "9    2  2019           11               147191               3  "
      ]
     },
     "execution_count": 263,
     "metadata": {},
     "output_type": "execute_result"
    }
   ],
   "source": [
    "# imprima uma amostragem dos dados\n",
    "df.head(10)"
   ]
  },
  {
   "cell_type": "code",
   "execution_count": 264,
   "metadata": {},
   "outputs": [
    {
     "data": {
      "text/html": [
       "<div>\n",
       "<style scoped>\n",
       "    .dataframe tbody tr th:only-of-type {\n",
       "        vertical-align: middle;\n",
       "    }\n",
       "\n",
       "    .dataframe tbody tr th {\n",
       "        vertical-align: top;\n",
       "    }\n",
       "\n",
       "    .dataframe thead th {\n",
       "        text-align: right;\n",
       "    }\n",
       "</style>\n",
       "<table border=\"1\" class=\"dataframe\">\n",
       "  <thead>\n",
       "    <tr style=\"text-align: right;\">\n",
       "      <th></th>\n",
       "      <th>price</th>\n",
       "      <th>model_year</th>\n",
       "      <th>model</th>\n",
       "      <th>condition</th>\n",
       "      <th>cylinders</th>\n",
       "      <th>fuel</th>\n",
       "      <th>odometer</th>\n",
       "      <th>transmission</th>\n",
       "      <th>type</th>\n",
       "      <th>paint_color</th>\n",
       "      <th>is_4wd</th>\n",
       "      <th>date_posted</th>\n",
       "      <th>days_listed</th>\n",
       "      <th>dia_semana</th>\n",
       "      <th>mes</th>\n",
       "      <th>ano</th>\n",
       "      <th>idade_carro</th>\n",
       "      <th>quilometragem_media</th>\n",
       "      <th>condition_rate</th>\n",
       "    </tr>\n",
       "  </thead>\n",
       "  <tbody>\n",
       "    <tr>\n",
       "      <th>51515</th>\n",
       "      <td>12000</td>\n",
       "      <td>2005</td>\n",
       "      <td>chevrolet silverado 2500hd</td>\n",
       "      <td>good</td>\n",
       "      <td>8</td>\n",
       "      <td>diesel</td>\n",
       "      <td>228000</td>\n",
       "      <td>automatic</td>\n",
       "      <td>truck</td>\n",
       "      <td>silver</td>\n",
       "      <td>1</td>\n",
       "      <td>2018-08-18</td>\n",
       "      <td>52</td>\n",
       "      <td>Saturday</td>\n",
       "      <td>8</td>\n",
       "      <td>2018</td>\n",
       "      <td>13</td>\n",
       "      <td>228000</td>\n",
       "      <td>2</td>\n",
       "    </tr>\n",
       "    <tr>\n",
       "      <th>51516</th>\n",
       "      <td>8999</td>\n",
       "      <td>2011</td>\n",
       "      <td>jeep grand cherokee</td>\n",
       "      <td>good</td>\n",
       "      <td>6</td>\n",
       "      <td>gas</td>\n",
       "      <td>123184</td>\n",
       "      <td>automatic</td>\n",
       "      <td>SUV</td>\n",
       "      <td>white</td>\n",
       "      <td>1</td>\n",
       "      <td>2018-11-01</td>\n",
       "      <td>51</td>\n",
       "      <td>Thursday</td>\n",
       "      <td>11</td>\n",
       "      <td>2018</td>\n",
       "      <td>7</td>\n",
       "      <td>123184</td>\n",
       "      <td>2</td>\n",
       "    </tr>\n",
       "    <tr>\n",
       "      <th>51517</th>\n",
       "      <td>11000</td>\n",
       "      <td>2012</td>\n",
       "      <td>dodge charger</td>\n",
       "      <td>excellent</td>\n",
       "      <td>8</td>\n",
       "      <td>gas</td>\n",
       "      <td>81000</td>\n",
       "      <td>automatic</td>\n",
       "      <td>sedan</td>\n",
       "      <td>black</td>\n",
       "      <td>0</td>\n",
       "      <td>2019-04-19</td>\n",
       "      <td>44</td>\n",
       "      <td>Friday</td>\n",
       "      <td>4</td>\n",
       "      <td>2019</td>\n",
       "      <td>7</td>\n",
       "      <td>81000</td>\n",
       "      <td>3</td>\n",
       "    </tr>\n",
       "    <tr>\n",
       "      <th>51518</th>\n",
       "      <td>3750</td>\n",
       "      <td>2005</td>\n",
       "      <td>ford taurus</td>\n",
       "      <td>excellent</td>\n",
       "      <td>6</td>\n",
       "      <td>gas</td>\n",
       "      <td>110200</td>\n",
       "      <td>automatic</td>\n",
       "      <td>sedan</td>\n",
       "      <td>silver</td>\n",
       "      <td>0</td>\n",
       "      <td>2018-08-10</td>\n",
       "      <td>63</td>\n",
       "      <td>Friday</td>\n",
       "      <td>8</td>\n",
       "      <td>2018</td>\n",
       "      <td>13</td>\n",
       "      <td>110200</td>\n",
       "      <td>3</td>\n",
       "    </tr>\n",
       "    <tr>\n",
       "      <th>51519</th>\n",
       "      <td>11750</td>\n",
       "      <td>2015</td>\n",
       "      <td>honda accord</td>\n",
       "      <td>excellent</td>\n",
       "      <td>4</td>\n",
       "      <td>gas</td>\n",
       "      <td>82644</td>\n",
       "      <td>automatic</td>\n",
       "      <td>coupe</td>\n",
       "      <td>unknown</td>\n",
       "      <td>0</td>\n",
       "      <td>2018-11-24</td>\n",
       "      <td>89</td>\n",
       "      <td>Saturday</td>\n",
       "      <td>11</td>\n",
       "      <td>2018</td>\n",
       "      <td>3</td>\n",
       "      <td>82644</td>\n",
       "      <td>3</td>\n",
       "    </tr>\n",
       "    <tr>\n",
       "      <th>51520</th>\n",
       "      <td>9249</td>\n",
       "      <td>2013</td>\n",
       "      <td>nissan maxima</td>\n",
       "      <td>like new</td>\n",
       "      <td>6</td>\n",
       "      <td>gas</td>\n",
       "      <td>88136</td>\n",
       "      <td>automatic</td>\n",
       "      <td>sedan</td>\n",
       "      <td>black</td>\n",
       "      <td>0</td>\n",
       "      <td>2018-10-03</td>\n",
       "      <td>37</td>\n",
       "      <td>Wednesday</td>\n",
       "      <td>10</td>\n",
       "      <td>2018</td>\n",
       "      <td>5</td>\n",
       "      <td>88136</td>\n",
       "      <td>4</td>\n",
       "    </tr>\n",
       "    <tr>\n",
       "      <th>51521</th>\n",
       "      <td>2700</td>\n",
       "      <td>2002</td>\n",
       "      <td>honda civic</td>\n",
       "      <td>salvage</td>\n",
       "      <td>4</td>\n",
       "      <td>gas</td>\n",
       "      <td>181500</td>\n",
       "      <td>automatic</td>\n",
       "      <td>sedan</td>\n",
       "      <td>white</td>\n",
       "      <td>0</td>\n",
       "      <td>2018-11-14</td>\n",
       "      <td>22</td>\n",
       "      <td>Wednesday</td>\n",
       "      <td>11</td>\n",
       "      <td>2018</td>\n",
       "      <td>16</td>\n",
       "      <td>181500</td>\n",
       "      <td>0</td>\n",
       "    </tr>\n",
       "    <tr>\n",
       "      <th>51522</th>\n",
       "      <td>3950</td>\n",
       "      <td>2009</td>\n",
       "      <td>hyundai sonata</td>\n",
       "      <td>excellent</td>\n",
       "      <td>4</td>\n",
       "      <td>gas</td>\n",
       "      <td>128000</td>\n",
       "      <td>automatic</td>\n",
       "      <td>sedan</td>\n",
       "      <td>blue</td>\n",
       "      <td>0</td>\n",
       "      <td>2018-11-15</td>\n",
       "      <td>32</td>\n",
       "      <td>Thursday</td>\n",
       "      <td>11</td>\n",
       "      <td>2018</td>\n",
       "      <td>9</td>\n",
       "      <td>128000</td>\n",
       "      <td>3</td>\n",
       "    </tr>\n",
       "    <tr>\n",
       "      <th>51523</th>\n",
       "      <td>7455</td>\n",
       "      <td>2013</td>\n",
       "      <td>toyota corolla</td>\n",
       "      <td>good</td>\n",
       "      <td>4</td>\n",
       "      <td>gas</td>\n",
       "      <td>139573</td>\n",
       "      <td>automatic</td>\n",
       "      <td>sedan</td>\n",
       "      <td>black</td>\n",
       "      <td>0</td>\n",
       "      <td>2018-07-02</td>\n",
       "      <td>71</td>\n",
       "      <td>Monday</td>\n",
       "      <td>7</td>\n",
       "      <td>2018</td>\n",
       "      <td>5</td>\n",
       "      <td>139573</td>\n",
       "      <td>2</td>\n",
       "    </tr>\n",
       "    <tr>\n",
       "      <th>51524</th>\n",
       "      <td>6300</td>\n",
       "      <td>2014</td>\n",
       "      <td>nissan altima</td>\n",
       "      <td>good</td>\n",
       "      <td>4</td>\n",
       "      <td>gas</td>\n",
       "      <td>93017</td>\n",
       "      <td>automatic</td>\n",
       "      <td>sedan</td>\n",
       "      <td>unknown</td>\n",
       "      <td>0</td>\n",
       "      <td>2018-06-05</td>\n",
       "      <td>10</td>\n",
       "      <td>Tuesday</td>\n",
       "      <td>6</td>\n",
       "      <td>2018</td>\n",
       "      <td>4</td>\n",
       "      <td>93017</td>\n",
       "      <td>2</td>\n",
       "    </tr>\n",
       "  </tbody>\n",
       "</table>\n",
       "</div>"
      ],
      "text/plain": [
       "       price  model_year                       model  condition  cylinders  \\\n",
       "51515  12000        2005  chevrolet silverado 2500hd       good          8   \n",
       "51516   8999        2011         jeep grand cherokee       good          6   \n",
       "51517  11000        2012               dodge charger  excellent          8   \n",
       "51518   3750        2005                 ford taurus  excellent          6   \n",
       "51519  11750        2015                honda accord  excellent          4   \n",
       "51520   9249        2013               nissan maxima   like new          6   \n",
       "51521   2700        2002                 honda civic    salvage          4   \n",
       "51522   3950        2009              hyundai sonata  excellent          4   \n",
       "51523   7455        2013              toyota corolla       good          4   \n",
       "51524   6300        2014               nissan altima       good          4   \n",
       "\n",
       "         fuel  odometer transmission   type paint_color  is_4wd date_posted  \\\n",
       "51515  diesel    228000    automatic  truck      silver       1  2018-08-18   \n",
       "51516     gas    123184    automatic    SUV       white       1  2018-11-01   \n",
       "51517     gas     81000    automatic  sedan       black       0  2019-04-19   \n",
       "51518     gas    110200    automatic  sedan      silver       0  2018-08-10   \n",
       "51519     gas     82644    automatic  coupe     unknown       0  2018-11-24   \n",
       "51520     gas     88136    automatic  sedan       black       0  2018-10-03   \n",
       "51521     gas    181500    automatic  sedan       white       0  2018-11-14   \n",
       "51522     gas    128000    automatic  sedan        blue       0  2018-11-15   \n",
       "51523     gas    139573    automatic  sedan       black       0  2018-07-02   \n",
       "51524     gas     93017    automatic  sedan     unknown       0  2018-06-05   \n",
       "\n",
       "       days_listed dia_semana  mes   ano  idade_carro  quilometragem_media  \\\n",
       "51515           52   Saturday    8  2018           13               228000   \n",
       "51516           51   Thursday   11  2018            7               123184   \n",
       "51517           44     Friday    4  2019            7                81000   \n",
       "51518           63     Friday    8  2018           13               110200   \n",
       "51519           89   Saturday   11  2018            3                82644   \n",
       "51520           37  Wednesday   10  2018            5                88136   \n",
       "51521           22  Wednesday   11  2018           16               181500   \n",
       "51522           32   Thursday   11  2018            9               128000   \n",
       "51523           71     Monday    7  2018            5               139573   \n",
       "51524           10    Tuesday    6  2018            4                93017   \n",
       "\n",
       "       condition_rate  \n",
       "51515               2  \n",
       "51516               2  \n",
       "51517               3  \n",
       "51518               3  \n",
       "51519               3  \n",
       "51520               4  \n",
       "51521               0  \n",
       "51522               3  \n",
       "51523               2  \n",
       "51524               2  "
      ]
     },
     "execution_count": 264,
     "metadata": {},
     "output_type": "execute_result"
    }
   ],
   "source": [
    "df.tail(10)"
   ]
  },
  {
   "cell_type": "markdown",
   "metadata": {},
   "source": [
    "## Estude os parâmetros fundamentais\n",
    "\n",
    "Iremos estudar os paramêtros fundamentais para as nossas análises. Iremos analisar os valores atípicos dos dados para cada uma das colunas escolhidas.\n",
    "\n",
    "Iremos utilizar do método do boxplot para plotar gráficos em que possamos ver os valores que estão fora do range dos máximos e mínimos. \n",
    "\n",
    "Também será gerado um histograma antes e depois para analise do comportamento.\n",
    "\n",
    "Os parâmetros são\n",
    "- Preço\n",
    "- A idade do veículo quando a propaganda foi colocada\n",
    "- Quilometragem\n",
    "- Número de cilindros\n",
    "- Condição"
   ]
  },
  {
   "cell_type": "markdown",
   "metadata": {},
   "source": [
    "\n",
    "Inicialmente iremos criar duas funções. Uma para gerar histogramas e a outra para gerar o bloxplot.\n",
    "\n",
    "Outra função criada será para cálculo de bigode superior e inferior do bloxpot gerado, assim poderemos filtrar os dados posteriormente e analisar. Iremos armazenar os dados fora dos limites em uma outra dataframe e comparar os gráficos gerados"
   ]
  },
  {
   "cell_type": "code",
   "execution_count": 265,
   "metadata": {},
   "outputs": [],
   "source": [
    "# Criando funções\n",
    "\n",
    "# Criando função histograma\n",
    "def hist(df,column, bins):\n",
    "    return df[column].plot(bins=bins, kind = 'hist').set_xlim(0,df[column].max())\n",
    "\n",
    "# Criando função boxplot\n",
    "def box(df,column):\n",
    "    return df[column].plot(kind='box')\n",
    "\n",
    "# calculador de bigode\n",
    "def calcula_bigode(df, coluna):\n",
    "    Q1 = df[coluna].quantile(0.25)\n",
    "    Q3 = df[coluna].quantile(0.75)\n",
    "    IQR = Q3 - Q1\n",
    "    limite_inferior = Q1 - 1.5 * IQR\n",
    "    limite_superior = Q3 + 1.5 * IQR\n",
    "    return limite_inferior, limite_superior"
   ]
  },
  {
   "cell_type": "code",
   "execution_count": 266,
   "metadata": {},
   "outputs": [
    {
     "data": {
      "text/plain": [
       "(-12850.0, 34750.0)"
      ]
     },
     "execution_count": 266,
     "metadata": {},
     "output_type": "execute_result"
    },
    {
     "data": {
      "image/png": "[encoded data removed]",
      "text/plain": [
       "<Figure size 432x288 with 1 Axes>"
      ]
     },
     "metadata": {
      "needs_background": "light"
     },
     "output_type": "display_data"
    },
    {
     "data": {
      "image/png": "[encoded data removed]",
      "text/plain": [
       "<Figure size 432x288 with 1 Axes>"
      ]
     },
     "metadata": {
      "needs_background": "light"
     },
     "output_type": "display_data"
    }
   ],
   "source": [
    "# analise para 'price'\n",
    "\n",
    "hist(df,'price', 200)\n",
    "plt.figure()\n",
    "box(df,'price')\n",
    "calcula_bigode(df,'price')"
   ]
  },
  {
   "cell_type": "code",
   "execution_count": 267,
   "metadata": {},
   "outputs": [
    {
     "data": {
      "text/plain": [
       "(-8.0, 24.0)"
      ]
     },
     "execution_count": 267,
     "metadata": {},
     "output_type": "execute_result"
    },
    {
     "data": {
      "image/png": "[encoded data removed]",
      "text/plain": [
       "<Figure size 432x288 with 1 Axes>"
      ]
     },
     "metadata": {
      "needs_background": "light"
     },
     "output_type": "display_data"
    },
    {
     "data": {
      "image/png": "[encoded data removed]",
      "text/plain": [
       "<Figure size 432x288 with 1 Axes>"
      ]
     },
     "metadata": {
      "needs_background": "light"
     },
     "output_type": "display_data"
    }
   ],
   "source": [
    "# analise para 'idade_carro'\n",
    "\n",
    "hist(df,'idade_carro', 200)\n",
    "plt.figure()\n",
    "box(df,'idade_carro')\n",
    "calcula_bigode(df,'idade_carro')"
   ]
  },
  {
   "cell_type": "code",
   "execution_count": 268,
   "metadata": {},
   "outputs": [
    {
     "data": {
      "text/plain": [
       "(-43454.25, 270023.75)"
      ]
     },
     "execution_count": 268,
     "metadata": {},
     "output_type": "execute_result"
    },
    {
     "data": {
      "image/png": "[encoded data removed]",
      "text/plain": [
       "<Figure size 432x288 with 1 Axes>"
      ]
     },
     "metadata": {
      "needs_background": "light"
     },
     "output_type": "display_data"
    },
    {
     "data": {
      "image/png": "[encoded data removed]",
      "text/plain": [
       "<Figure size 432x288 with 1 Axes>"
      ]
     },
     "metadata": {
      "needs_background": "light"
     },
     "output_type": "display_data"
    }
   ],
   "source": [
    "# analise para 'odometer'\n",
    "\n",
    "hist(df,'odometer', 200)\n",
    "plt.figure()\n",
    "box(df,'odometer')\n",
    "calcula_bigode(df,'odometer')"
   ]
  },
  {
   "cell_type": "code",
   "execution_count": 269,
   "metadata": {},
   "outputs": [
    {
     "data": {
      "text/plain": [
       "(-2.0, 14.0)"
      ]
     },
     "execution_count": 269,
     "metadata": {},
     "output_type": "execute_result"
    },
    {
     "data": {
      "image/png": "[encoded data removed]",
      "text/plain": [
       "<Figure size 432x288 with 1 Axes>"
      ]
     },
     "metadata": {
      "needs_background": "light"
     },
     "output_type": "display_data"
    },
    {
     "data": {
      "image/png": "[encoded data removed]",
      "text/plain": [
       "<Figure size 432x288 with 1 Axes>"
      ]
     },
     "metadata": {
      "needs_background": "light"
     },
     "output_type": "display_data"
    }
   ],
   "source": [
    "# analise para 'cylinders'\n",
    "\n",
    "hist(df,'cylinders', 4)\n",
    "plt.figure()\n",
    "box(df,'cylinders')\n",
    "calcula_bigode(df,'cylinders')"
   ]
  },
  {
   "cell_type": "code",
   "execution_count": 270,
   "metadata": {},
   "outputs": [
    {
     "data": {
      "text/plain": [
       "(0.5, 4.5)"
      ]
     },
     "execution_count": 270,
     "metadata": {},
     "output_type": "execute_result"
    },
    {
     "data": {
      "image/png": "[encoded data removed]",
      "text/plain": [
       "<Figure size 432x288 with 1 Axes>"
      ]
     },
     "metadata": {
      "needs_background": "light"
     },
     "output_type": "display_data"
    },
    {
     "data": {
      "image/png": "[encoded data removed]",
      "text/plain": [
       "<Figure size 432x288 with 1 Axes>"
      ]
     },
     "metadata": {
      "needs_background": "light"
     },
     "output_type": "display_data"
    }
   ],
   "source": [
    "# analise para 'condition_rate'\n",
    "\n",
    "hist(df,'condition_rate', 6)\n",
    "plt.figure()\n",
    "box(df,'condition_rate')\n",
    "calcula_bigode(df,'condition_rate')"
   ]
  },
  {
   "cell_type": "markdown",
   "metadata": {},
   "source": [
    "## Estude e cuide dos valores atípicos\n",
    "\n",
    "Os limites superiores e inferiores já foram definidos e estão no topo de cada um dos gráficos gerados. Iremos utilizar a função query para gerar uma nova df sem os valores atípicos.\n",
    "\n",
    "A coluna cylinders já havíamos trabalhado na parte de limpeza e tratamento de dados, logo não necessita de tratamento para os valores atípicos."
   ]
  },
  {
   "cell_type": "code",
   "execution_count": 271,
   "metadata": {},
   "outputs": [
    {
     "data": {
      "text/html": [
       "<div>\n",
       "<style scoped>\n",
       "    .dataframe tbody tr th:only-of-type {\n",
       "        vertical-align: middle;\n",
       "    }\n",
       "\n",
       "    .dataframe tbody tr th {\n",
       "        vertical-align: top;\n",
       "    }\n",
       "\n",
       "    .dataframe thead th {\n",
       "        text-align: right;\n",
       "    }\n",
       "</style>\n",
       "<table border=\"1\" class=\"dataframe\">\n",
       "  <thead>\n",
       "    <tr style=\"text-align: right;\">\n",
       "      <th></th>\n",
       "      <th>price</th>\n",
       "      <th>model_year</th>\n",
       "      <th>model</th>\n",
       "      <th>condition</th>\n",
       "      <th>cylinders</th>\n",
       "      <th>fuel</th>\n",
       "      <th>odometer</th>\n",
       "      <th>transmission</th>\n",
       "      <th>type</th>\n",
       "      <th>paint_color</th>\n",
       "      <th>is_4wd</th>\n",
       "      <th>date_posted</th>\n",
       "      <th>days_listed</th>\n",
       "      <th>dia_semana</th>\n",
       "      <th>mes</th>\n",
       "      <th>ano</th>\n",
       "      <th>idade_carro</th>\n",
       "      <th>quilometragem_media</th>\n",
       "      <th>condition_rate</th>\n",
       "    </tr>\n",
       "  </thead>\n",
       "  <tbody>\n",
       "    <tr>\n",
       "      <th>0</th>\n",
       "      <td>9400</td>\n",
       "      <td>2011</td>\n",
       "      <td>bmw x5</td>\n",
       "      <td>good</td>\n",
       "      <td>6</td>\n",
       "      <td>gas</td>\n",
       "      <td>145000</td>\n",
       "      <td>automatic</td>\n",
       "      <td>SUV</td>\n",
       "      <td>unknown</td>\n",
       "      <td>1</td>\n",
       "      <td>2018-06-23</td>\n",
       "      <td>19</td>\n",
       "      <td>Saturday</td>\n",
       "      <td>6</td>\n",
       "      <td>2018</td>\n",
       "      <td>7</td>\n",
       "      <td>145000</td>\n",
       "      <td>2</td>\n",
       "    </tr>\n",
       "    <tr>\n",
       "      <th>1</th>\n",
       "      <td>25500</td>\n",
       "      <td>2017</td>\n",
       "      <td>ford f150</td>\n",
       "      <td>good</td>\n",
       "      <td>6</td>\n",
       "      <td>gas</td>\n",
       "      <td>88705</td>\n",
       "      <td>automatic</td>\n",
       "      <td>truck</td>\n",
       "      <td>white</td>\n",
       "      <td>1</td>\n",
       "      <td>2018-10-19</td>\n",
       "      <td>50</td>\n",
       "      <td>Friday</td>\n",
       "      <td>10</td>\n",
       "      <td>2018</td>\n",
       "      <td>1</td>\n",
       "      <td>88705</td>\n",
       "      <td>2</td>\n",
       "    </tr>\n",
       "    <tr>\n",
       "      <th>2</th>\n",
       "      <td>5500</td>\n",
       "      <td>2013</td>\n",
       "      <td>hyundai sonata</td>\n",
       "      <td>like new</td>\n",
       "      <td>4</td>\n",
       "      <td>gas</td>\n",
       "      <td>110000</td>\n",
       "      <td>automatic</td>\n",
       "      <td>sedan</td>\n",
       "      <td>red</td>\n",
       "      <td>0</td>\n",
       "      <td>2019-02-07</td>\n",
       "      <td>79</td>\n",
       "      <td>Thursday</td>\n",
       "      <td>2</td>\n",
       "      <td>2019</td>\n",
       "      <td>6</td>\n",
       "      <td>110000</td>\n",
       "      <td>4</td>\n",
       "    </tr>\n",
       "    <tr>\n",
       "      <th>3</th>\n",
       "      <td>1500</td>\n",
       "      <td>2003</td>\n",
       "      <td>ford f150</td>\n",
       "      <td>fair</td>\n",
       "      <td>8</td>\n",
       "      <td>gas</td>\n",
       "      <td>156951</td>\n",
       "      <td>automatic</td>\n",
       "      <td>truck</td>\n",
       "      <td>unknown</td>\n",
       "      <td>0</td>\n",
       "      <td>2019-03-22</td>\n",
       "      <td>9</td>\n",
       "      <td>Friday</td>\n",
       "      <td>3</td>\n",
       "      <td>2019</td>\n",
       "      <td>16</td>\n",
       "      <td>156951</td>\n",
       "      <td>1</td>\n",
       "    </tr>\n",
       "    <tr>\n",
       "      <th>4</th>\n",
       "      <td>14900</td>\n",
       "      <td>2017</td>\n",
       "      <td>chrysler 200</td>\n",
       "      <td>excellent</td>\n",
       "      <td>4</td>\n",
       "      <td>gas</td>\n",
       "      <td>80903</td>\n",
       "      <td>automatic</td>\n",
       "      <td>sedan</td>\n",
       "      <td>black</td>\n",
       "      <td>0</td>\n",
       "      <td>2019-04-02</td>\n",
       "      <td>28</td>\n",
       "      <td>Tuesday</td>\n",
       "      <td>4</td>\n",
       "      <td>2019</td>\n",
       "      <td>2</td>\n",
       "      <td>80903</td>\n",
       "      <td>3</td>\n",
       "    </tr>\n",
       "    <tr>\n",
       "      <th>...</th>\n",
       "      <td>...</td>\n",
       "      <td>...</td>\n",
       "      <td>...</td>\n",
       "      <td>...</td>\n",
       "      <td>...</td>\n",
       "      <td>...</td>\n",
       "      <td>...</td>\n",
       "      <td>...</td>\n",
       "      <td>...</td>\n",
       "      <td>...</td>\n",
       "      <td>...</td>\n",
       "      <td>...</td>\n",
       "      <td>...</td>\n",
       "      <td>...</td>\n",
       "      <td>...</td>\n",
       "      <td>...</td>\n",
       "      <td>...</td>\n",
       "      <td>...</td>\n",
       "      <td>...</td>\n",
       "    </tr>\n",
       "    <tr>\n",
       "      <th>51520</th>\n",
       "      <td>9249</td>\n",
       "      <td>2013</td>\n",
       "      <td>nissan maxima</td>\n",
       "      <td>like new</td>\n",
       "      <td>6</td>\n",
       "      <td>gas</td>\n",
       "      <td>88136</td>\n",
       "      <td>automatic</td>\n",
       "      <td>sedan</td>\n",
       "      <td>black</td>\n",
       "      <td>0</td>\n",
       "      <td>2018-10-03</td>\n",
       "      <td>37</td>\n",
       "      <td>Wednesday</td>\n",
       "      <td>10</td>\n",
       "      <td>2018</td>\n",
       "      <td>5</td>\n",
       "      <td>88136</td>\n",
       "      <td>4</td>\n",
       "    </tr>\n",
       "    <tr>\n",
       "      <th>51521</th>\n",
       "      <td>2700</td>\n",
       "      <td>2002</td>\n",
       "      <td>honda civic</td>\n",
       "      <td>salvage</td>\n",
       "      <td>4</td>\n",
       "      <td>gas</td>\n",
       "      <td>181500</td>\n",
       "      <td>automatic</td>\n",
       "      <td>sedan</td>\n",
       "      <td>white</td>\n",
       "      <td>0</td>\n",
       "      <td>2018-11-14</td>\n",
       "      <td>22</td>\n",
       "      <td>Wednesday</td>\n",
       "      <td>11</td>\n",
       "      <td>2018</td>\n",
       "      <td>16</td>\n",
       "      <td>181500</td>\n",
       "      <td>0</td>\n",
       "    </tr>\n",
       "    <tr>\n",
       "      <th>51522</th>\n",
       "      <td>3950</td>\n",
       "      <td>2009</td>\n",
       "      <td>hyundai sonata</td>\n",
       "      <td>excellent</td>\n",
       "      <td>4</td>\n",
       "      <td>gas</td>\n",
       "      <td>128000</td>\n",
       "      <td>automatic</td>\n",
       "      <td>sedan</td>\n",
       "      <td>blue</td>\n",
       "      <td>0</td>\n",
       "      <td>2018-11-15</td>\n",
       "      <td>32</td>\n",
       "      <td>Thursday</td>\n",
       "      <td>11</td>\n",
       "      <td>2018</td>\n",
       "      <td>9</td>\n",
       "      <td>128000</td>\n",
       "      <td>3</td>\n",
       "    </tr>\n",
       "    <tr>\n",
       "      <th>51523</th>\n",
       "      <td>7455</td>\n",
       "      <td>2013</td>\n",
       "      <td>toyota corolla</td>\n",
       "      <td>good</td>\n",
       "      <td>4</td>\n",
       "      <td>gas</td>\n",
       "      <td>139573</td>\n",
       "      <td>automatic</td>\n",
       "      <td>sedan</td>\n",
       "      <td>black</td>\n",
       "      <td>0</td>\n",
       "      <td>2018-07-02</td>\n",
       "      <td>71</td>\n",
       "      <td>Monday</td>\n",
       "      <td>7</td>\n",
       "      <td>2018</td>\n",
       "      <td>5</td>\n",
       "      <td>139573</td>\n",
       "      <td>2</td>\n",
       "    </tr>\n",
       "    <tr>\n",
       "      <th>51524</th>\n",
       "      <td>6300</td>\n",
       "      <td>2014</td>\n",
       "      <td>nissan altima</td>\n",
       "      <td>good</td>\n",
       "      <td>4</td>\n",
       "      <td>gas</td>\n",
       "      <td>93017</td>\n",
       "      <td>automatic</td>\n",
       "      <td>sedan</td>\n",
       "      <td>unknown</td>\n",
       "      <td>0</td>\n",
       "      <td>2018-06-05</td>\n",
       "      <td>10</td>\n",
       "      <td>Tuesday</td>\n",
       "      <td>6</td>\n",
       "      <td>2018</td>\n",
       "      <td>4</td>\n",
       "      <td>93017</td>\n",
       "      <td>2</td>\n",
       "    </tr>\n",
       "  </tbody>\n",
       "</table>\n",
       "<p>47491 rows × 19 columns</p>\n",
       "</div>"
      ],
      "text/plain": [
       "       price  model_year           model  condition  cylinders fuel  odometer  \\\n",
       "0       9400        2011          bmw x5       good          6  gas    145000   \n",
       "1      25500        2017       ford f150       good          6  gas     88705   \n",
       "2       5500        2013  hyundai sonata   like new          4  gas    110000   \n",
       "3       1500        2003       ford f150       fair          8  gas    156951   \n",
       "4      14900        2017    chrysler 200  excellent          4  gas     80903   \n",
       "...      ...         ...             ...        ...        ...  ...       ...   \n",
       "51520   9249        2013   nissan maxima   like new          6  gas     88136   \n",
       "51521   2700        2002     honda civic    salvage          4  gas    181500   \n",
       "51522   3950        2009  hyundai sonata  excellent          4  gas    128000   \n",
       "51523   7455        2013  toyota corolla       good          4  gas    139573   \n",
       "51524   6300        2014   nissan altima       good          4  gas     93017   \n",
       "\n",
       "      transmission   type paint_color  is_4wd date_posted  days_listed  \\\n",
       "0        automatic    SUV     unknown       1  2018-06-23           19   \n",
       "1        automatic  truck       white       1  2018-10-19           50   \n",
       "2        automatic  sedan         red       0  2019-02-07           79   \n",
       "3        automatic  truck     unknown       0  2019-03-22            9   \n",
       "4        automatic  sedan       black       0  2019-04-02           28   \n",
       "...            ...    ...         ...     ...         ...          ...   \n",
       "51520    automatic  sedan       black       0  2018-10-03           37   \n",
       "51521    automatic  sedan       white       0  2018-11-14           22   \n",
       "51522    automatic  sedan        blue       0  2018-11-15           32   \n",
       "51523    automatic  sedan       black       0  2018-07-02           71   \n",
       "51524    automatic  sedan     unknown       0  2018-06-05           10   \n",
       "\n",
       "      dia_semana  mes   ano  idade_carro  quilometragem_media  condition_rate  \n",
       "0       Saturday    6  2018            7               145000               2  \n",
       "1         Friday   10  2018            1                88705               2  \n",
       "2       Thursday    2  2019            6               110000               4  \n",
       "3         Friday    3  2019           16               156951               1  \n",
       "4        Tuesday    4  2019            2                80903               3  \n",
       "...          ...  ...   ...          ...                  ...             ...  \n",
       "51520  Wednesday   10  2018            5                88136               4  \n",
       "51521  Wednesday   11  2018           16               181500               0  \n",
       "51522   Thursday   11  2018            9               128000               3  \n",
       "51523     Monday    7  2018            5               139573               2  \n",
       "51524    Tuesday    6  2018            4                93017               2  \n",
       "\n",
       "[47491 rows x 19 columns]"
      ]
     },
     "execution_count": 271,
     "metadata": {},
     "output_type": "execute_result"
    }
   ],
   "source": [
    "# Armazene os dados sem os valores atípicos em um DataFrame separado\n",
    "newdf = df.query(\"(-12850 <= price <= 34750) and (-8 <= idade_carro <= 24) and (-43435.5 <= odometer <= 270064.5) and (-0.5 <= condition_rate <= 4.5)\")\n",
    "newdf"
   ]
  },
  {
   "cell_type": "markdown",
   "metadata": {},
   "source": [
    "## Estude os parâmetros fundamentais sem valores atípicos"
   ]
  },
  {
   "cell_type": "markdown",
   "metadata": {},
   "source": [
    "\n",
    "Iremos usar os dados filtrados para gerar novos graficos e comparar coms os valores anteriores."
   ]
  },
  {
   "cell_type": "code",
   "execution_count": 272,
   "metadata": {},
   "outputs": [
    {
     "data": {
      "text/plain": [
       "<Figure size 432x288 with 0 Axes>"
      ]
     },
     "execution_count": 272,
     "metadata": {},
     "output_type": "execute_result"
    },
    {
     "data": {
      "image/png": "[encoded data removed]",
      "text/plain": [
       "<Figure size 432x288 with 1 Axes>"
      ]
     },
     "metadata": {
      "needs_background": "light"
     },
     "output_type": "display_data"
    },
    {
     "data": {
      "image/png": "[encoded data removed]",
      "text/plain": [
       "<Figure size 432x288 with 1 Axes>"
      ]
     },
     "metadata": {
      "needs_background": "light"
     },
     "output_type": "display_data"
    },
    {
     "data": {
      "image/png": "[encoded data removed]",
      "text/plain": [
       "<Figure size 432x288 with 1 Axes>"
      ]
     },
     "metadata": {
      "needs_background": "light"
     },
     "output_type": "display_data"
    },
    {
     "data": {
      "image/png": "[encoded data removed]",
      "text/plain": [
       "<Figure size 432x288 with 1 Axes>"
      ]
     },
     "metadata": {
      "needs_background": "light"
     },
     "output_type": "display_data"
    },
    {
     "data": {
      "text/plain": [
       "<Figure size 432x288 with 0 Axes>"
      ]
     },
     "metadata": {},
     "output_type": "display_data"
    }
   ],
   "source": [
    "# histograma filtrado price\n",
    "hist(newdf,'price', 200)\n",
    "plt.figure()\n",
    "\n",
    "# histograma filtrado idade_carro\n",
    "hist(newdf,'idade_carro', 200)\n",
    "plt.figure()\n",
    "\n",
    "# histograma filtrado odometer\n",
    "hist(newdf,'odometer', 200)\n",
    "plt.figure()\n",
    "\n",
    "# histograma filtrado condition_rate\n",
    "hist(newdf,'condition_rate', 8)\n",
    "plt.figure()"
   ]
  },
  {
   "cell_type": "markdown",
   "metadata": {},
   "source": [
    "**Conclusão final**\n",
    "\n",
    "Comparação de histogramas:\n",
    "\n",
    "1) Price --> Podemos observar que com a mudança para a df filtrada tivemos uma maior padronização da Dataframe, a curva de distribuição nos parece mais de maneira normalizada. Os valores discrepantes sumiram e os valores nos parecem mais perto da média do que antes. Agora pode-se observar melhor que a concentração de preços de carros é de 0-5000 dolares.\n",
    "\n",
    "2) Idade do carro --> As diferenças entre os histogramas são claros e podemos observar que no gráfico filtrado temos uma gráfico mais bem distribuido, dando sinais de normalidade ao gráfico. Ou seja, a parte extrema a direita do gráfico com os valores discrepantes sumiram e a curva de dados ficou mais 'suave'. O histograma filtrado se mostra melhor do que o original e os valores estão mais perto da média agora.\n",
    "\n",
    "3) Quilometragem --> A diferença entre os dois gráficos é clara, os valores no histograma filtrado é distribuição normal, ou seja, o gráfico de dados faz uma espécie de onda. Há alguns 'spikes' de valores, talvez devido as nossas substituições anteriores em alguns valores de contagem. Pode-se observar que há um desvio padrão menor no gráfico filtrado do que no gráfico orginal, onde os valores não se distanciam tanto da média.\n",
    "\n",
    "4) Cilindros --> O gráfico de cilindros não geramos, pois já havíamos tratado anteriormente os dados discrepantes. Logo deixamos fora de nossa análise.\n",
    "\n",
    "5) Condição --> Vimos que para as condições ao filtrar para os valores discrepantes tivemos um comportamento ao contrário dos filtros da outra coluna, sendo que o gráfico de distribuição, aparentemente normal, foi para uma distribuição não normal ficando a direita do gráfico. Talvez aumentando a escala de x teríamos outra visão, porém parece que o gráfico de distribuição tipo histograma piorou um pouco neste quesito."
   ]
  },
  {
   "cell_type": "markdown",
   "metadata": {},
   "source": [
    "## Tempo de vida das propagandas\n",
    "\n",
    "Vamos estudar o tempo de vida das propagandas e anúncios dos carros.\n",
    "\n",
    "Iremos calcular a média e mediana, descever o tempo de vida útil comum. Também iremos analisar valores incomuns para o tempo de vida da propaganda. Iremos fazer isso utilizando o mesmo método anterior de calculo de valores atípicos com histograma.\n",
    "\n",
    "O tempo de vida útil comum podemos descrever por meio da moda, ou seja, qual o valor que mais aparece para a coluna days_listed."
   ]
  },
  {
   "cell_type": "code",
   "execution_count": 273,
   "metadata": {},
   "outputs": [
    {
     "name": "stdout",
     "output_type": "stream",
     "text": [
      "A média é 39.5442715461877 dias\n",
      "A mediana é 33.0 dias\n",
      "A moda é 18 dias\n"
     ]
    },
    {
     "data": {
      "text/plain": [
       "(0.0, 271.0)"
      ]
     },
     "execution_count": 273,
     "metadata": {},
     "output_type": "execute_result"
    },
    {
     "data": {
      "image/png": "[encoded data removed]",
      "text/plain": [
       "<Figure size 432x288 with 1 Axes>"
      ]
     },
     "metadata": {
      "needs_background": "light"
     },
     "output_type": "display_data"
    }
   ],
   "source": [
    "# calculando média \n",
    "mediadl = newdf['days_listed'].mean()\n",
    "print(f'A média é {mediadl} dias')\n",
    "\n",
    "# calculando mediana\n",
    "medianadl = newdf['days_listed'].median()\n",
    "print(f'A mediana é {medianadl} dias')\n",
    "\n",
    "# calculando a moda - valor mais comum\n",
    "modadl = newdf['days_listed'].mode()\n",
    "print(f'A moda é {int(modadl)} dias')\n",
    "\n",
    "# parametros de hist\n",
    "hist(newdf,'days_listed',200)"
   ]
  },
  {
   "cell_type": "markdown",
   "metadata": {},
   "source": [
    "**Conclusões intermediárias**\n",
    "\n",
    "Podemos observar que a média e mediana dos valores ficaram diferentes uma da outra por aproximadamente um erro de, aproximadamente, 17% o tempo. \n",
    "\n",
    "Pelo histograma podemos observar que esse erro seria correto, pois a curva do histograma não é normal.\n",
    "\n",
    "A moda ou o valor mais comum para o tempo de exibição da propaganda é de 18 dias.\n",
    "\n",
    "Pelo histogramas vemos que o tempo muito longo ou 'atípico' seria após 100 dias e o muito curto, 25 dias. Iremos calcular os quartis Q1 e Q3."
   ]
  },
  {
   "cell_type": "code",
   "execution_count": 274,
   "metadata": {},
   "outputs": [
    {
     "name": "stdout",
     "output_type": "stream",
     "text": [
      "Tempo muito longo após 53.0 dias\n",
      "Tempo muito curto antes de 19.0 dias\n"
     ]
    }
   ],
   "source": [
    "# calculando desvios padrão superior e inferior dos dados\n",
    "\n",
    "# calcular os quartis e o IIQ\n",
    "q1 = newdf['days_listed'].describe()['25%']\n",
    "q3 = newdf['days_listed'].describe()['75%']\n",
    "\n",
    "print(f'Tempo muito longo após {q3} dias')\n",
    "print(f'Tempo muito curto antes de {q1} dias')"
   ]
  },
  {
   "cell_type": "markdown",
   "metadata": {},
   "source": [
    "Logo podemos ver que os tempos anormais tanto para curtos e longos seguem como:\n",
    "\n",
    "* Tempo logo é após 53 dias de anúncio;\n",
    "* Tempo muito curto é antes de 19 dias de anúncio;"
   ]
  },
  {
   "cell_type": "markdown",
   "metadata": {},
   "source": [
    "## Média de preços por cada tipo de veículo"
   ]
  },
  {
   "cell_type": "markdown",
   "metadata": {},
   "source": [
    "\n",
    "Agora iremos realizar a análise de média de preços para cad tipo de veículo. Iremos:\n",
    "\n",
    "Analisar o número de propagandas e o preço médio para cada tipo de veículo. Construir um gráfico mostrando a dependência do número de propagandas em relação ao tipo de veículo e iremos selecionar os dois tipos com o maior número de propagandas."
   ]
  },
  {
   "cell_type": "code",
   "execution_count": 275,
   "metadata": {},
   "outputs": [
    {
     "data": {
      "text/plain": [
       "Index(['price', 'model_year', 'model', 'condition', 'cylinders', 'fuel',\n",
       "       'odometer', 'transmission', 'type', 'paint_color', 'is_4wd',\n",
       "       'date_posted', 'days_listed', 'dia_semana', 'mes', 'ano', 'idade_carro',\n",
       "       'quilometragem_media', 'condition_rate'],\n",
       "      dtype='object')"
      ]
     },
     "execution_count": 275,
     "metadata": {},
     "output_type": "execute_result"
    }
   ],
   "source": [
    "# imprimindo colunas\n",
    "newdf.columns"
   ]
  },
  {
   "cell_type": "code",
   "execution_count": 276,
   "metadata": {},
   "outputs": [
    {
     "name": "stdout",
     "output_type": "stream",
     "text": [
      "                          contagem   preco_medio\n",
      "model                                           \n",
      "ford f150                     3083  13322.997729\n",
      "chevrolet silverado 1500      2028  14992.360947\n",
      "ram 1500                      1685  14194.288427\n",
      "chevrolet silverado           1115  13376.604484\n",
      "jeep wrangler                  995  15120.384925\n",
      "toyota camry                   955   7011.873298\n",
      "honda accord                   918   6582.574074\n",
      "ford explorer                  836  10359.098086\n",
      "ford escape                    834   8111.515588\n",
      "gmc sierra 1500                819  15295.588523\n"
     ]
    }
   ],
   "source": [
    "# Calcular o número de propagandas e o preço médio para cada modelo de veículo\n",
    "df_grouped = newdf.groupby('model').agg({'price': 'mean', 'model': 'count'})\n",
    "df_grouped.columns = ['preco_medio', 'contagem']\n",
    "\n",
    "# Criar a tabela pivot\n",
    "df_pivot = pd.pivot_table(df_grouped, index='model', values=['preco_medio', 'contagem'])\n",
    "\n",
    "# Ordenar os valores pela quantidade de propagandas de forma decrescente\n",
    "df_pivot = df_pivot.sort_values('contagem', ascending=False)\n",
    "\n",
    "# Selecionar os dez modelos com o maior número de propagandas\n",
    "df_top2 = df_pivot.head(10)\n",
    "\n",
    "# Imprimir o resultado\n",
    "print(df_top2)\n"
   ]
  },
  {
   "cell_type": "code",
   "execution_count": 277,
   "metadata": {},
   "outputs": [
    {
     "data": {
      "image/png": "[encoded data removed]",
      "text/plain": [
       "<Figure size 432x288 with 1 Axes>"
      ]
     },
     "metadata": {
      "needs_background": "light"
     },
     "output_type": "display_data"
    }
   ],
   "source": [
    "# Plot do gráfico de dependência de preço número de propagandas\n",
    "\n",
    "# Gerar o scatter plot\n",
    "ax = df_pivot.plot.scatter(x='contagem', y='preco_medio', color='blue')\n",
    "\n",
    "# Definir os rótulos dos eixos e o título do gráfico\n",
    "ax.set_xlabel('Número de propagandas')\n",
    "ax.set_ylabel('Preço médio')\n",
    "ax.set_title('Dependência entre propagandas e preço médio')\n",
    "\n",
    "# Exibir o gráfico\n",
    "plt.show()"
   ]
  },
  {
   "cell_type": "markdown",
   "metadata": {},
   "source": [
    "## Fatores de preço"
   ]
  },
  {
   "cell_type": "markdown",
   "metadata": {},
   "source": [
    "\n",
    "Iremos:\n",
    "\n",
    "Pegar cada um dos tipos populares que detectamos no estágio anterior e estudar se o preço depende da idade, quilometragem, condição, tipo de transmissão e cor. Para variáveis categóricas (tipo de transmissão e cor), vamos construir gráficos de extremos e quartis, e criar gráficos de dispersão para o restante. \n",
    "\n",
    "Ao analisar variáveis categóricas, vamos verificar que as categorias precisam ter pelo menos 50 propagandas; de outro modo, seus parâmetros não serão válidos para análise.\n",
    "\n",
    "Iremos gerar uma matriz de correlação para os dados e construir e também os gráficos de correlação para cada uma das variáveis não categóricas.\n",
    "\n",
    "Depois iremos trabalhar com as variáveis categóricas."
   ]
  },
  {
   "cell_type": "code",
   "execution_count": 278,
   "metadata": {
    "scrolled": true
   },
   "outputs": [
    {
     "data": {
      "text/html": [
       "<style  type=\"text/css\" >\n",
       "#T_0f26a_row0_col0,#T_0f26a_row1_col1,#T_0f26a_row2_col2,#T_0f26a_row3_col3,#T_0f26a_row3_col9,#T_0f26a_row4_col4,#T_0f26a_row5_col5,#T_0f26a_row6_col6,#T_0f26a_row7_col7,#T_0f26a_row8_col8,#T_0f26a_row9_col3,#T_0f26a_row9_col9,#T_0f26a_row10_col10{\n",
       "            background-color:  #b40426;\n",
       "            color:  #f1f1f1;\n",
       "        }#T_0f26a_row0_col1{\n",
       "            background-color:  #f08a6c;\n",
       "            color:  #000000;\n",
       "        }#T_0f26a_row0_col2,#T_0f26a_row8_col6{\n",
       "            background-color:  #c6d6f1;\n",
       "            color:  #000000;\n",
       "        }#T_0f26a_row0_col3,#T_0f26a_row0_col9{\n",
       "            background-color:  #5572df;\n",
       "            color:  #000000;\n",
       "        }#T_0f26a_row0_col4{\n",
       "            background-color:  #b1cbfc;\n",
       "            color:  #000000;\n",
       "        }#T_0f26a_row0_col5,#T_0f26a_row1_col5,#T_0f26a_row5_col4,#T_0f26a_row6_col4,#T_0f26a_row8_col5,#T_0f26a_row10_col5{\n",
       "            background-color:  #3d50c3;\n",
       "            color:  #f1f1f1;\n",
       "        }#T_0f26a_row0_col6,#T_0f26a_row3_col7,#T_0f26a_row5_col6,#T_0f26a_row9_col7{\n",
       "            background-color:  #cdd9ec;\n",
       "            color:  #000000;\n",
       "        }#T_0f26a_row0_col7,#T_0f26a_row5_col7{\n",
       "            background-color:  #d1dae9;\n",
       "            color:  #000000;\n",
       "        }#T_0f26a_row0_col8,#T_0f26a_row4_col10,#T_0f26a_row6_col10,#T_0f26a_row10_col3,#T_0f26a_row10_col9{\n",
       "            background-color:  #80a3fa;\n",
       "            color:  #000000;\n",
       "        }#T_0f26a_row0_col10{\n",
       "            background-color:  #b5cdfa;\n",
       "            color:  #000000;\n",
       "        }#T_0f26a_row1_col0{\n",
       "            background-color:  #f6a283;\n",
       "            color:  #000000;\n",
       "        }#T_0f26a_row1_col2,#T_0f26a_row1_col3,#T_0f26a_row1_col8,#T_0f26a_row1_col9,#T_0f26a_row3_col10,#T_0f26a_row6_col5,#T_0f26a_row6_col7,#T_0f26a_row7_col6,#T_0f26a_row8_col0,#T_0f26a_row8_col1,#T_0f26a_row8_col4,#T_0f26a_row8_col10,#T_0f26a_row9_col10,#T_0f26a_row10_col4{\n",
       "            background-color:  #3b4cc0;\n",
       "            color:  #f1f1f1;\n",
       "        }#T_0f26a_row1_col4,#T_0f26a_row2_col5,#T_0f26a_row3_col5,#T_0f26a_row4_col5,#T_0f26a_row9_col5{\n",
       "            background-color:  #3e51c5;\n",
       "            color:  #f1f1f1;\n",
       "        }#T_0f26a_row1_col6{\n",
       "            background-color:  #ccd9ed;\n",
       "            color:  #000000;\n",
       "        }#T_0f26a_row1_col7,#T_0f26a_row3_col6,#T_0f26a_row9_col6{\n",
       "            background-color:  #d2dbe8;\n",
       "            color:  #000000;\n",
       "        }#T_0f26a_row1_col10,#T_0f26a_row2_col1{\n",
       "            background-color:  #cad8ef;\n",
       "            color:  #000000;\n",
       "        }#T_0f26a_row2_col0{\n",
       "            background-color:  #efcfbf;\n",
       "            color:  #000000;\n",
       "        }#T_0f26a_row2_col3,#T_0f26a_row2_col9{\n",
       "            background-color:  #d5dbe5;\n",
       "            color:  #000000;\n",
       "        }#T_0f26a_row2_col4{\n",
       "            background-color:  #c4d5f3;\n",
       "            color:  #000000;\n",
       "        }#T_0f26a_row2_col6,#T_0f26a_row4_col6,#T_0f26a_row10_col7{\n",
       "            background-color:  #cfdaea;\n",
       "            color:  #000000;\n",
       "        }#T_0f26a_row2_col7,#T_0f26a_row4_col7,#T_0f26a_row10_col6{\n",
       "            background-color:  #cedaeb;\n",
       "            color:  #000000;\n",
       "        }#T_0f26a_row2_col8{\n",
       "            background-color:  #edd2c3;\n",
       "            color:  #000000;\n",
       "        }#T_0f26a_row2_col10{\n",
       "            background-color:  #688aef;\n",
       "            color:  #000000;\n",
       "        }#T_0f26a_row3_col0,#T_0f26a_row9_col0{\n",
       "            background-color:  #4e68d8;\n",
       "            color:  #000000;\n",
       "        }#T_0f26a_row3_col1,#T_0f26a_row9_col1{\n",
       "            background-color:  #799cf8;\n",
       "            color:  #000000;\n",
       "        }#T_0f26a_row3_col2,#T_0f26a_row9_col2{\n",
       "            background-color:  #8caffe;\n",
       "            color:  #000000;\n",
       "        }#T_0f26a_row3_col4,#T_0f26a_row9_col4{\n",
       "            background-color:  #4f69d9;\n",
       "            color:  #000000;\n",
       "        }#T_0f26a_row3_col8,#T_0f26a_row9_col8{\n",
       "            background-color:  #ec8165;\n",
       "            color:  #000000;\n",
       "        }#T_0f26a_row4_col0{\n",
       "            background-color:  #efcebd;\n",
       "            color:  #000000;\n",
       "        }#T_0f26a_row4_col1{\n",
       "            background-color:  #dddcdc;\n",
       "            color:  #000000;\n",
       "        }#T_0f26a_row4_col2{\n",
       "            background-color:  #d8dce2;\n",
       "            color:  #000000;\n",
       "        }#T_0f26a_row4_col3,#T_0f26a_row4_col9{\n",
       "            background-color:  #c5d6f2;\n",
       "            color:  #000000;\n",
       "        }#T_0f26a_row4_col8{\n",
       "            background-color:  #dbdcde;\n",
       "            color:  #000000;\n",
       "        }#T_0f26a_row5_col0,#T_0f26a_row10_col8{\n",
       "            background-color:  #b3cdfb;\n",
       "            color:  #000000;\n",
       "        }#T_0f26a_row5_col1,#T_0f26a_row5_col8{\n",
       "            background-color:  #dcdddd;\n",
       "            color:  #000000;\n",
       "        }#T_0f26a_row5_col2,#T_0f26a_row6_col2{\n",
       "            background-color:  #6180e9;\n",
       "            color:  #000000;\n",
       "        }#T_0f26a_row5_col3,#T_0f26a_row5_col9{\n",
       "            background-color:  #bbd1f8;\n",
       "            color:  #000000;\n",
       "        }#T_0f26a_row5_col10{\n",
       "            background-color:  #81a4fb;\n",
       "            color:  #000000;\n",
       "        }#T_0f26a_row6_col0{\n",
       "            background-color:  #b2ccfb;\n",
       "            color:  #000000;\n",
       "        }#T_0f26a_row6_col1,#T_0f26a_row8_col7{\n",
       "            background-color:  #dadce0;\n",
       "            color:  #000000;\n",
       "        }#T_0f26a_row6_col3,#T_0f26a_row6_col9{\n",
       "            background-color:  #bcd2f7;\n",
       "            color:  #000000;\n",
       "        }#T_0f26a_row6_col8{\n",
       "            background-color:  #d6dce4;\n",
       "            color:  #000000;\n",
       "        }#T_0f26a_row7_col0{\n",
       "            background-color:  #b6cefa;\n",
       "            color:  #000000;\n",
       "        }#T_0f26a_row7_col1{\n",
       "            background-color:  #dfdbd9;\n",
       "            color:  #000000;\n",
       "        }#T_0f26a_row7_col2{\n",
       "            background-color:  #5f7fe8;\n",
       "            color:  #000000;\n",
       "        }#T_0f26a_row7_col3,#T_0f26a_row7_col9{\n",
       "            background-color:  #b7cff9;\n",
       "            color:  #000000;\n",
       "        }#T_0f26a_row7_col4{\n",
       "            background-color:  #3c4ec2;\n",
       "            color:  #f1f1f1;\n",
       "        }#T_0f26a_row7_col5{\n",
       "            background-color:  #4055c8;\n",
       "            color:  #f1f1f1;\n",
       "        }#T_0f26a_row7_col8{\n",
       "            background-color:  #e5d8d1;\n",
       "            color:  #000000;\n",
       "        }#T_0f26a_row7_col10{\n",
       "            background-color:  #82a6fb;\n",
       "            color:  #000000;\n",
       "        }#T_0f26a_row8_col2{\n",
       "            background-color:  #89acfd;\n",
       "            color:  #000000;\n",
       "        }#T_0f26a_row8_col3,#T_0f26a_row8_col9{\n",
       "            background-color:  #f39577;\n",
       "            color:  #000000;\n",
       "        }#T_0f26a_row10_col0{\n",
       "            background-color:  #d9dce1;\n",
       "            color:  #000000;\n",
       "        }#T_0f26a_row10_col1{\n",
       "            background-color:  #f5c0a7;\n",
       "            color:  #000000;\n",
       "        }#T_0f26a_row10_col2{\n",
       "            background-color:  #485fd1;\n",
       "            color:  #f1f1f1;\n",
       "        }</style><table id=\"T_0f26a_\" ><thead>    <tr>        <th class=\"blank level0\" ></th>        <th class=\"col_heading level0 col0\" >price</th>        <th class=\"col_heading level0 col1\" >model_year</th>        <th class=\"col_heading level0 col2\" >cylinders</th>        <th class=\"col_heading level0 col3\" >odometer</th>        <th class=\"col_heading level0 col4\" >is_4wd</th>        <th class=\"col_heading level0 col5\" >days_listed</th>        <th class=\"col_heading level0 col6\" >mes</th>        <th class=\"col_heading level0 col7\" >ano</th>        <th class=\"col_heading level0 col8\" >idade_carro</th>        <th class=\"col_heading level0 col9\" >quilometragem_media</th>        <th class=\"col_heading level0 col10\" >condition_rate</th>    </tr></thead><tbody>\n",
       "                <tr>\n",
       "                        <th id=\"T_0f26a_level0_row0\" class=\"row_heading level0 row0\" >price</th>\n",
       "                        <td id=\"T_0f26a_row0_col0\" class=\"data row0 col0\" >1.000000</td>\n",
       "                        <td id=\"T_0f26a_row0_col1\" class=\"data row0 col1\" >0.575005</td>\n",
       "                        <td id=\"T_0f26a_row0_col2\" class=\"data row0 col2\" >0.339942</td>\n",
       "                        <td id=\"T_0f26a_row0_col3\" class=\"data row0 col3\" >-0.470808</td>\n",
       "                        <td id=\"T_0f26a_row0_col4\" class=\"data row0 col4\" >0.348444</td>\n",
       "                        <td id=\"T_0f26a_row0_col5\" class=\"data row0 col5\" >-0.002022</td>\n",
       "                        <td id=\"T_0f26a_row0_col6\" class=\"data row0 col6\" >-0.010304</td>\n",
       "                        <td id=\"T_0f26a_row0_col7\" class=\"data row0 col7\" >0.008641</td>\n",
       "                        <td id=\"T_0f26a_row0_col8\" class=\"data row0 col8\" >-0.572913</td>\n",
       "                        <td id=\"T_0f26a_row0_col9\" class=\"data row0 col9\" >-0.470808</td>\n",
       "                        <td id=\"T_0f26a_row0_col10\" class=\"data row0 col10\" >0.190332</td>\n",
       "            </tr>\n",
       "            <tr>\n",
       "                        <th id=\"T_0f26a_level0_row1\" class=\"row_heading level0 row1\" >model_year</th>\n",
       "                        <td id=\"T_0f26a_row1_col0\" class=\"data row1 col0\" >0.575005</td>\n",
       "                        <td id=\"T_0f26a_row1_col1\" class=\"data row1 col1\" >1.000000</td>\n",
       "                        <td id=\"T_0f26a_row1_col2\" class=\"data row1 col2\" >-0.137192</td>\n",
       "                        <td id=\"T_0f26a_row1_col3\" class=\"data row1 col3\" >-0.612692</td>\n",
       "                        <td id=\"T_0f26a_row1_col4\" class=\"data row1 col4\" >0.006856</td>\n",
       "                        <td id=\"T_0f26a_row1_col5\" class=\"data row1 col5\" >-0.000567</td>\n",
       "                        <td id=\"T_0f26a_row1_col6\" class=\"data row1 col6\" >-0.019691</td>\n",
       "                        <td id=\"T_0f26a_row1_col7\" class=\"data row1 col7\" >0.018077</td>\n",
       "                        <td id=\"T_0f26a_row1_col8\" class=\"data row1 col8\" >-0.996092</td>\n",
       "                        <td id=\"T_0f26a_row1_col9\" class=\"data row1 col9\" >-0.612692</td>\n",
       "                        <td id=\"T_0f26a_row1_col10\" class=\"data row1 col10\" >0.275283</td>\n",
       "            </tr>\n",
       "            <tr>\n",
       "                        <th id=\"T_0f26a_level0_row2\" class=\"row_heading level0 row2\" >cylinders</th>\n",
       "                        <td id=\"T_0f26a_row2_col0\" class=\"data row2 col0\" >0.339942</td>\n",
       "                        <td id=\"T_0f26a_row2_col1\" class=\"data row2 col1\" >-0.137192</td>\n",
       "                        <td id=\"T_0f26a_row2_col2\" class=\"data row2 col2\" >1.000000</td>\n",
       "                        <td id=\"T_0f26a_row2_col3\" class=\"data row2 col3\" >0.145182</td>\n",
       "                        <td id=\"T_0f26a_row2_col4\" class=\"data row2 col4\" >0.409449</td>\n",
       "                        <td id=\"T_0f26a_row2_col5\" class=\"data row2 col5\" >0.002110</td>\n",
       "                        <td id=\"T_0f26a_row2_col6\" class=\"data row2 col6\" >0.002107</td>\n",
       "                        <td id=\"T_0f26a_row2_col7\" class=\"data row2 col7\" >-0.002459</td>\n",
       "                        <td id=\"T_0f26a_row2_col8\" class=\"data row2 col8\" >0.136657</td>\n",
       "                        <td id=\"T_0f26a_row2_col9\" class=\"data row2 col9\" >0.145182</td>\n",
       "                        <td id=\"T_0f26a_row2_col10\" class=\"data row2 col10\" >-0.087601</td>\n",
       "            </tr>\n",
       "            <tr>\n",
       "                        <th id=\"T_0f26a_level0_row3\" class=\"row_heading level0 row3\" >odometer</th>\n",
       "                        <td id=\"T_0f26a_row3_col0\" class=\"data row3 col0\" >-0.470808</td>\n",
       "                        <td id=\"T_0f26a_row3_col1\" class=\"data row3 col1\" >-0.612692</td>\n",
       "                        <td id=\"T_0f26a_row3_col2\" class=\"data row3 col2\" >0.145182</td>\n",
       "                        <td id=\"T_0f26a_row3_col3\" class=\"data row3 col3\" >1.000000</td>\n",
       "                        <td id=\"T_0f26a_row3_col4\" class=\"data row3 col4\" >0.060941</td>\n",
       "                        <td id=\"T_0f26a_row3_col5\" class=\"data row3 col5\" >0.004790</td>\n",
       "                        <td id=\"T_0f26a_row3_col6\" class=\"data row3 col6\" >0.015646</td>\n",
       "                        <td id=\"T_0f26a_row3_col7\" class=\"data row3 col7\" >-0.011656</td>\n",
       "                        <td id=\"T_0f26a_row3_col8\" class=\"data row3 col8\" >0.610247</td>\n",
       "                        <td id=\"T_0f26a_row3_col9\" class=\"data row3 col9\" >1.000000</td>\n",
       "                        <td id=\"T_0f26a_row3_col10\" class=\"data row3 col10\" >-0.269460</td>\n",
       "            </tr>\n",
       "            <tr>\n",
       "                        <th id=\"T_0f26a_level0_row4\" class=\"row_heading level0 row4\" >is_4wd</th>\n",
       "                        <td id=\"T_0f26a_row4_col0\" class=\"data row4 col0\" >0.348444</td>\n",
       "                        <td id=\"T_0f26a_row4_col1\" class=\"data row4 col1\" >0.006856</td>\n",
       "                        <td id=\"T_0f26a_row4_col2\" class=\"data row4 col2\" >0.409449</td>\n",
       "                        <td id=\"T_0f26a_row4_col3\" class=\"data row4 col3\" >0.060941</td>\n",
       "                        <td id=\"T_0f26a_row4_col4\" class=\"data row4 col4\" >1.000000</td>\n",
       "                        <td id=\"T_0f26a_row4_col5\" class=\"data row4 col5\" >0.003361</td>\n",
       "                        <td id=\"T_0f26a_row4_col6\" class=\"data row4 col6\" >0.003756</td>\n",
       "                        <td id=\"T_0f26a_row4_col7\" class=\"data row4 col7\" >-0.002626</td>\n",
       "                        <td id=\"T_0f26a_row4_col8\" class=\"data row4 col8\" >-0.007073</td>\n",
       "                        <td id=\"T_0f26a_row4_col9\" class=\"data row4 col9\" >0.060941</td>\n",
       "                        <td id=\"T_0f26a_row4_col10\" class=\"data row4 col10\" >-0.003310</td>\n",
       "            </tr>\n",
       "            <tr>\n",
       "                        <th id=\"T_0f26a_level0_row5\" class=\"row_heading level0 row5\" >days_listed</th>\n",
       "                        <td id=\"T_0f26a_row5_col0\" class=\"data row5 col0\" >-0.002022</td>\n",
       "                        <td id=\"T_0f26a_row5_col1\" class=\"data row5 col1\" >-0.000567</td>\n",
       "                        <td id=\"T_0f26a_row5_col2\" class=\"data row5 col2\" >0.002110</td>\n",
       "                        <td id=\"T_0f26a_row5_col3\" class=\"data row5 col3\" >0.004790</td>\n",
       "                        <td id=\"T_0f26a_row5_col4\" class=\"data row5 col4\" >0.003361</td>\n",
       "                        <td id=\"T_0f26a_row5_col5\" class=\"data row5 col5\" >1.000000</td>\n",
       "                        <td id=\"T_0f26a_row5_col6\" class=\"data row5 col6\" >-0.010275</td>\n",
       "                        <td id=\"T_0f26a_row5_col7\" class=\"data row5 col7\" >0.009921</td>\n",
       "                        <td id=\"T_0f26a_row5_col8\" class=\"data row5 col8\" >0.001442</td>\n",
       "                        <td id=\"T_0f26a_row5_col9\" class=\"data row5 col9\" >0.004790</td>\n",
       "                        <td id=\"T_0f26a_row5_col10\" class=\"data row5 col10\" >0.000360</td>\n",
       "            </tr>\n",
       "            <tr>\n",
       "                        <th id=\"T_0f26a_level0_row6\" class=\"row_heading level0 row6\" >mes</th>\n",
       "                        <td id=\"T_0f26a_row6_col0\" class=\"data row6 col0\" >-0.010304</td>\n",
       "                        <td id=\"T_0f26a_row6_col1\" class=\"data row6 col1\" >-0.019691</td>\n",
       "                        <td id=\"T_0f26a_row6_col2\" class=\"data row6 col2\" >0.002107</td>\n",
       "                        <td id=\"T_0f26a_row6_col3\" class=\"data row6 col3\" >0.015646</td>\n",
       "                        <td id=\"T_0f26a_row6_col4\" class=\"data row6 col4\" >0.003756</td>\n",
       "                        <td id=\"T_0f26a_row6_col5\" class=\"data row6 col5\" >-0.010275</td>\n",
       "                        <td id=\"T_0f26a_row6_col6\" class=\"data row6 col6\" >1.000000</td>\n",
       "                        <td id=\"T_0f26a_row6_col7\" class=\"data row6 col7\" >-0.817393</td>\n",
       "                        <td id=\"T_0f26a_row6_col8\" class=\"data row6 col8\" >-0.052555</td>\n",
       "                        <td id=\"T_0f26a_row6_col9\" class=\"data row6 col9\" >0.015646</td>\n",
       "                        <td id=\"T_0f26a_row6_col10\" class=\"data row6 col10\" >-0.004342</td>\n",
       "            </tr>\n",
       "            <tr>\n",
       "                        <th id=\"T_0f26a_level0_row7\" class=\"row_heading level0 row7\" >ano</th>\n",
       "                        <td id=\"T_0f26a_row7_col0\" class=\"data row7 col0\" >0.008641</td>\n",
       "                        <td id=\"T_0f26a_row7_col1\" class=\"data row7 col1\" >0.018077</td>\n",
       "                        <td id=\"T_0f26a_row7_col2\" class=\"data row7 col2\" >-0.002459</td>\n",
       "                        <td id=\"T_0f26a_row7_col3\" class=\"data row7 col3\" >-0.011656</td>\n",
       "                        <td id=\"T_0f26a_row7_col4\" class=\"data row7 col4\" >-0.002626</td>\n",
       "                        <td id=\"T_0f26a_row7_col5\" class=\"data row7 col5\" >0.009921</td>\n",
       "                        <td id=\"T_0f26a_row7_col6\" class=\"data row7 col6\" >-0.817393</td>\n",
       "                        <td id=\"T_0f26a_row7_col7\" class=\"data row7 col7\" >1.000000</td>\n",
       "                        <td id=\"T_0f26a_row7_col8\" class=\"data row7 col8\" >0.070295</td>\n",
       "                        <td id=\"T_0f26a_row7_col9\" class=\"data row7 col9\" >-0.011656</td>\n",
       "                        <td id=\"T_0f26a_row7_col10\" class=\"data row7 col10\" >0.005649</td>\n",
       "            </tr>\n",
       "            <tr>\n",
       "                        <th id=\"T_0f26a_level0_row8\" class=\"row_heading level0 row8\" >idade_carro</th>\n",
       "                        <td id=\"T_0f26a_row8_col0\" class=\"data row8 col0\" >-0.572913</td>\n",
       "                        <td id=\"T_0f26a_row8_col1\" class=\"data row8 col1\" >-0.996092</td>\n",
       "                        <td id=\"T_0f26a_row8_col2\" class=\"data row8 col2\" >0.136657</td>\n",
       "                        <td id=\"T_0f26a_row8_col3\" class=\"data row8 col3\" >0.610247</td>\n",
       "                        <td id=\"T_0f26a_row8_col4\" class=\"data row8 col4\" >-0.007073</td>\n",
       "                        <td id=\"T_0f26a_row8_col5\" class=\"data row8 col5\" >0.001442</td>\n",
       "                        <td id=\"T_0f26a_row8_col6\" class=\"data row8 col6\" >-0.052555</td>\n",
       "                        <td id=\"T_0f26a_row8_col7\" class=\"data row8 col7\" >0.070295</td>\n",
       "                        <td id=\"T_0f26a_row8_col8\" class=\"data row8 col8\" >1.000000</td>\n",
       "                        <td id=\"T_0f26a_row8_col9\" class=\"data row8 col9\" >0.610247</td>\n",
       "                        <td id=\"T_0f26a_row8_col10\" class=\"data row8 col10\" >-0.274148</td>\n",
       "            </tr>\n",
       "            <tr>\n",
       "                        <th id=\"T_0f26a_level0_row9\" class=\"row_heading level0 row9\" >quilometragem_media</th>\n",
       "                        <td id=\"T_0f26a_row9_col0\" class=\"data row9 col0\" >-0.470808</td>\n",
       "                        <td id=\"T_0f26a_row9_col1\" class=\"data row9 col1\" >-0.612692</td>\n",
       "                        <td id=\"T_0f26a_row9_col2\" class=\"data row9 col2\" >0.145182</td>\n",
       "                        <td id=\"T_0f26a_row9_col3\" class=\"data row9 col3\" >1.000000</td>\n",
       "                        <td id=\"T_0f26a_row9_col4\" class=\"data row9 col4\" >0.060941</td>\n",
       "                        <td id=\"T_0f26a_row9_col5\" class=\"data row9 col5\" >0.004790</td>\n",
       "                        <td id=\"T_0f26a_row9_col6\" class=\"data row9 col6\" >0.015646</td>\n",
       "                        <td id=\"T_0f26a_row9_col7\" class=\"data row9 col7\" >-0.011656</td>\n",
       "                        <td id=\"T_0f26a_row9_col8\" class=\"data row9 col8\" >0.610247</td>\n",
       "                        <td id=\"T_0f26a_row9_col9\" class=\"data row9 col9\" >1.000000</td>\n",
       "                        <td id=\"T_0f26a_row9_col10\" class=\"data row9 col10\" >-0.269460</td>\n",
       "            </tr>\n",
       "            <tr>\n",
       "                        <th id=\"T_0f26a_level0_row10\" class=\"row_heading level0 row10\" >condition_rate</th>\n",
       "                        <td id=\"T_0f26a_row10_col0\" class=\"data row10 col0\" >0.190332</td>\n",
       "                        <td id=\"T_0f26a_row10_col1\" class=\"data row10 col1\" >0.275283</td>\n",
       "                        <td id=\"T_0f26a_row10_col2\" class=\"data row10 col2\" >-0.087601</td>\n",
       "                        <td id=\"T_0f26a_row10_col3\" class=\"data row10 col3\" >-0.269460</td>\n",
       "                        <td id=\"T_0f26a_row10_col4\" class=\"data row10 col4\" >-0.003310</td>\n",
       "                        <td id=\"T_0f26a_row10_col5\" class=\"data row10 col5\" >0.000360</td>\n",
       "                        <td id=\"T_0f26a_row10_col6\" class=\"data row10 col6\" >-0.004342</td>\n",
       "                        <td id=\"T_0f26a_row10_col7\" class=\"data row10 col7\" >0.005649</td>\n",
       "                        <td id=\"T_0f26a_row10_col8\" class=\"data row10 col8\" >-0.274148</td>\n",
       "                        <td id=\"T_0f26a_row10_col9\" class=\"data row10 col9\" >-0.269460</td>\n",
       "                        <td id=\"T_0f26a_row10_col10\" class=\"data row10 col10\" >1.000000</td>\n",
       "            </tr>\n",
       "    </tbody></table>"
      ],
      "text/plain": [
       "<pandas.io.formats.style.Styler at 0x7f65edd9fb80>"
      ]
     },
     "execution_count": 278,
     "metadata": {},
     "output_type": "execute_result"
    }
   ],
   "source": [
    "# Criar matriz de correlação de dados em newdf\n",
    "newdf.corr().style.background_gradient(cmap='coolwarm')"
   ]
  },
  {
   "cell_type": "code",
   "execution_count": 279,
   "metadata": {},
   "outputs": [],
   "source": [
    "# Função de gráfico de correlação\n",
    "\n",
    "def graph_corr(df, colA, colB):\n",
    "    return df.plot(x=colA, y=colB, kind='hexbin', gridsize=20, figsize=(8, 6), sharex=False, grid=True)"
   ]
  },
  {
   "cell_type": "code",
   "execution_count": 280,
   "metadata": {},
   "outputs": [
    {
     "data": {
      "text/plain": [
       "<AxesSubplot:xlabel='price', ylabel='idade_carro'>"
      ]
     },
     "execution_count": 280,
     "metadata": {},
     "output_type": "execute_result"
    },
    {
     "data": {
      "image/png": "[encoded data removed]",
      "text/plain": [
       "<Figure size 576x432 with 2 Axes>"
      ]
     },
     "metadata": {
      "needs_background": "light"
     },
     "output_type": "display_data"
    }
   ],
   "source": [
    "# Gráfico entre preço e idade do carro\n",
    "graph_corr(newdf,'price','idade_carro')"
   ]
  },
  {
   "cell_type": "code",
   "execution_count": 281,
   "metadata": {},
   "outputs": [
    {
     "data": {
      "text/plain": [
       "<AxesSubplot:xlabel='price', ylabel='model_year'>"
      ]
     },
     "execution_count": 281,
     "metadata": {},
     "output_type": "execute_result"
    },
    {
     "data": {
      "image/png": "[encoded data removed]",
      "text/plain": [
       "<Figure size 576x432 with 2 Axes>"
      ]
     },
     "metadata": {
      "needs_background": "light"
     },
     "output_type": "display_data"
    }
   ],
   "source": [
    "# Gráfico entre preço e ano modelo\n",
    "graph_corr(newdf,'price','model_year')"
   ]
  },
  {
   "cell_type": "code",
   "execution_count": 282,
   "metadata": {},
   "outputs": [
    {
     "data": {
      "text/plain": [
       "<AxesSubplot:xlabel='price', ylabel='odometer'>"
      ]
     },
     "execution_count": 282,
     "metadata": {},
     "output_type": "execute_result"
    },
    {
     "data": {
      "image/png": "[encoded data removed]",
      "text/plain": [
       "<Figure size 576x432 with 2 Axes>"
      ]
     },
     "metadata": {
      "needs_background": "light"
     },
     "output_type": "display_data"
    }
   ],
   "source": [
    "# Gráfico entre preço e quilometragem\n",
    "graph_corr(newdf,'price','odometer')"
   ]
  },
  {
   "cell_type": "code",
   "execution_count": 283,
   "metadata": {},
   "outputs": [
    {
     "data": {
      "text/plain": [
       "<AxesSubplot:xlabel='price', ylabel='condition_rate'>"
      ]
     },
     "execution_count": 283,
     "metadata": {},
     "output_type": "execute_result"
    },
    {
     "data": {
      "image/png": "[encoded data removed]",
      "text/plain": [
       "<Figure size 576x432 with 2 Axes>"
      ]
     },
     "metadata": {
      "needs_background": "light"
     },
     "output_type": "display_data"
    }
   ],
   "source": [
    "# Gráfico entre preço e condição\n",
    "graph_corr(newdf,'price','condition_rate')"
   ]
  },
  {
   "cell_type": "markdown",
   "metadata": {},
   "source": [
    "Agora iremos realizar análise para as variáveis categóricas.\n",
    "\n",
    "Iremos criar gráficos do tipo boxplot para as variáveis categóricas - transmissão e cor.\n",
    "\n",
    "Iremos filtrar por pela contagem total das cores e tramissão que tenham > 50 na contagem total por categoria"
   ]
  },
  {
   "cell_type": "code",
   "execution_count": 284,
   "metadata": {},
   "outputs": [],
   "source": [
    "# Criar df filtrada para transmissão e cor que apareçam mais de 50 vezes na contagem total.\n",
    "\n",
    "# df filtrada de cor\n",
    "\n",
    "# Obter contagem dos valores únicos na coluna 'coluna_filtrada'\n",
    "count_values = df['paint_color'].value_counts()\n",
    "\n",
    "# Selecionar somente os valores que aparecem mais de 50 vezes\n",
    "values_over_50 = count_values[count_values > 50].index\n",
    "\n",
    "# Filtrar DataFrame para conter somente linhas com valores selecionados\n",
    "paint_df = df[df['paint_color'].isin(values_over_50)]\n",
    "\n",
    "\n",
    "# df filtrada de transmissão\n",
    "\n",
    "# Obter contagem dos valores únicos na coluna 'coluna_filtrada'\n",
    "count_values = df['transmission'].value_counts()\n",
    "\n",
    "# Selecionar somente os valores que aparecem mais de 50 vezes\n",
    "values_over_50 = count_values[count_values > 50].index\n",
    "\n",
    "# Filtrar DataFrame para conter somente linhas com valores selecionados\n",
    "transmission_df = df[df['transmission'].isin(values_over_50)]"
   ]
  },
  {
   "cell_type": "code",
   "execution_count": 285,
   "metadata": {},
   "outputs": [
    {
     "data": {
      "text/plain": [
       "<AxesSubplot:title={'center':'price'}, xlabel='paint_color'>"
      ]
     },
     "execution_count": 285,
     "metadata": {},
     "output_type": "execute_result"
    },
    {
     "data": {
      "image/png": "[encoded data removed]",
      "text/plain": [
       "<Figure size 432x288 with 1 Axes>"
      ]
     },
     "metadata": {
      "needs_background": "light"
     },
     "output_type": "display_data"
    }
   ],
   "source": [
    "# Gráfico tipo boxplot para df filtrada de cor\n",
    "\n",
    "paint_df.boxplot(column='price', by='paint_color')"
   ]
  },
  {
   "cell_type": "code",
   "execution_count": 286,
   "metadata": {},
   "outputs": [
    {
     "data": {
      "text/plain": [
       "<AxesSubplot:title={'center':'price'}, xlabel='transmission'>"
      ]
     },
     "execution_count": 286,
     "metadata": {},
     "output_type": "execute_result"
    },
    {
     "data": {
      "image/png": "[encoded data removed]",
      "text/plain": [
       "<Figure size 432x288 with 1 Axes>"
      ]
     },
     "metadata": {
      "needs_background": "light"
     },
     "output_type": "display_data"
    }
   ],
   "source": [
    "# Gráfico tipo boxplot para df filtrada de transmissão\n",
    "\n",
    "paint_df.boxplot(column='price', by='transmission')"
   ]
  },
  {
   "cell_type": "markdown",
   "metadata": {},
   "source": [
    "## Conclusão geral\n",
    "\n",
    "Primeiramente acerca das relações testadas temos que:\n",
    "\n",
    "    Estudamos o seguinte:\n",
    "\n",
    "1) Os parâmetros idade do veículo, quilometragem, número de cilindros e condição tem correlação com o preço.\n",
    "2) Valores atípicos nas colunas, usando o método de boxplot, a média, mediana, moda, desvios e bigodes.\n",
    "3) A quantidade de dias que as propagandas ficaram no ar, com média, mediana, moda e desvios.\n",
    "4) Número de propagandas por tipo de carro e média de preço. Dependência entre as propagandas e o preço médio.\n",
    "\n",
    "* E os fatores que mais afetaram o preço.\n",
    "    \n",
    "Depois de estudar os dados, nós concluímos:\n",
    "\n",
    "* A maior correlação é entre o preço do carro e a idade do carro. Pelo gráfico de correlação e a matrix gerada podemos ver que é uma relação negativa, ou seja, quanto menor a idade do carro maior o preço do carro. Isso faz sentido, uma vez que quanto mais novo o carro mais caro será.\n",
    "\n",
    "* A correlação entre a quilometragem e o preço também é importante e, também, é de maneira negativa. Ou seja, maior a quilometragem menor o preço do carro. Também faz sentido, assim quanto mais usado maior a depreciação do bem.\n",
    "\n",
    "* A condição do carro não tem uma correlação tão forte, podemos ver na matriz e pelo gráfico de correlação, visto que os dados gerados não são centrais e estão espaçados. \n",
    "\n",
    "* Acerca dos dados categóricos para a transmissão é possível ver que a transmissão automática tem valores mais altos do que manual. Podemos ver pela mediana dos dados e também pelo tamanho da caixa gerada. A cor do carro tem caixas muito parecidas na mediana, mas podemos observar que os carros amarelos, laranja e brancos tem a mediana de preços maiores que os demais.\n",
    "\n",
    "* A média de tempo das propagandas é de 40 dias, aproximadamente. A mediana 33 dias e a o valor mais comum de exibição das propagandas é de 18 dias.\n",
    "\n",
    "* Para os valores atípicos realizamos a criação de gráficos do tipo boxplot e calculamos os bigodes. Retiramos os dados fora do bigode superior. Os dados que tinham valores atípicos eram do preço, idade do carro e a condição. Os cilindros corrigimos inicialmente na parte de processamento de dados. Após a retirada dos dados atípicos pudemos observar que geramos gráficos de distribuição em histograma mais normalizados ou seja as curvas tiveram mais características de onda.\n",
    "\n",
    "* Os tipos de carros com mais número de propagandas são a ford f150 e Chevrolet Silverado 1500. A ford f150 tem quase 30% a mais propagandas que o segundo colocado no ranking. Pelo gráfico gerado de dependência do preço pelo número de propagandas é possível ver que a maior parte dos carros tem número de propagandas menor que 1000.  O preço para esse grupo é normalmente menor que $12k.\n",
    "\n",
    "* No gráfico de dependência podemos ver que os grupos com mais propagandas são os que tem preço mediano em todos os dados. Os carros com maiores preços são os que aparecem menos. Ou seja, quanto maior o preço do carro menor a tendência de propagandas.\n",
    "\n",
    "\n",
    "Acerca do processamento de dados:\n",
    "\n",
    "É possível observar que a parte mais árdua e importante do processo de análise de dados é o pré-processamento e processamento de dados, pois podemos ter uma visão errônea no teste final. Neste caso tivemos uma grande quantidade de valores ausentes em várias colunas. Realizamos testes para analisar a viabilidade de substituição de valores, pois se excluíssemos todos os valores teríamos uma base de dados muito menor do que a inicial.\n",
    "\n",
    "Realizamos substituições em model_year, pelo data do veículo. Iteramos sobre todos os valores do ano e substituímos os valores por grupos de preços. Fizemos isso utilizando os desvios padrão por ano e substituímos pelo valor que estava dentro deste grupo.\n",
    "\n",
    "Para as cilindradas trabalhamos com valores que eram mais lógicos e retiramos valores que não faziam sentido. Para a coluna de quilometragem realizamos o mesmo método que em model_year e limpamos os dados. \n",
    "\n",
    "A coluna de cor acabamos não substituindo dados, pois como é um dado categorizado e de maneira muito aleatória poderíamos trazer erros muito grandes para nossas análises finais. Substituímos os valores inexistentes por ‘unknown’.\n",
    "\n",
    "A coluna is_4wd era do tipo booleano e estava de maneira errada, substituímos valores nulos por 0.\n",
    "\n",
    "Corrigimos os dados em todas as colunas e retiramos dados duplicatas implícitos. A coluna model possuía várias duplicatas implícitas e se não tivéssemos feito as correções nossas analises finais teriam sido afetadas.\n",
    "\n",
    "A coluna de data foi alterada pra datetime.\n",
    "\n",
    "Enriquecemos os dados adicionado valores para os dados categorizados como notas de 0-5 para o estado do carro. Criamos colunas somente para mas e anos e a média de quilometragem por ano.\n",
    "\n",
    "No final pudemos ver que o processo até a análise exploração de dados pode ser extensa e é uma das mais delicadas, pois afeta todo o futuro da análise. \n",
    "\n",
    "A análise de exploração dos dados é de extrema importância para entendimento do comportamento dos dados que vamos trabalhar e sem ela poderemos arrastar erros. As análises boxplot, histograma e distribuição se fazem muito importante assim como a matriz de correlação."
   ]
  }
 ],
 "metadata": {
  "ExecuteTimeLog": [
   {
    "duration": 828,
    "start_time": "2021-11-16T09:21:11.304Z"
   },
   {
    "duration": 893,
    "start_time": "2021-11-16T09:21:17.728Z"
   },
   {
    "duration": 1150,
    "start_time": "2021-11-16T09:21:29.568Z"
   },
   {
    "duration": 3,
    "start_time": "2021-11-16T09:24:14.495Z"
   },
   {
    "duration": 120,
    "start_time": "2021-11-16T09:24:46.630Z"
   },
   {
    "duration": 3,
    "start_time": "2021-11-16T09:28:27.882Z"
   },
   {
    "duration": 4,
    "start_time": "2021-11-16T09:29:54.281Z"
   },
   {
    "duration": 3,
    "start_time": "2021-11-16T09:30:45.936Z"
   },
   {
    "duration": 4,
    "start_time": "2021-11-16T09:31:06.300Z"
   },
   {
    "duration": 113,
    "start_time": "2021-11-16T09:31:37.208Z"
   },
   {
    "duration": 143,
    "start_time": "2021-11-16T09:31:48.656Z"
   },
   {
    "duration": 98,
    "start_time": "2021-11-16T09:31:55.678Z"
   },
   {
    "duration": 3,
    "start_time": "2021-11-16T09:32:08.535Z"
   },
   {
    "duration": 111,
    "start_time": "2021-11-16T09:32:10.120Z"
   },
   {
    "duration": 3,
    "start_time": "2021-11-16T09:32:15.732Z"
   },
   {
    "duration": 4,
    "start_time": "2021-11-16T09:32:29.423Z"
   },
   {
    "duration": 3,
    "start_time": "2021-11-16T10:03:03.074Z"
   },
   {
    "duration": 3,
    "start_time": "2021-11-16T10:10:01.288Z"
   },
   {
    "duration": 3,
    "start_time": "2021-11-16T10:10:46.923Z"
   },
   {
    "duration": 121,
    "start_time": "2021-11-16T10:37:46.494Z"
   },
   {
    "duration": 125,
    "start_time": "2021-11-16T10:38:20.632Z"
   },
   {
    "duration": 112,
    "start_time": "2021-11-16T10:46:53.001Z"
   },
   {
    "duration": 110,
    "start_time": "2021-11-16T10:48:25.775Z"
   },
   {
    "duration": 3,
    "start_time": "2021-11-16T10:50:18.720Z"
   },
   {
    "duration": 4,
    "start_time": "2021-11-16T10:50:37.649Z"
   },
   {
    "duration": 2,
    "start_time": "2021-11-16T10:50:51.884Z"
   },
   {
    "duration": 3,
    "start_time": "2021-11-16T10:51:56.237Z"
   },
   {
    "duration": 101,
    "start_time": "2021-11-16T10:53:13.791Z"
   },
   {
    "duration": 3,
    "start_time": "2021-11-16T10:55:59.186Z"
   },
   {
    "duration": 3,
    "start_time": "2021-11-16T10:56:10.751Z"
   },
   {
    "duration": 3,
    "start_time": "2021-11-16T10:56:49.038Z"
   },
   {
    "duration": 3,
    "start_time": "2021-11-16T10:56:49.174Z"
   },
   {
    "duration": 4,
    "start_time": "2021-11-16T10:56:49.414Z"
   },
   {
    "duration": 3,
    "start_time": "2021-11-16T10:56:49.680Z"
   },
   {
    "duration": 3,
    "start_time": "2021-11-16T10:56:50.370Z"
   },
   {
    "duration": 114,
    "start_time": "2021-11-16T10:59:34.518Z"
   },
   {
    "duration": 3,
    "start_time": "2021-11-16T11:01:41.201Z"
   },
   {
    "duration": 116,
    "start_time": "2021-11-16T11:01:48.754Z"
   },
   {
    "duration": 3,
    "start_time": "2021-11-16T11:02:16.685Z"
   },
   {
    "duration": 3,
    "start_time": "2021-11-16T11:02:19.479Z"
   },
   {
    "duration": 3,
    "start_time": "2021-11-16T11:02:47.067Z"
   },
   {
    "duration": 3,
    "start_time": "2021-11-16T11:02:49.353Z"
   },
   {
    "duration": 3,
    "start_time": "2021-11-16T11:03:07.835Z"
   },
   {
    "duration": 3,
    "start_time": "2021-11-16T11:03:07.953Z"
   },
   {
    "duration": 112,
    "start_time": "2021-11-16T11:07:52.072Z"
   },
   {
    "duration": 187,
    "start_time": "2021-11-16T11:09:23.468Z"
   },
   {
    "duration": 4,
    "start_time": "2021-11-16T11:10:01.455Z"
   },
   {
    "duration": 3,
    "start_time": "2021-11-16T11:10:05.069Z"
   },
   {
    "duration": 4,
    "start_time": "2021-11-16T11:10:13.376Z"
   },
   {
    "duration": 3,
    "start_time": "2021-11-16T11:10:14.434Z"
   },
   {
    "duration": 3,
    "start_time": "2021-11-16T11:10:22.853Z"
   },
   {
    "duration": 4,
    "start_time": "2021-11-16T11:27:29.279Z"
   },
   {
    "duration": 4,
    "start_time": "2021-11-16T11:29:08.919Z"
   },
   {
    "duration": 118,
    "start_time": "2021-11-16T11:29:46.703Z"
   },
   {
    "duration": 437,
    "start_time": "2021-11-16T11:36:02.181Z"
   },
   {
    "duration": 157,
    "start_time": "2021-11-16T11:36:14.388Z"
   },
   {
    "duration": 207,
    "start_time": "2021-11-16T11:47:15.898Z"
   },
   {
    "duration": 3,
    "start_time": "2021-11-16T11:53:52.092Z"
   },
   {
    "duration": 3,
    "start_time": "2021-11-16T11:53:52.236Z"
   },
   {
    "duration": 3,
    "start_time": "2021-11-16T11:59:12.005Z"
   },
   {
    "duration": 112,
    "start_time": "2021-11-16T12:00:33.446Z"
   },
   {
    "duration": 3,
    "start_time": "2021-11-16T12:02:14.453Z"
   },
   {
    "duration": 3,
    "start_time": "2021-11-16T12:02:39.512Z"
   },
   {
    "duration": 106,
    "start_time": "2021-11-16T12:03:03.460Z"
   }
  ],
  "kernelspec": {
   "display_name": "Python 3",
   "language": "python",
   "name": "python3"
  },
  "language_info": {
   "codemirror_mode": {
    "name": "ipython",
    "version": 3
   },
   "file_extension": ".py",
   "mimetype": "text/x-python",
   "name": "python",
   "nbconvert_exporter": "python",
   "pygments_lexer": "ipython3",
   "version": "3.8.8"
  },
  "toc": {
   "base_numbering": 1,
   "nav_menu": {},
   "number_sections": true,
   "sideBar": true,
   "skip_h1_title": false,
   "title_cell": "Table of Contents",
   "title_sidebar": "Contents",
   "toc_cell": false,
   "toc_position": {},
   "toc_section_display": true,
   "toc_window_display": true
  }
 },
 "nbformat": 4,
 "nbformat_minor": 2
}
